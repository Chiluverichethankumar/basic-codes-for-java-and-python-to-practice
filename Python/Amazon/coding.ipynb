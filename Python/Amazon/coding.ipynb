{
 "cells": [
  {
   "cell_type": "markdown",
   "id": "7844e132",
   "metadata": {},
   "source": [
    "1. Two Sum\n",
    "Solved\n",
    "Easy\n",
    "Topics\n",
    "Companies\n",
    "Hint\n",
    "Given an array of integers nums and an integer target, return indices of the two numbers such that they add up to target.\n",
    "\n",
    "You may assume that each input would have exactly one solution, and you may not use the same element twice.\n",
    "\n",
    "You can return the answer in any order.\n",
    "\n",
    " \n",
    "\n",
    "Example 1:\n",
    "\n",
    "Input: nums = [2,7,11,15], target = 9\n",
    "\n",
    "Output: [0,1]\n",
    "Explanation: Because nums[0] + nums[1] == 9, we return [0, 1].\n",
    "\n",
    "Example 2:\n",
    "\n",
    "Input: nums = [3,2,4], target = 6\n",
    "Output: [1,2]\n",
    "\n",
    "Example 3:\n",
    "\n",
    "Input: nums = [3,3], target = 6\n",
    "Output: [0,1]\n",
    " \n",
    "\n",
    "Constraints:\n",
    "\n",
    "2 <= nums.length <= 104\n",
    "-109 <= nums[i] <= 109\n",
    "-109 <= target <= 109\n",
    "Only one valid answer exists.\n",
    " \n",
    "\n",
    "Follow-up: Can you come up with an algorithm that is less than O(n2) time complexity?"
   ]
  },
  {
   "cell_type": "code",
   "execution_count": 18,
   "id": "25e0a343",
   "metadata": {},
   "outputs": [
    {
     "name": "stdout",
     "output_type": "stream",
     "text": [
      "0 1\n"
     ]
    }
   ],
   "source": [
    "num=[2,7,40,15]\n",
    "target=9\n",
    "\n",
    "def twosum(Arr,ter):\n",
    "    for i in range(len(Arr)):\n",
    "        for j in range(i,len(Arr)):\n",
    "            if Arr[i]+Arr[j]==ter:\n",
    "                print(i,j)\n",
    "                break\n",
    "\n",
    "twosum(num,target)\n",
    "\n",
    "        \n"
   ]
  },
  {
   "cell_type": "code",
   "execution_count": null,
   "id": "32433a92",
   "metadata": {},
   "outputs": [],
   "source": []
  },
  {
   "cell_type": "code",
   "execution_count": 101,
   "id": "1e5de3b5",
   "metadata": {},
   "outputs": [
    {
     "name": "stdout",
     "output_type": "stream",
     "text": [
      "(0, 1)\n",
      "(0, 1)\n",
      "(1, 2)\n"
     ]
    }
   ],
   "source": [
    "def twosum(num,target):\n",
    "    for i in range(len(num)):\n",
    "            for j in range(i+1,len(num)):\n",
    "                if num[i]+num[j]==target:\n",
    "                    return i,j\n",
    "    \n",
    "\n",
    "\n",
    "num=[3,3]\n",
    "target=6\n",
    "print(twosum(num,target))\n",
    "\n",
    "num1=[2,7,11,15]\n",
    "ter1=9\n",
    "print(twosum(num1,ter1))\n",
    "\n",
    "num2=[3,2,4]\n",
    "ter2=6\n",
    "print(twosum(num2,ter2))"
   ]
  },
  {
   "cell_type": "code",
   "execution_count": 89,
   "id": "7602258f",
   "metadata": {},
   "outputs": [
    {
     "name": "stdout",
     "output_type": "stream",
     "text": [
      "\n",
      "* \n",
      "* * \n",
      "* * * \n",
      "* * * * \n",
      "* * * * * \n"
     ]
    }
   ],
   "source": [
    "num=5\n",
    "for i in range(0,num+1):\n",
    "    for j in range(i):\n",
    "        print(\"*\",end=\" \")\n",
    "    print()"
   ]
  },
  {
   "cell_type": "markdown",
   "id": "b2f5d0d6",
   "metadata": {},
   "source": [
    "9. Palindrome Number\n",
    "Easy\n",
    "Topics\n",
    "Companies\n",
    "Hint\n",
    "Given an integer x, return true if x is a palindrome, and false otherwise.\n",
    "\n",
    " \n",
    "\n",
    "Example 1:\n",
    "\n",
    "Input: x = 121\n",
    "Output: true\n",
    "Explanation: 121 reads as 121 from left to right and from right to left.\n",
    "Example 2:\n",
    "\n",
    "Input: x = -121\n",
    "Output: false\n",
    "Explanation: From left to right, it reads -121. From right to left, it becomes 121-. Therefore it is not a palindrome.\n",
    "Example 3:\n",
    "\n",
    "Input: x = 10\n",
    "Output: false\n",
    "Explanation: Reads 01 from right to left. Therefore it is not a palindrome.\n",
    " \n",
    "\n",
    "Constraints:\n",
    "\n",
    "-231 <= x <= 231 - 1\n",
    " \n",
    "\n",
    "Follow up: Could you solve it without converting the integer to a string?"
   ]
  },
  {
   "cell_type": "code",
   "execution_count": 117,
   "id": "0a1571c5",
   "metadata": {},
   "outputs": [
    {
     "name": "stdout",
     "output_type": "stream",
     "text": [
      "2120 2120\n",
      "0212\n",
      "True\n"
     ]
    }
   ],
   "source": [
    "num=2120\n",
    "num=str(num)\n",
    "print(num,num1)\n",
    "num1=str(num)\n",
    "print(num1[::-1])\n",
    "num=int(num)\n",
    "num1=int(num1)\n",
    "if num==num1:\n",
    "    print(True)\n",
    "else:\n",
    "    print(False)"
   ]
  },
  {
   "cell_type": "code",
   "execution_count": 127,
   "id": "a400235d",
   "metadata": {},
   "outputs": [
    {
     "name": "stdout",
     "output_type": "stream",
     "text": [
      "<class 'int'> <class 'int'>\n",
      "<class 'str'> <class 'str'>\n",
      "121 121-\n",
      "NO\n"
     ]
    }
   ],
   "source": [
    "num3=121\n",
    "num4=-121\n",
    "print(type(num3),type(num4))\n",
    "num3=str(num3)\n",
    "num4=str(num4)\n",
    "print(type(num3),type(num4))\n",
    "new1=num3[::-1]\n",
    "new2=num4[::-1]\n",
    "print(new1,new2)\n",
    "if num4==new2:\n",
    "    print(\"yes\")\n",
    "else:\n",
    "    print(\"NO\")"
   ]
  },
  {
   "cell_type": "markdown",
   "id": "ca33e699",
   "metadata": {},
   "source": [
    "13. Roman to Integer\n",
    "Easy\n",
    "Topics\n",
    "Companies\n",
    "Hint\n",
    "Roman numerals are represented by seven different symbols: I, V, X, L, C, D and M.\n",
    "\n",
    "Symbol       Value\n",
    "I             1\n",
    "V             5\n",
    "X             10\n",
    "L             50\n",
    "C             100\n",
    "D             500\n",
    "M             1000\n",
    "For example, 2 is written as II in Roman numeral, just two ones added together. 12 is written as XII, which is simply X + II. The number 27 is written as XXVII, which is XX + V + II.\n",
    "\n",
    "Roman numerals are usually written largest to smallest from left to right. However, the numeral for four is not IIII. Instead, the number four is written as IV. Because the one is before the five we subtract it making four. The same principle applies to the number nine, which is written as IX. There are six instances where subtraction is used:\n",
    "\n",
    "I can be placed before V (5) and X (10) to make 4 and 9. \n",
    "X can be placed before L (50) and C (100) to make 40 and 90. \n",
    "C can be placed before D (500) and M (1000) to make 400 and 900.\n",
    "Given a roman numeral, convert it to an integer.\n",
    "\n",
    " \n",
    "\n",
    "Example 1:\n",
    "\n",
    "Input: s = \"III\"\n",
    "Output: 3\n",
    "Explanation: III = 3.\n",
    "Example 2:\n",
    "\n",
    "Input: s = \"LVIII\"\n",
    "Output: 58\n",
    "Explanation: L = 50, V= 5, III = 3.\n",
    "Example 3:\n",
    "\n",
    "Input: s = \"MCMXCIV\"\n",
    "Output: 1994\n",
    "Explanation: M = 1000, CM = 900, XC = 90 and IV = 4.\n",
    " \n",
    "\n",
    "Constraints:\n",
    "\n",
    "1 <= s.length <= 15\n",
    "s contains only the characters ('I', 'V', 'X', 'L', 'C', 'D', 'M').\n",
    "It is guaranteed that s is a valid roman numeral in the range [1, 3999]."
   ]
  },
  {
   "cell_type": "code",
   "execution_count": 8,
   "id": "84e8eb74",
   "metadata": {},
   "outputs": [
    {
     "name": "stdout",
     "output_type": "stream",
     "text": [
      "2\n"
     ]
    }
   ],
   "source": [
    "Dic={'I':1,'V':5,'X':10,'L':50,'C':100,'D':500,'M':1000}\n",
    "print(Dic['I']+Dic['I'])\n"
   ]
  },
  {
   "cell_type": "code",
   "execution_count": 74,
   "id": "fdbc81df",
   "metadata": {},
   "outputs": [
    {
     "name": "stdout",
     "output_type": "stream",
     "text": [
      "['I', 'V', 'X']\n"
     ]
    }
   ],
   "source": [
    "txt='IVX'\n",
    "Li=[]\n",
    "for i in txt:\n",
    "    Li.append(i)\n",
    "print(Li)\n",
    "\n"
   ]
  },
  {
   "cell_type": "code",
   "execution_count": 75,
   "id": "27ce8e0f",
   "metadata": {},
   "outputs": [
    {
     "name": "stdout",
     "output_type": "stream",
     "text": [
      "dict_keys(['I', 'V', 'X', 'L', 'C', 'D', 'M'])\n"
     ]
    }
   ],
   "source": [
    "print(Dic.keys())"
   ]
  },
  {
   "cell_type": "code",
   "execution_count": 76,
   "id": "db797362",
   "metadata": {},
   "outputs": [
    {
     "name": "stdout",
     "output_type": "stream",
     "text": [
      " e 1\n",
      " e 5\n",
      " e 10\n",
      "16\n"
     ]
    }
   ],
   "source": [
    "Add=0\n",
    "for i in Dic.keys():\n",
    "    for j in Li:\n",
    "        if i==j:\n",
    "            Add1=Dic[i]\n",
    "            print(\" e\",Add1)\n",
    "            Add+=Add1\n",
    "           \n",
    "print(Add)\n"
   ]
  },
  {
   "cell_type": "code",
   "execution_count": 48,
   "id": "283e4438",
   "metadata": {},
   "outputs": [
    {
     "name": "stdout",
     "output_type": "stream",
     "text": [
      "1\n",
      "5\n",
      "10\n",
      "50\n",
      "100\n",
      "500\n",
      "1000\n"
     ]
    }
   ],
   "source": [
    "for i in Dic.values():\n",
    "    print(i)"
   ]
  },
  {
   "cell_type": "code",
   "execution_count": 39,
   "id": "afec40ba",
   "metadata": {},
   "outputs": [
    {
     "name": "stdout",
     "output_type": "stream",
     "text": [
      "62\n"
     ]
    }
   ],
   "source": [
    "d = {'key1': 1,'key2': 14,'key3': 47}\n",
    "s = 0\n",
    "for k in d:\n",
    "    s += d[k]\n",
    "\n",
    "print(s)"
   ]
  },
  {
   "cell_type": "code",
   "execution_count": null,
   "id": "bc450420",
   "metadata": {},
   "outputs": [
    {
     "name": "stdout",
     "output_type": "stream",
     "text": [
      "LVIII\n",
      "['L', 'V', 'I', 'I', 'I']\n",
      "58\n"
     ]
    }
   ],
   "source": [
    "Dic={'I':1,'V':5,'X':10,'L':50,'C':100,'D':500,'M':1000}\n",
    "Input=input()\n",
    "print(Input)\n",
    "List=[]\n",
    "for i in Input:\n",
    "    List.append(i)\n",
    "print(List)\n",
    "Add=0\n",
    "for i in Dic.keys():\n",
    "    for j in List:\n",
    "            if Dic[j]==Dic[i]:\n",
    "                Add+=Dic[j]\n",
    "print(Add)\n"
   ]
  },
  {
   "cell_type": "code",
   "execution_count": 111,
   "id": "a319e3e4",
   "metadata": {},
   "outputs": [
    {
     "name": "stdout",
     "output_type": "stream",
     "text": [
      "['I', 'I', 'I']\n",
      "3\n"
     ]
    }
   ],
   "source": [
    "def Roma(Input):\n",
    "    Dic={'I':1,'V':5,'X':10,'L':50,'C':100,'D':500,'M':1000}\n",
    "    List=[]\n",
    "    for i in Input:\n",
    "        List.append(i)\n",
    "    print(List)\n",
    "    Add=0\n",
    "    for i in Dic.keys():\n",
    "        for j in List:\n",
    "                if Dic[j]==Dic[i]:\n",
    "                    Add+=Dic[j]\n",
    "    print(Add)\n",
    "\n",
    "\n",
    "Dic={'I':1,'V':5,'X':10,'L':50,'C':100,'D':500,'M':1000}\n",
    "Input=input()\n",
    "Roma(Input)\n"
   ]
  },
  {
   "cell_type": "code",
   "execution_count": 115,
   "id": "5b94f7ad",
   "metadata": {},
   "outputs": [
    {
     "name": "stdout",
     "output_type": "stream",
     "text": [
      "I\n",
      "I\n",
      "I\n"
     ]
    },
    {
     "data": {
      "text/plain": [
       "3"
      ]
     },
     "execution_count": 115,
     "metadata": {},
     "output_type": "execute_result"
    }
   ],
   "source": [
    "def romanToInt(s):\n",
    "        Dic={'I':1,'V':5,'X':10,'L':50,'C':100,'D':500,'M':1000}\n",
    "        List=[]\n",
    "        Add=0\n",
    "        for i in s:\n",
    "            print(i)\n",
    "            List.append(i)\n",
    "        \n",
    "        for i in Dic.keys():\n",
    "            for j in List:\n",
    "                if Dic[i]==Dic[j]:\n",
    "                    Add+=Dic[j]\n",
    "        return Add\n",
    "\n",
    "Input=input()\n",
    "\n",
    "romanToInt(Input)"
   ]
  },
  {
   "cell_type": "code",
   "execution_count": 117,
   "id": "f6144367",
   "metadata": {},
   "outputs": [
    {
     "name": "stdout",
     "output_type": "stream",
     "text": [
      "I\n",
      "I\n",
      "I\n"
     ]
    },
    {
     "data": {
      "text/plain": [
       "3"
      ]
     },
     "execution_count": 117,
     "metadata": {},
     "output_type": "execute_result"
    }
   ],
   "source": [
    "def romanToInt(s):\n",
    "        Dic={'I':1,'V':5,'X':10,'L':50,'C':100,'D':500,'M':1000}\n",
    "        List=[]\n",
    "        Add=0\n",
    "        for i in s:\n",
    "            print(i)\n",
    "            List.append(i)\n",
    "        \n",
    "        for i in Dic.keys():\n",
    "            for j in List:\n",
    "                if Dic[i]==Dic[j]:\n",
    "                    Add+=Dic[j]\n",
    "        return Add\n",
    "\n",
    "Input=input()\n",
    "\n",
    "romanToInt(Input)"
   ]
  },
  {
   "cell_type": "code",
   "execution_count": 133,
   "id": "775440f8",
   "metadata": {},
   "outputs": [
    {
     "name": "stdout",
     "output_type": "stream",
     "text": [
      "1994\n"
     ]
    }
   ],
   "source": [
    "Dic={'I':1,'V':5,'X':10,'L':50,'C':100,'D':500,'M':1000}\n",
    "Input='MCMXCIV'\n",
    "n=len(Input)\n",
    "total=0\n",
    "\n",
    "for i in range(0,n):\n",
    "    if i<n-1 and Dic[Input[i]]< Dic[Input[i+1]]:\n",
    "        total-=Dic[Input[i]]\n",
    "    else:\n",
    "        total+=Dic[Input[i]]\n",
    "print(total)"
   ]
  },
  {
   "cell_type": "code",
   "execution_count": 31,
   "id": "18aa3872",
   "metadata": {},
   "outputs": [
    {
     "name": "stdout",
     "output_type": "stream",
     "text": [
      "1994\n"
     ]
    }
   ],
   "source": [
    "D={\"I\":1,\"V\":5,\"X\":10,\"L\":50,\"C\":100,\"D\":500,\"M\":1000}\n",
    "In=\"MCMXCIV\"\n",
    "n=len(In)\n",
    "total=0\n",
    "for i in range(n):\n",
    "    if i<n-1 and D[In[i]] < D[In[i+1]]:\n",
    "        total-=D[In[i]]\n",
    "    else:\n",
    "        total+=D[In[i]]\n",
    "print(total)\n"
   ]
  },
  {
   "cell_type": "code",
   "execution_count": 44,
   "id": "0fee8a38",
   "metadata": {},
   "outputs": [
    {
     "name": "stdout",
     "output_type": "stream",
     "text": [
      "\n"
     ]
    }
   ],
   "source": [
    "strs=[\"flower\",\"flow\",\"flight\"]\n",
    "New=\"\"\n",
    "for i in range(len(strs)):\n",
    "    for j in range(i+1,len(strs)):\n",
    "        new1=\"\"\n",
    "        if strs[i] in strs[j]:\n",
    "            for k in range(len(strs[i])):\n",
    "                for l in range(len(strs[j])):\n",
    "                    if strs[i[k]] == strs[j[l]]:\n",
    "                        New.append(strs[i[k]])\n",
    "print(New)\n",
    "        \n",
    "\n",
    "\n"
   ]
  },
  {
   "cell_type": "code",
   "execution_count": 38,
   "id": "e494ed29",
   "metadata": {},
   "outputs": [
    {
     "name": "stdout",
     "output_type": "stream",
     "text": [
      "3\n"
     ]
    }
   ],
   "source": [
    "print(len(strs))"
   ]
  },
  {
   "cell_type": "code",
   "execution_count": 50,
   "id": "4e304f15",
   "metadata": {},
   "outputs": [
    {
     "name": "stdout",
     "output_type": "stream",
     "text": [
      "chetha\n"
     ]
    }
   ],
   "source": [
    "A=\"chethan\"\n",
    "A=A[:-1]\n",
    "print(A)\n"
   ]
  },
  {
   "cell_type": "code",
   "execution_count": 62,
   "id": "1cda2000",
   "metadata": {},
   "outputs": [
    {
     "name": "stdout",
     "output_type": "stream",
     "text": [
      "l\n"
     ]
    }
   ],
   "source": [
    "strs = [\"lowe\", \"low\", \"light\"]\n",
    "\n",
    "if not strs:\n",
    "    print(\"\")\n",
    "else:\n",
    "    p=strs[0]\n",
    "    for i in strs[1:]:\n",
    "        while not i.startswith(p):\n",
    "            p=p[:-1]\n",
    "            if not p:\n",
    "                break\n",
    "    print(p)\n",
    "\n",
    "\n"
   ]
  },
  {
   "cell_type": "code",
   "execution_count": 68,
   "id": "2d80b383",
   "metadata": {},
   "outputs": [
    {
     "name": "stdout",
     "output_type": "stream",
     "text": [
      "fl\n"
     ]
    }
   ],
   "source": [
    "strs = [\"flower\", \"flow\", \"flight\"]\n",
    "\n",
    "if not strs:\n",
    "    print(\"\")\n",
    "else:\n",
    "    prefix = strs[0]\n",
    "    for s in strs[1:]:\n",
    "        while not s.startswith(prefix):\n",
    "            prefix = prefix[:-1]\n",
    "            if not prefix:\n",
    "                break\n",
    "    print(prefix)\n"
   ]
  },
  {
   "cell_type": "code",
   "execution_count": 69,
   "id": "caf03747",
   "metadata": {},
   "outputs": [
    {
     "name": "stdout",
     "output_type": "stream",
     "text": [
      "fl\n"
     ]
    }
   ],
   "source": [
    "strs = [\"flower\", \"flow\", \"flight\"]\n",
    "if not strs:\n",
    "    print(\"j\")\n",
    "else:\n",
    "    p=strs[0]\n",
    "    for i in strs[1:]:\n",
    "        while not i.startswith(p):\n",
    "            p=p[:-1]\n",
    "            if not p:\n",
    "             print(\"\")\n",
    "    print(p)\n"
   ]
  },
  {
   "cell_type": "markdown",
   "id": "d43e9086",
   "metadata": {},
   "source": [
    "14. Longest Common Prefix\n",
    "Solved\n",
    "Easy\n",
    "Topics\n",
    "Companies\n",
    "Write a function to find the longest common prefix string amongst an array of strings.\n",
    "\n",
    "If there is no common prefix, return an empty string \"\".\n",
    "\n",
    " \n",
    "\n",
    "Example 1:\n",
    "\n",
    "Input: strs = [\"flower\",\"flow\",\"flight\"]\n",
    "Output: \"fl\"\n",
    "Example 2:\n",
    "\n",
    "Input: strs = [\"dog\",\"racecar\",\"car\"]\n",
    "Output: \"\"\n",
    "Explanation: There is no common prefix among the input strings.\n",
    " \n",
    "\n",
    "Constraints:\n",
    "\n",
    "1 <= strs.length <= 200\n",
    "0 <= strs[i].length <= 200\n",
    "strs[i] consists of only lowercase English letters if it is non-empty."
   ]
  },
  {
   "cell_type": "code",
   "execution_count": 71,
   "id": "63e37b66",
   "metadata": {},
   "outputs": [
    {
     "name": "stdout",
     "output_type": "stream",
     "text": [
      "fl\n"
     ]
    }
   ],
   "source": [
    "strs = [\"flower\", \"flow\", \"flight\"]\n",
    "def Main(strs):\n",
    "    if not strs:\n",
    "        print(\"E\")\n",
    "    else:\n",
    "        p=strs[0]\n",
    "        for i in strs[1:]:\n",
    "            while not i.startswith(p):\n",
    "                p=p[:-1]\n",
    "                if not p:\n",
    "                    print(\"E\")\n",
    "        print(p)\n",
    "\n",
    "Main(strs)"
   ]
  },
  {
   "cell_type": "markdown",
   "id": "d8dbf1a2",
   "metadata": {},
   "source": [
    "\n",
    "Code\n",
    "\n",
    "\n",
    "Testcase\n",
    "Test Result\n",
    "Test Result\n",
    "20. Valid Parentheses\n",
    "Easy\n",
    "Topics\n",
    "Companies\n",
    "Hint\n",
    "Given a string s containing just the characters '(', ')', '{', '}', '[' and ']', determine if the input string is valid.\n",
    "\n",
    "An input string is valid if:\n",
    "\n",
    "Open brackets must be closed by the same type of brackets.\n",
    "Open brackets must be closed in the correct order.\n",
    "Every close bracket has a corresponding open bracket of the same type.\n",
    " \n",
    "\n",
    "Example 1:\n",
    "\n",
    "Input: s = \"()\"\n",
    "\n",
    "Output: true\n",
    "\n",
    "Example 2:\n",
    "\n",
    "Input: s = \"()[]{}\"\n",
    "\n",
    "Output: true\n",
    "\n",
    "Example 3:\n",
    "\n",
    "Input: s = \"(]\"\n",
    "\n",
    "Output: false\n",
    "\n",
    "Example 4:\n",
    "\n",
    "Input: s = \"([])\"\n",
    "\n",
    "Output: true\n",
    "\n",
    " "
   ]
  },
  {
   "cell_type": "code",
   "execution_count": 72,
   "id": "41b8b506",
   "metadata": {},
   "outputs": [
    {
     "name": "stdout",
     "output_type": "stream",
     "text": [
      "False\n",
      "False\n",
      "False\n",
      "False\n",
      "False\n",
      "False\n",
      "False\n",
      "False\n",
      "False\n",
      "False\n",
      "False\n",
      "False\n",
      "False\n",
      "False\n",
      "False\n"
     ]
    }
   ],
   "source": [
    "text=\"(){}[]\"\n",
    "for i in range(len(text)):\n",
    "    for j in range(i+1,len(text)):\n",
    "        if text[i] in  \"([{\" and text[j] ==\")]}\":\n",
    "            print(True)\n",
    "        else:\n",
    "            print(False)"
   ]
  },
  {
   "cell_type": "code",
   "execution_count": null,
   "id": "127a0fb3",
   "metadata": {},
   "outputs": [],
   "source": []
  }
 ],
 "metadata": {
  "kernelspec": {
   "display_name": "Python 3",
   "language": "python",
   "name": "python3"
  },
  "language_info": {
   "codemirror_mode": {
    "name": "ipython",
    "version": 3
   },
   "file_extension": ".py",
   "mimetype": "text/x-python",
   "name": "python",
   "nbconvert_exporter": "python",
   "pygments_lexer": "ipython3",
   "version": "3.13.0"
  }
 },
 "nbformat": 4,
 "nbformat_minor": 5
}
