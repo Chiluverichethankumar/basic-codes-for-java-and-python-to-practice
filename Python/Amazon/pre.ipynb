{
 "cells": [
  {
   "cell_type": "markdown",
   "id": "bdf156dd",
   "metadata": {},
   "source": [
    " Basic Python Questions\n",
    "Print all even numbers from 1 to 100.\n",
    "\n",
    "Reverse a string.\n",
    "\n",
    "Check if a number is prime.\n",
    "\n",
    "Find the factorial of a number.\n",
    "\n",
    "Count the number of vowels in a string.\n",
    "\n",
    "Write a Fibonacci sequence up to n terms.\n",
    "\n",
    "Check if a string is a palindrome.\n",
    "\n",
    "Find the maximum and minimum in a list.\n",
    "\n",
    "Remove duplicates from a list.\n",
    "\n",
    "Sum of all elements in a list."
   ]
  },
  {
   "cell_type": "code",
   "execution_count": 1,
   "id": "2cc0a1af",
   "metadata": {},
   "outputs": [
    {
     "data": {
      "text/plain": [
       "'nahtehC'"
      ]
     },
     "execution_count": 1,
     "metadata": {},
     "output_type": "execute_result"
    }
   ],
   "source": [
    "# Reverse a string.\n",
    "\n",
    "def rev(txt):\n",
    "    return txt[::-1]\n",
    "\n",
    "rev(\"Chethan\")"
   ]
  },
  {
   "cell_type": "code",
   "execution_count": 4,
   "id": "b3f3c8eb",
   "metadata": {},
   "outputs": [
    {
     "name": "stdout",
     "output_type": "stream",
     "text": [
      "not prime\n"
     ]
    }
   ],
   "source": [
    "# Check if a number is prime.\n",
    "\n",
    "num=10\n",
    "\n",
    "if num<2:\n",
    "    print(\"not a prime\")\n",
    "else:\n",
    "    if num>=2:\n",
    "        for i in range(2,num):\n",
    "            if num%i==0:\n",
    "                print(\"not prime\")\n",
    "                break\n",
    "        else:\n",
    "            print(\"prime\")\n",
    "    else:\n",
    "        print(\"not prime\")\n"
   ]
  },
  {
   "cell_type": "code",
   "execution_count": 16,
   "id": "a25f96bc",
   "metadata": {},
   "outputs": [
    {
     "name": "stdout",
     "output_type": "stream",
     "text": [
      "Prime\n"
     ]
    }
   ],
   "source": [
    "num = 7\n",
    "print(\"Prime\" if num > 1 and all(num % i for i in range(2, int(num ** 0.5) + 1)) else \"Not Prime\")"
   ]
  },
  {
   "cell_type": "code",
   "execution_count": 12,
   "id": "3faf3d73",
   "metadata": {},
   "outputs": [
    {
     "data": {
      "text/plain": [
       "120"
      ]
     },
     "execution_count": 12,
     "metadata": {},
     "output_type": "execute_result"
    }
   ],
   "source": [
    "# Find the factorial of a number.\n",
    "def fact(num):\n",
    "    total=1\n",
    "    for i in range(1,num+1):\n",
    "        total*=i\n",
    "    return total      \n",
    "\n",
    "fact(5)"
   ]
  },
  {
   "cell_type": "code",
   "execution_count": 23,
   "id": "7355f9fb",
   "metadata": {},
   "outputs": [
    {
     "name": "stdout",
     "output_type": "stream",
     "text": [
      "chethankumar\n",
      "4 eaua\n"
     ]
    }
   ],
   "source": [
    "# Count the number of vowels in a string.\n",
    "str=\"Chethan   kumar\"\n",
    "str=str.lower().replace(\" \",\"\")\n",
    "print(str)\n",
    "count=0\n",
    "li=[]\n",
    "\n",
    "for i in str:\n",
    "    if i in \"aeilu\":\n",
    "        count+=1\n",
    "        li.append(i)\n",
    "Str=\"\".join(li)\n",
    "print(count,Str)\n",
    "\n",
    "\n",
    "\n"
   ]
  },
  {
   "cell_type": "code",
   "execution_count": 27,
   "id": "85e67e01",
   "metadata": {},
   "outputs": [
    {
     "name": "stdout",
     "output_type": "stream",
     "text": [
      "Hello hi\n"
     ]
    }
   ],
   "source": [
    "my_list=[\"Hello\",\"hi\"]\n",
    "Str=\" \".join(my_list)\n",
    "print(Str)\n"
   ]
  },
  {
   "cell_type": "code",
   "execution_count": 35,
   "id": "5e0d5f4e",
   "metadata": {},
   "outputs": [
    {
     "name": "stdout",
     "output_type": "stream",
     "text": [
      "1 2 3 4 5\n"
     ]
    }
   ],
   "source": [
    "my_list=[1,2,3,4,5]\n",
    "Num=\" \".join(map(str,my_list))\n",
    "print(Num)"
   ]
  },
  {
   "cell_type": "code",
   "execution_count": null,
   "id": "7d2615fc",
   "metadata": {},
   "outputs": [],
   "source": []
  },
  {
   "cell_type": "code",
   "execution_count": null,
   "id": "9a227e40",
   "metadata": {},
   "outputs": [
    {
     "name": "stdout",
     "output_type": "stream",
     "text": [
      "1 2 3 4\n"
     ]
    }
   ],
   "source": []
  },
  {
   "cell_type": "code",
   "execution_count": 36,
   "id": "e74f2807",
   "metadata": {},
   "outputs": [
    {
     "name": "stdout",
     "output_type": "stream",
     "text": [
      "hello Chethan\n",
      "1 2 3 4\n"
     ]
    }
   ],
   "source": [
    "list1=[\"hello\",\"Chethan\"]\n",
    "Str1=\" \".join(list1)\n",
    "print(Str1)\n",
    "\n",
    "list2=[1,2,3,4]\n",
    "Str2=\" \".join(map(str,list2))\n",
    "print(Str2)\n",
    "\n"
   ]
  },
  {
   "cell_type": "code",
   "execution_count": 46,
   "id": "cb63eea8",
   "metadata": {},
   "outputs": [
    {
     "name": "stdout",
     "output_type": "stream",
     "text": [
      "Chethank\n",
      "<class 'str'>\n",
      "===============\n",
      "23 <class 'int'>\n"
     ]
    }
   ],
   "source": [
    "num=input()\n",
    "print(num)\n",
    "print(type(num))\n",
    "print(\"===============\")\n",
    "num1=int(input())\n",
    "print(num1,type(num1))"
   ]
  },
  {
   "cell_type": "code",
   "execution_count": 37,
   "id": "770fe49d",
   "metadata": {},
   "outputs": [
    {
     "name": "stdout",
     "output_type": "stream",
     "text": [
      "[1, 2, 3, 45]\n"
     ]
    }
   ],
   "source": [
    "num=list(map(int,input().split()))\n",
    "print(num)"
   ]
  },
  {
   "cell_type": "code",
   "execution_count": 56,
   "id": "4760173c",
   "metadata": {},
   "outputs": [
    {
     "name": "stdout",
     "output_type": "stream",
     "text": [
      "['hi', 'hello', 'chethan', 'kumar']\n"
     ]
    }
   ],
   "source": [
    "num1=list(map(str,input().split()))\n",
    "print(num1)"
   ]
  },
  {
   "cell_type": "code",
   "execution_count": 40,
   "id": "63dc7bb6",
   "metadata": {},
   "outputs": [
    {
     "name": "stdout",
     "output_type": "stream",
     "text": [
      "0\n",
      "1\n",
      "1\n",
      "2\n",
      "3\n",
      "5\n",
      "8\n",
      "13\n",
      "21\n",
      "34\n"
     ]
    }
   ],
   "source": [
    "#Write a Fibonacci sequence up to n terms.\n",
    "num=10\n",
    "s=0\n",
    "m=0\n",
    "n=1\n",
    "\n",
    "for i in range(0,num):\n",
    "    s=m+n\n",
    "    print(m)\n",
    "    m=n\n",
    "    n=s\n",
    "\n"
   ]
  },
  {
   "cell_type": "code",
   "execution_count": 41,
   "id": "40e0754f",
   "metadata": {},
   "outputs": [
    {
     "name": "stdout",
     "output_type": "stream",
     "text": [
      "0\n",
      "1\n",
      "1\n",
      "2\n",
      "3\n",
      "5\n",
      "8\n",
      "13\n",
      "21\n",
      "34\n"
     ]
    }
   ],
   "source": [
    "# Program to display the Fibonacci sequence up to n-th term\n",
    "\n",
    "nterms = int(input(\"How many terms? \"))\n",
    "\n",
    "# first two terms\n",
    "n1, n2 = 0, 1\n",
    "count = 0\n",
    "\n",
    "\n",
    "while count < nterms:\n",
    "    print(n1)\n",
    "    nth = n1 + n2\n",
    "    # update values\n",
    "    n1 = n2\n",
    "    n2 = nth\n",
    "    count += 1"
   ]
  },
  {
   "cell_type": "code",
   "execution_count": 42,
   "id": "cd2e6364",
   "metadata": {},
   "outputs": [
    {
     "name": "stdout",
     "output_type": "stream",
     "text": [
      "palindrome\n"
     ]
    }
   ],
   "source": [
    "#Check if a string is a palindrome.\n",
    "Str=\"maam\"\n",
    "new=Str[::-1]\n",
    "if Str==new:\n",
    "    print(\"palindrome\")\n",
    "else:\n",
    "    print(\"not palindrome\")\n"
   ]
  },
  {
   "cell_type": "code",
   "execution_count": null,
   "id": "2a6b89ff",
   "metadata": {},
   "outputs": [
    {
     "name": "stdout",
     "output_type": "stream",
     "text": [
      "not palindrome\n"
     ]
    }
   ],
   "source": [
    "Str=123\n",
    "Str=str(Str)\n",
    "new=Str[::-1]\n",
    "if Str==new:\n",
    "    print(\"palindrome\")\n",
    "else:\n",
    "    print(\"not palindrome\")"
   ]
  },
  {
   "cell_type": "code",
   "execution_count": 79,
   "id": "adb40c29",
   "metadata": {},
   "outputs": [
    {
     "name": "stdout",
     "output_type": "stream",
     "text": [
      "[1, 2, 0, 0, 2]\n"
     ]
    }
   ],
   "source": [
    "Text=20021\n",
    "text=Text\n",
    "new=[]\n",
    "for i in range(0,len(str(Text))):\n",
    "    D=text%10\n",
    "    new.append(D)\n",
    "    text=text//10\n",
    "print(new)\n",
    "\n",
    "\n",
    "\n",
    "\n"
   ]
  },
  {
   "cell_type": "code",
   "execution_count": 80,
   "id": "84fe9f2d",
   "metadata": {},
   "outputs": [
    {
     "name": "stdout",
     "output_type": "stream",
     "text": [
      "<class 'int'>\n",
      "no\n"
     ]
    }
   ],
   "source": [
    "text1=\"\".join(map(str,new))\n",
    "text1=int(text1)\n",
    "print(type(text1))\n",
    "if text1==Text:\n",
    "    print(\"yes\")\n",
    "else:\n",
    "    print(\"no\")\n",
    "\n",
    "\n"
   ]
  },
  {
   "cell_type": "code",
   "execution_count": 109,
   "id": "5d22e7b6",
   "metadata": {},
   "outputs": [
    {
     "name": "stdout",
     "output_type": "stream",
     "text": [
      "20021\n",
      "12002\n"
     ]
    }
   ],
   "source": [
    "print(Text)\n",
    "print(text1)"
   ]
  },
  {
   "cell_type": "code",
   "execution_count": null,
   "id": "0e720a8d",
   "metadata": {},
   "outputs": [
    {
     "name": "stdout",
     "output_type": "stream",
     "text": [
      "56 1\n"
     ]
    },
    {
     "ename": "TypeError",
     "evalue": "'<' not supported between instances of 'str' and 'int'",
     "output_type": "error",
     "traceback": [
      "\u001b[1;31m---------------------------------------------------------------------------\u001b[0m",
      "\u001b[1;31mTypeError\u001b[0m                                 Traceback (most recent call last)",
      "Cell \u001b[1;32mIn[52], line 10\u001b[0m\n\u001b[0;32m      8\u001b[0m     \u001b[38;5;28;01mif\u001b[39;00m Max\u001b[38;5;241m>\u001b[39m\u001b[38;5;28mint\u001b[39m(i):\n\u001b[0;32m      9\u001b[0m         Max\u001b[38;5;241m=\u001b[39mi\n\u001b[1;32m---> 10\u001b[0m     \u001b[38;5;28;01mif\u001b[39;00m \u001b[43mMin\u001b[49m\u001b[38;5;241;43m<\u001b[39;49m\u001b[38;5;28;43mint\u001b[39;49m\u001b[43m(\u001b[49m\u001b[43mi\u001b[49m\u001b[43m)\u001b[49m:\n\u001b[0;32m     11\u001b[0m         Min\u001b[38;5;241m=\u001b[39mi\n\u001b[0;32m     12\u001b[0m \u001b[38;5;28mprint\u001b[39m(Max,Min)\n",
      "\u001b[1;31mTypeError\u001b[0m: '<' not supported between instances of 'str' and 'int'"
     ]
    }
   ],
   "source": []
  },
  {
   "cell_type": "code",
   "execution_count": 68,
   "id": "84f74a23",
   "metadata": {},
   "outputs": [
    {
     "name": "stdout",
     "output_type": "stream",
     "text": [
      "56 1\n"
     ]
    }
   ],
   "source": [
    "List=[1,2,3,4,56,7]\n",
    "# print(max(List1),min(List1))\n",
    "Max2=List[0]\n",
    "Min2=List[0]\n",
    "\n",
    "for i in List:\n",
    "    if Max2<i:\n",
    "        Max2=i\n",
    "    if Min2>i:\n",
    "        Min2=i\n",
    "print(Max2,Min2)\n",
    "\n",
    "\n"
   ]
  },
  {
   "cell_type": "code",
   "execution_count": 43,
   "id": "9786248e",
   "metadata": {},
   "outputs": [
    {
     "name": "stdout",
     "output_type": "stream",
     "text": [
      "423\n",
      "2\n"
     ]
    }
   ],
   "source": [
    "# Find the maximum and minimum in a list.\n",
    "List=[2,3,423,65,7,4]\n",
    "print(max(List))\n",
    "print(min(List))"
   ]
  },
  {
   "cell_type": "code",
   "execution_count": 53,
   "id": "b919f824",
   "metadata": {},
   "outputs": [
    {
     "name": "stdout",
     "output_type": "stream",
     "text": [
      "2 423\n"
     ]
    }
   ],
   "source": [
    "List=[2,3,423,65,7,4]\n",
    "Max1=List[0]\n",
    "Min1=List[0]\n",
    "\n",
    "for i in List:\n",
    "    if Max1>i:\n",
    "        Max1=i\n",
    "    if Min1<i:\n",
    "        Min1=i\n",
    "print(Max1,Min1)"
   ]
  },
  {
   "cell_type": "code",
   "execution_count": 118,
   "id": "b0f6435c",
   "metadata": {},
   "outputs": [
    {
     "name": "stdout",
     "output_type": "stream",
     "text": [
      "423\n"
     ]
    }
   ],
   "source": [
    "List = [2,3,423,65,7,4]  # Example list\n",
    "max_value = List[0]\n",
    "\n",
    "for num in List:\n",
    "    if num > max_value:\n",
    "        max_value = num\n",
    "\n",
    "print(max_value)\n"
   ]
  },
  {
   "cell_type": "code",
   "execution_count": null,
   "id": "eee8486c",
   "metadata": {},
   "outputs": [
    {
     "name": "stdout",
     "output_type": "stream",
     "text": [
      "Min: 2 Max: 423\n"
     ]
    }
   ],
   "source": [
    "List = [2, 3, 423, 65, 7, 4]\n",
    "Max = List[0]\n",
    "Min = List[0]\n",
    "\n",
    "for i in List:\n",
    "    if i > Max:\n",
    "        Max = i\n",
    "    if i < Min:\n",
    "        Min = i\n",
    "\n",
    "print(\"Min:\", Min, \"Max:\", Max)\n",
    "\n",
    "\n",
    "\n"
   ]
  },
  {
   "cell_type": "code",
   "execution_count": 129,
   "id": "17a8e623",
   "metadata": {},
   "outputs": [
    {
     "name": "stdout",
     "output_type": "stream",
     "text": [
      "[33, 11, 44, 22, 55]\n"
     ]
    }
   ],
   "source": [
    "# Remove duplicates from a list.\n",
    "Mylist=[11,11,22,33,33,44,44,55,55]\n",
    "Mylist=set(Mylist)\n",
    "Mylist=list(Mylist)\n",
    "print(Mylist)"
   ]
  },
  {
   "cell_type": "code",
   "execution_count": 139,
   "id": "36c61a65",
   "metadata": {},
   "outputs": [
    {
     "name": "stdout",
     "output_type": "stream",
     "text": [
      "[11, 22, 33, 44, 55]\n"
     ]
    }
   ],
   "source": [
    "# Remove duplicates from a list.\n",
    "Mylist=[11,11,22,33,33,44,44,55,55]\n",
    "Mylist=set(Mylist)\n",
    "Mylist=list(Mylist)\n",
    "Mylist.sort()\n",
    "print(Mylist)"
   ]
  },
  {
   "cell_type": "code",
   "execution_count": 151,
   "id": "6794c303",
   "metadata": {},
   "outputs": [],
   "source": [
    "del sum"
   ]
  },
  {
   "cell_type": "code",
   "execution_count": 152,
   "id": "38d6b396",
   "metadata": {},
   "outputs": [
    {
     "name": "stdout",
     "output_type": "stream",
     "text": [
      "308\n"
     ]
    }
   ],
   "source": [
    "#Sum of all elements in a list.\n",
    "Mylist=[11,11,22,33,33,44,44,55,55]\n",
    "\n",
    "print(sum(Mylist))"
   ]
  },
  {
   "cell_type": "code",
   "execution_count": 154,
   "id": "63932354",
   "metadata": {},
   "outputs": [
    {
     "name": "stdout",
     "output_type": "stream",
     "text": [
      "308\n"
     ]
    }
   ],
   "source": [
    "Sum=0\n",
    "for i in Mylist:\n",
    "    Sum+=i\n",
    "print(Sum)"
   ]
  },
  {
   "cell_type": "code",
   "execution_count": null,
   "id": "af777c3f",
   "metadata": {},
   "outputs": [
    {
     "name": "stdout",
     "output_type": "stream",
     "text": [
      "1 2 3 4 5 6 7 8 9 10 11 12 13 14 15 16 17 18 19 20 21 22 23 24 25 26 27 28 29 30 31 32 33 34 35 36 37 38 39 40 41 42 43 44 45 46 47 48 49 50 51 52 53 54 55 56 57 58 59 60 61 62 63 64 65 66 67 68 69 70 71 72 73 74 75 76 77 78 79 80 81 82 83 84 85 86 87 88 89 90 91 92 93 94 95 96 97 98 99 100 --------------\n",
      "odd : 1 even : 2 odd : 3 even : 4 odd : 5 even : 6 odd : 7 even : 8 odd : 9 even : 10 odd : 11 even : 12 odd : 13 even : 14 odd : 15 even : 16 odd : 17 even : 18 odd : 19 even : 20 odd : 21 even : 22 odd : 23 even : 24 odd : 25 even : 26 odd : 27 even : 28 odd : 29 even : 30 odd : 31 even : 32 odd : 33 even : 34 odd : 35 even : 36 odd : 37 even : 38 odd : 39 even : 40 odd : 41 even : 42 odd : 43 even : 44 odd : 45 even : 46 odd : 47 even : 48 odd : 49 even : 50 odd : 51 even : 52 odd : 53 even : 54 odd : 55 even : 56 odd : 57 even : 58 odd : 59 even : 60 odd : 61 even : 62 odd : 63 even : 64 odd : 65 even : 66 odd : 67 even : 68 odd : 69 even : 70 odd : 71 even : 72 odd : 73 even : 74 odd : 75 even : 76 odd : 77 even : 78 odd : 79 even : 80 odd : 81 even : 82 odd : 83 even : 84 odd : 85 even : 86 odd : 87 even : 88 odd : 89 even : 90 odd : 91 even : 92 odd : 93 even : 94 odd : 95 even : 96 odd : 97 even : 98 odd : 99 even : 100 --------------\n",
      "0\n",
      "--------------\n",
      " not Div by both\n",
      "--------------\n",
      "not\n",
      "--------------\n",
      "15\n",
      "--------------\n",
      "54321\n",
      "--------------\n",
      "olleh\n",
      "--------------\n",
      "10 2\n",
      "--------------\n",
      "Chethan-Kumar\n",
      "--------------\n",
      "hi  heiil\n",
      "--------------\n",
      "[1, 2, 3, 4, 5, 6]\n",
      "--------------\n",
      "[3, 2, 1]\n",
      "--------------\n",
      "36\n"
     ]
    }
   ],
   "source": [
    "# 🔢 Numbers & Math\n",
    "# Print numbers from 1 to 100.\n",
    "\n",
    "for i in range(1,101):\n",
    "    print(i,end=' ')\n",
    "\n",
    "print(\"--------------\")\n",
    "# Print even numbers from 1 to 100.\n",
    "for i in range(1,101):\n",
    "    if i%2==0:\n",
    "        print(\"even :\",i ,end=\" \")\n",
    "    else:\n",
    "        print(\"odd :\", i, end =' ')    \n",
    "\n",
    "# Print odd numbers from 1 to 100.\n",
    "print(\"--------------\")\n",
    "# Check if a number is positive, negative, or zero.\n",
    "num=0\n",
    "if num>0:\n",
    "    print(\"+\")\n",
    "elif num<0:\n",
    "    print(\"-\")\n",
    "else:\n",
    "    print(\"0\")\n",
    "\n",
    "print(\"--------------\")\n",
    "\n",
    "\n",
    "# Check if a number is divisible by 3 and 5.\n",
    "\n",
    "num=4\n",
    "if num%3==0 and num%5==0:\n",
    "    print(\"Div by both 3 and 5\")\n",
    "elif num%3==0:\n",
    "    print(\"only Div bt 3\")\n",
    "elif num%5==0:\n",
    "    print(\"only Div by 5\")\n",
    "else:\n",
    "    print(\" not Div by both\")\n",
    "\n",
    "print(\"--------------\")\n",
    "\n",
    "# Find the factorial of a number.\n",
    "\n",
    "# Generate the Fibonacci sequence up to n terms.\n",
    "\n",
    "# Check if a number is prime.\n",
    "\n",
    "num=18\n",
    "if num<2:\n",
    "    print(\"not\")\n",
    "else:\n",
    "    if num >= 2:\n",
    "        for i in range(2,num):\n",
    "            if num%i==0:\n",
    "                print(\"not\")\n",
    "                break\n",
    "        else:\n",
    "            print(\"p\")\n",
    "    else:\n",
    "        print(\"not\")\n",
    "\n",
    "print(\"--------------\")\n",
    "# Find the sum of digits of a number.\n",
    "num=12345\n",
    "num=str(num)\n",
    "Sum=0\n",
    "for i in num:\n",
    "    Sum+=int(i)\n",
    "print(Sum)\n",
    "print(\"--------------\")   \n",
    "# Reverse a number.\n",
    "print(num[::-1])\n",
    "\n",
    "print(\"--------------\")\n",
    "# 🔤 Strings\n",
    "# Reverse a string.\n",
    "\n",
    "Str=\"hello\"\n",
    "print(Str[::-1])\n",
    "\n",
    "print(\"--------------\")\n",
    "\n",
    "# Check if a string is a palindrome.\n",
    "\n",
    "# Count the number of vowels in a string.\n",
    "\n",
    "# Count the number of words in a string.\n",
    "\n",
    "# Convert a string to uppercase and lowercase.\n",
    "\n",
    "Str=\"Chethan Kumar\"\n",
    "Lo=0\n",
    "Up=0\n",
    "for i in Str:\n",
    "    if i in \"abcdefghijklmnopqrstuvwxyz\":\n",
    "        Lo+=1\n",
    "    if i in \"ABCDEFGHIJKLMNOPQRSTUVWXYZ\":\n",
    "        Up+=1\n",
    "print(Lo,Up)\n",
    "print(\"--------------\")\n",
    "\n",
    "# Replace spaces with hyphens in a string.\n",
    "Str=Str.replace(\" \",\"-\")\n",
    "print(Str)\n",
    "print(\"--------------\")\n",
    "# Remove punctuation from a string.\n",
    "Str=\"hi () hei[]il{}\"\n",
    "Li=list(Str)\n",
    "Li1=[]\n",
    "for i in Li:\n",
    "    if i  not in \"{}[]()\" :\n",
    "        Li1.append(i)\n",
    "\n",
    "Str=\"\".join(Li1)\n",
    "print(Str)\n",
    "print(\"--------------\")\n",
    "# Find the frequency of each character in a string.\n",
    "\n",
    "# Find the longest word in a sentence.\n",
    "\n",
    "# Swap the first and last characters of a string.\n",
    "\n",
    "# 📃 Lists\n",
    "# Find the largest number in a list.\n",
    "\n",
    "# Find the smallest number in a list.\n",
    "\n",
    "# Calculate the sum of all elements in a list.\n",
    "\n",
    "# Remove duplicates from a list.\n",
    "\n",
    "# Sort a list in ascending order.\n",
    "\n",
    "# Count the occurrences of an element in a list.\n",
    "\n",
    "# Merge two lists.\n",
    "L1=[1,2,3]\n",
    "L2=[4,5,6]\n",
    "L3=L1+L2\n",
    "print(L3)\n",
    "print(\"--------------\")\n",
    "# Reverse a list.\n",
    "print(L1[::-1])\n",
    "print(\"--------------\")\n",
    "# Find the second largest element in a list.\n",
    " \n",
    "Li3=[23,34,36,6,2,68,2]\n",
    "Li=set(Li3)\n",
    "Li=list(Li)\n",
    "Li.sort(reverse=True)\n",
    "print(Li[1])\n",
    "\n",
    "\n",
    "\n",
    "# Check if a list is empty.\n",
    "\n",
    "# 🔠 Tuples & Dictionaries\n",
    "# Convert a list to a tuple.\n",
    "\n",
    "# Convert a tuple to a list.\n",
    "\n",
    "# Merge two dictionaries.\n",
    "\n",
    "# Add a new key to a dictionary.\n",
    "\n",
    "# Find the sum of all values in a dictionary.\n",
    "\n",
    "# Check if a key exists in a dictionary.\n",
    "\n",
    "# Sort a dictionary by values.\n",
    "\n",
    "# Count the frequency of items in a list using a dictionary.\n",
    "\n",
    "# Remove a key from a dictionary.\n",
    "\n",
    "# Get all keys and values separately from a dictionary.\n",
    "\n",
    "# 🧮 Loops & Conditions\n",
    "# Print the multiplication table of a number.\n",
    "\n",
    "# Find the greatest of 3 numbers.\n",
    "\n",
    "# Check if a year is a leap year.\n",
    "\n",
    "# Count the number of even and odd numbers in a list.\n",
    "\n",
    "# Display all prime numbers between 1 to 100.\n",
    "\n",
    "# Print a simple pattern using * (triangle or square).\n",
    "\n",
    "# Sum of all even numbers from 1 to 50.\n",
    "\n",
    "# Calculate the power of a number without using **.\n",
    "\n",
    "# Create a countdown from 10 to 1.\n",
    "\n",
    "# Print numbers divisible by 7 but not by 5 between 1 and 100."
   ]
  },
  {
   "cell_type": "code",
   "execution_count": 193,
   "id": "de26b0b2",
   "metadata": {},
   "outputs": [
    {
     "name": "stdout",
     "output_type": "stream",
     "text": [
      "['h', 'e', 'l', 'l', 'o', ' ', 'h', 'i']\n"
     ]
    }
   ],
   "source": [
    "Str=\"hello hi\"\n",
    "Li=list(Str)\n",
    "print(Li)"
   ]
  },
  {
   "cell_type": "code",
   "execution_count": 205,
   "id": "4dff5cf8",
   "metadata": {},
   "outputs": [
    {
     "name": "stdout",
     "output_type": "stream",
     "text": [
      "hi  heiil\n"
     ]
    }
   ],
   "source": [
    "Str=\"hi () hei[]il{}\"\n",
    "Li=list(Str)\n",
    "Li1=[]\n",
    "for i in Li:\n",
    "    if i  not in \"{}[]()\" :\n",
    "        Li1.append(i)\n",
    "\n",
    "Str=\"\".join(Li1)\n",
    "print(Str)"
   ]
  },
  {
   "cell_type": "code",
   "execution_count": 198,
   "id": "004f2438",
   "metadata": {},
   "outputs": [
    {
     "name": "stdout",
     "output_type": "stream",
     "text": [
      "['h', 'i', ' ', ' ', 'h', 'e', 'i', 'i', 'l']\n"
     ]
    }
   ],
   "source": [
    "Str = \"hi () hei[]il{}\"\n",
    "Li = list(Str)  # Convert the string to a list\n",
    "filtered_Li = [char for char in Li if char not in \"{}[]()\"]  # Remove unwanted characters\n",
    "print(filtered_Li)\n"
   ]
  },
  {
   "cell_type": "code",
   "execution_count": 200,
   "id": "d6d1101c",
   "metadata": {},
   "outputs": [
    {
     "name": "stdout",
     "output_type": "stream",
     "text": [
      "['h', 'i', ' ', '(', ')', ' ', 'h', 'e', 'i', '[', ']']\n"
     ]
    }
   ],
   "source": [
    "Str=\"hi () hei[]il{}\"\n",
    "Li=list(Str)\n",
    "for i in Li:\n",
    "    if i  in \"{}[]()\" :\n",
    "        Li.pop()\n",
    "print(Li)"
   ]
  },
  {
   "cell_type": "code",
   "execution_count": null,
   "id": "f140dbf4",
   "metadata": {},
   "outputs": [
    {
     "name": "stdout",
     "output_type": "stream",
     "text": [
      "-inf\n",
      "Second largest element: 60\n"
     ]
    }
   ],
   "source": [
    "List = [10, 20, 35, 50, 35, 60, 70]\n",
    "\n",
    "largest = second_largest = float('-inf')  # Initialize to negative infinity\n",
    "\n",
    "for num in List:\n",
    "    if num > largest:\n",
    "        second_largest = largest\n",
    "        largest = num\n",
    "    elif num > second_largest and num != largest:\n",
    "        second_largest = num\n",
    "\n",
    "print(\"Second largest element:\", second_largest)\n"
   ]
  },
  {
   "cell_type": "code",
   "execution_count": null,
   "id": "c47e901e",
   "metadata": {},
   "outputs": [],
   "source": []
  }
 ],
 "metadata": {
  "kernelspec": {
   "display_name": "Python 3",
   "language": "python",
   "name": "python3"
  },
  "language_info": {
   "codemirror_mode": {
    "name": "ipython",
    "version": 3
   },
   "file_extension": ".py",
   "mimetype": "text/x-python",
   "name": "python",
   "nbconvert_exporter": "python",
   "pygments_lexer": "ipython3",
   "version": "3.13.0"
  }
 },
 "nbformat": 4,
 "nbformat_minor": 5
}
