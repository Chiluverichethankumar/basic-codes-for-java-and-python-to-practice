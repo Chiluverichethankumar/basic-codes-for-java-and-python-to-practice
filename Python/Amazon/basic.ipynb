{
 "cells": [
  {
   "cell_type": "code",
   "execution_count": 247,
   "id": "d408badb",
   "metadata": {},
   "outputs": [
    {
     "name": "stdout",
     "output_type": "stream",
     "text": [
      "Hello, Python!\n",
      "chehtan\n"
     ]
    }
   ],
   "source": [
    "print(\"Hello, Python!\")\n",
    "age=23\n",
    "name='chehtan'\n",
    "print(name)"
   ]
  },
  {
   "cell_type": "code",
   "execution_count": 15,
   "id": "d78baccd",
   "metadata": {},
   "outputs": [
    {
     "name": "stdout",
     "output_type": "stream",
     "text": [
      "e\n",
      "d\n"
     ]
    }
   ],
   "source": [
    "hello=\"hello, world\"\n",
    "print(hello[1])\n",
    "print(hello[-1])"
   ]
  },
  {
   "cell_type": "code",
   "execution_count": 14,
   "id": "e549ba07",
   "metadata": {},
   "outputs": [
    {
     "name": "stdout",
     "output_type": "stream",
     "text": [
      "[1, 2, 3, 4, 5, 6, 7, 8, 9]\n",
      "[1, 2, 3, 4, 5, 6, 7, 8, 9, 2]\n"
     ]
    }
   ],
   "source": [
    "mylist=list(range(1,10))\n",
    "print(mylist)\n",
    "mylist.append(2)\n",
    "print(mylist)"
   ]
  },
  {
   "cell_type": "code",
   "execution_count": 16,
   "id": "bb3a46d6",
   "metadata": {},
   "outputs": [
    {
     "name": "stdout",
     "output_type": "stream",
     "text": [
      "f\n",
      "o\n",
      "o\n"
     ]
    }
   ],
   "source": [
    "for char in \"foo\":\n",
    "    print(char)"
   ]
  },
  {
   "cell_type": "code",
   "execution_count": 57,
   "id": "1b8023b9",
   "metadata": {},
   "outputs": [
    {
     "name": "stdout",
     "output_type": "stream",
     "text": [
      "eth\n",
      "ch\n",
      "ethan kumarch\n",
      "cehnkmr\n"
     ]
    }
   ],
   "source": [
    "String='chethan kumar'\n",
    "print(String[2:5])\n",
    "print(String[0:2])\n",
    "print(String[2:]+String[:2])\n",
    "print(String[::2])\n",
    "\n"
   ]
  },
  {
   "cell_type": "code",
   "execution_count": 86,
   "id": "82ea0197",
   "metadata": {},
   "outputs": [
    {
     "name": "stdout",
     "output_type": "stream",
     "text": [
      "1234123412341234\n",
      "3333\n",
      "4321432143214321\n"
     ]
    }
   ],
   "source": [
    "String='1234'*4\n",
    "print(String)\n",
    "print(String[2::4])\n",
    "print(String[::-1])"
   ]
  },
  {
   "cell_type": "code",
   "execution_count": 87,
   "id": "05a07cfb",
   "metadata": {},
   "outputs": [
    {
     "name": "stdout",
     "output_type": "stream",
     "text": [
      "13\n"
     ]
    }
   ],
   "source": [
    "hello=\"hello, world!\"\n",
    "print(len(hello))"
   ]
  },
  {
   "cell_type": "code",
   "execution_count": 88,
   "id": "6febfaef",
   "metadata": {},
   "outputs": [
    {
     "name": "stdout",
     "output_type": "stream",
     "text": [
      "====+====+====+====+====+====+====+====+\n"
     ]
    }
   ],
   "source": [
    "s=\"====+\"\n",
    "n=8\n",
    "print(s*n)"
   ]
  },
  {
   "cell_type": "code",
   "execution_count": 90,
   "id": "fa0d335e",
   "metadata": {},
   "outputs": [
    {
     "name": "stdout",
     "output_type": "stream",
     "text": [
      "True\n",
      "False\n"
     ]
    }
   ],
   "source": [
    "text=\"hello\"\n",
    "data=\"hi my nameis chethankumar, !hello chethan!\"\n",
    "data1=\"hi my nameis chethankumar, !hi chethan!\"\n",
    "print(text in data)\n",
    "print(text in data1)"
   ]
  },
  {
   "cell_type": "code",
   "execution_count": 107,
   "id": "f8d6acce",
   "metadata": {},
   "outputs": [
    {
     "name": "stdout",
     "output_type": "stream",
     "text": [
      "chethankumar\n",
      "hello, chethan\n",
      "hello  {'chethan'}\n",
      "hello, chethan!\n"
     ]
    }
   ],
   "source": [
    "s='chethan'\n",
    "t=\"kumar\"\n",
    "print(s+t)\n",
    "print(f\"hello, {s}\")\n",
    "print(\"hello \",{s})\n",
    "print(\"hello, %s!\"% s)"
   ]
  },
  {
   "cell_type": "code",
   "execution_count": 112,
   "id": "de445258",
   "metadata": {},
   "outputs": [
    {
     "name": "stdout",
     "output_type": "stream",
     "text": [
      "My name is chethan, I'm 23 \n",
      " My name is John, I'm 36 \n",
      " My name is chetna, I'm 23\n",
      "\n",
      "My name is chethan, I'm 23\n",
      "My name is John, I'm 36\n",
      "My name is chetna, I'm 23\n"
     ]
    }
   ],
   "source": [
    "txt1=\"My name is {fname}, I'm {age}\".format(fname=\"chethan\",age=23)\n",
    "txt2=\"My name is {0}, I'm {1}\".format('John',36)\n",
    "txt3=\"My name is {}, I'm {}\".format(\"chetna\",23)\n",
    "print(txt1,\"\\n\",txt2,'\\n',txt3)\n",
    "print(\"\")\n",
    "print(f\"{txt1}\\n{txt2}\\n{txt3}\")"
   ]
  },
  {
   "cell_type": "code",
   "execution_count": 113,
   "id": "1c48acad",
   "metadata": {},
   "outputs": [
    {
     "name": "stdout",
     "output_type": "stream",
     "text": [
      "chethan kumar\n"
     ]
    }
   ],
   "source": [
    "name=input(\"enter your name:\")\n",
    "print(name)"
   ]
  },
  {
   "cell_type": "code",
   "execution_count": 137,
   "id": "4eab7e5f",
   "metadata": {},
   "outputs": [
    {
     "name": "stdout",
     "output_type": "stream",
     "text": [
      "Jhon Peter Vicky\n",
      "<class 'str'>\n",
      "True\n",
      "text      \n",
      "******test\n",
      "hello*****\n",
      "**hello***\n"
     ]
    }
   ],
   "source": [
    "string1=\" \".join([\"Jhon\",\"Peter\",\"Vicky\"])\n",
    "print(string1)\n",
    "print(type(string1))\n",
    "print(\"Hello, world!\".endswith(\"!\"))\n",
    "print(f'{\"text\":10}')\n",
    "print(f'{\"test\":*>10}')\n",
    "print(f\"{text:*<10}\")\n",
    "print(f\"{text:*^10}\")"
   ]
  },
  {
   "cell_type": "code",
   "execution_count": 145,
   "id": "784de7be",
   "metadata": {},
   "outputs": [
    {
     "name": "stdout",
     "output_type": "stream",
     "text": [
      "1010\n",
      "12\n",
      "c8\n",
      "A\n"
     ]
    }
   ],
   "source": [
    "print(f\"{10:b}\")\n",
    "print(f\"{10:o}\")\n",
    "print(f\"{200:x}\")\n",
    "print(f\"{65:c}\")\n"
   ]
  },
  {
   "cell_type": "code",
   "execution_count": 156,
   "id": "75ca462d",
   "metadata": {},
   "outputs": [
    {
     "name": "stdout",
     "output_type": "stream",
     "text": [
      "[]\n",
      "<class 'list'>\n",
      "[4, 5, 6]\n",
      "<class 'list'>\n",
      "[1, 2, 3]\n",
      "<class 'list'>\n",
      "[1, 2, 3, 4, 5, 6, 7, 8, 9, 10]\n",
      "[1, 2, 3, 4, 5, 6, 7, 8, 9, 10]\n",
      "[1, 3, 5, 7, 9, 11, 13, 15, 17, 19]\n"
     ]
    }
   ],
   "source": [
    "#list\n",
    "li1=[]\n",
    "print(li1)\n",
    "print(type(li1))\n",
    "li2=[4,5,6]\n",
    "print(li2)\n",
    "print(type(li2))\n",
    "li3=list((1,2,3))\n",
    "print(li3)\n",
    "print(type(li3))\n",
    "li4=list(range(1,11))\n",
    "print(li4)\n",
    "li5=list(range(1,11))\n",
    "print(li5)\n",
    "li6=list(filter(lambda x:x % 2==1, range(1,20)))\n",
    "print(li6)"
   ]
  },
  {
   "cell_type": "code",
   "execution_count": 166,
   "id": "2fab69eb",
   "metadata": {},
   "outputs": [
    {
     "name": "stdout",
     "output_type": "stream",
     "text": [
      "4\n"
     ]
    },
    {
     "data": {
      "text/plain": [
       "6"
      ]
     },
     "execution_count": 166,
     "metadata": {},
     "output_type": "execute_result"
    }
   ],
   "source": [
    "#lambda\n",
    "add = lambda x,y:x+y\n",
    "print(add(2,2))\n",
    "\n",
    "def add1(x,y):\n",
    "    return x+y\n",
    "add1(2,4)"
   ]
  },
  {
   "cell_type": "code",
   "execution_count": null,
   "id": "be5695db",
   "metadata": {},
   "outputs": [
    {
     "name": "stdout",
     "output_type": "stream",
     "text": [
      "6\n",
      "64\n",
      "['kumar', 'chethn', 'chethan', 'chiluveri']\n",
      "[1, 4, 9, 16]\n",
      "[2, 4]\n"
     ]
    }
   ],
   "source": [
    "add2=lambda x,y:x+y\n",
    "print(add2(2,4))\n",
    "\n",
    "square=lambda x:x*x\n",
    "print(square(8))\n",
    "\n",
    "# sorted(iterable, key=function)\n",
    "names=[\"chethan\",\"chethn\",\"kumar\",\"chiluveri\"]\n",
    "Sortedlist=sorted(names,key=lambda x:len(x))\n",
    "print(Sortedlist)\n",
    "\n",
    "# map(function, iterable)\n",
    "nums=[1,2,3,4]\n",
    "squarenumbers=list(map(lambda x:x*x,nums))\n",
    "print(squarenumbers)\n",
    "\n",
    "#filter(function, iterable)\n",
    "num1=[1,2,3,4,5]\n",
    "even=list(filter(lambda x:x % 2==0, num1 ))\n",
    "print(even)"
   ]
  },
  {
   "cell_type": "code",
   "execution_count": null,
   "id": "6c9095ea",
   "metadata": {},
   "outputs": [
    {
     "name": "stdout",
     "output_type": "stream",
     "text": [
      "[0, 2, 4, 6, 8, 10, 12, 14, 16, 18]\n",
      "[1, 3, 5, 7, 9, 11, 13, 15, 17, 19]\n"
     ]
    }
   ],
   "source": [
    "\n",
    "num=list(range(0,20))\n",
    "even=[]\n",
    "odd=[]\n",
    "for i in num:\n",
    "    if i % 2==0:\n",
    "        even.append(i)\n",
    "    else:\n",
    "        odd.append(i)\n",
    "print(f\"{even}\\n{odd}\")   \n",
    "\n"
   ]
  },
  {
   "cell_type": "code",
   "execution_count": 208,
   "id": "e7f87fd5",
   "metadata": {},
   "outputs": [
    {
     "name": "stdout",
     "output_type": "stream",
     "text": [
      "[0, 2, 4, 6, 8, 10, 12, 14, 16, 18]\n",
      "[1, 3, 5, 7, 9, 11, 13, 15, 17, 19]\n"
     ]
    }
   ],
   "source": [
    "even=list(filter(lambda x:x%2==0,num))\n",
    "odd=list(filter(lambda x:x%2!=0,num))\n",
    "print(even)\n",
    "print(odd)"
   ]
  },
  {
   "cell_type": "code",
   "execution_count": 209,
   "id": "17a7a56d",
   "metadata": {},
   "outputs": [
    {
     "name": "stdout",
     "output_type": "stream",
     "text": [
      "[0, 1, 4, 9, 16, 25, 36, 49, 64, 81, 100, 121, 144, 169, 196, 225, 256, 289, 324, 361]\n"
     ]
    }
   ],
   "source": [
    "num2=[]\n",
    "for i in num:\n",
    "    num2.append(i**2)\n",
    "print(num2)\n"
   ]
  },
  {
   "cell_type": "code",
   "execution_count": 212,
   "id": "0cf83f86",
   "metadata": {},
   "outputs": [
    {
     "data": {
      "text/plain": [
       "[0,\n",
       " 1,\n",
       " 4,\n",
       " 9,\n",
       " 16,\n",
       " 25,\n",
       " 36,\n",
       " 49,\n",
       " 64,\n",
       " 81,\n",
       " 100,\n",
       " 121,\n",
       " 144,\n",
       " 169,\n",
       " 196,\n",
       " 225,\n",
       " 256,\n",
       " 289,\n",
       " 324,\n",
       " 361]"
      ]
     },
     "execution_count": 212,
     "metadata": {},
     "output_type": "execute_result"
    }
   ],
   "source": [
    "sq=list(map(lambda x:x**2,num)) \n",
    "sq"
   ]
  },
  {
   "cell_type": "code",
   "execution_count": null,
   "id": "01813724",
   "metadata": {},
   "outputs": [
    {
     "name": "stdout",
     "output_type": "stream",
     "text": [
      "[0, 2, 4, 6, 8, 10, 12, 14, 16, 18]\n"
     ]
    }
   ],
   "source": [
    "num3=list(range(0,10))\n",
    "print(list(map(lambda x:x*2,num3)))"
   ]
  },
  {
   "cell_type": "code",
   "execution_count": 227,
   "id": "2c4f297a",
   "metadata": {},
   "outputs": [
    {
     "name": "stdout",
     "output_type": "stream",
     "text": [
      "[1, 3, 5, 7, 9, 11, 13, 15, 17, 19]\n"
     ]
    }
   ],
   "source": [
    "odd=list(filter(lambda x:x%2 == 1, range(0,21)))\n",
    "print(odd)"
   ]
  },
  {
   "cell_type": "code",
   "execution_count": 228,
   "id": "459d73c4",
   "metadata": {},
   "outputs": [
    {
     "name": "stdout",
     "output_type": "stream",
     "text": [
      "[0, 2, 4, 6, 8, 10]\n"
     ]
    }
   ],
   "source": [
    "evenlist=list(filter(lambda x:x%2==0,range(0,11)))\n",
    "print(evenlist)"
   ]
  },
  {
   "cell_type": "code",
   "execution_count": 231,
   "id": "b3f13d2d",
   "metadata": {},
   "outputs": [
    {
     "name": "stdout",
     "output_type": "stream",
     "text": [
      "[0, 4, 16, 36, 64, 100]\n"
     ]
    }
   ],
   "source": [
    "evenlistc=[x**2 for x in range(0,11) if x%2==0]\n",
    "print(evenlistc)"
   ]
  },
  {
   "cell_type": "code",
   "execution_count": 225,
   "id": "813982aa",
   "metadata": {},
   "outputs": [
    {
     "name": "stdout",
     "output_type": "stream",
     "text": [
      "[4, 16, 36, 64, 100]\n"
     ]
    }
   ],
   "source": [
    "oddsq=[x ** 2  for x in range (1 ,11) if x % 2 == 0 ]\n",
    "print(oddsq)"
   ]
  },
  {
   "cell_type": "code",
   "execution_count": 233,
   "id": "d5fcb303",
   "metadata": {},
   "outputs": [
    {
     "name": "stdout",
     "output_type": "stream",
     "text": [
      "['hello', 'gadwal', 'chethan', 'Array']\n"
     ]
    }
   ],
   "source": [
    "listname=['hi','hello','gadwal','chethan','good','Array']\n",
    "logname=[x for x in listname if len(x)>4]\n",
    "print(logname)"
   ]
  },
  {
   "cell_type": "code",
   "execution_count": 236,
   "id": "3c2276d8",
   "metadata": {},
   "outputs": [
    {
     "name": "stdout",
     "output_type": "stream",
     "text": [
      "['hello', 'gadwal', 'chethan', 'Array']\n"
     ]
    }
   ],
   "source": [
    "listname=['hi','hello','gadwal','chethan','good','Array']\n",
    "longer=list(filter(lambda x:len(x)>4,listname))\n",
    "print(longer)"
   ]
  },
  {
   "cell_type": "code",
   "execution_count": 242,
   "id": "262a88cf",
   "metadata": {},
   "outputs": [
    {
     "name": "stdout",
     "output_type": "stream",
     "text": [
      "['HELLO', 'GADWAL', 'CHETHAN', 'ARRAY']\n"
     ]
    }
   ],
   "source": [
    "listname=['hi','hello','gadwal','chethan','good','Array']\n",
    "uppler_list=[x.upper() for x in listname if len(x) > 4]\n",
    "print(uppler_list)"
   ]
  },
  {
   "cell_type": "code",
   "execution_count": 244,
   "id": "b1a243bb",
   "metadata": {},
   "outputs": [
    {
     "name": "stdout",
     "output_type": "stream",
     "text": [
      "['hi', 'HELLO', 'GADWAL', 'CHETHAN', 'GOOD', 'ARRAY']\n"
     ]
    }
   ],
   "source": [
    "listname=['hi','hello','gadwal','chethan','good','Array']\n",
    "uppler_list=[x.upper() if len(x)>3 else x for x in listname]\n",
    "print(uppler_list)"
   ]
  },
  {
   "cell_type": "code",
   "execution_count": 246,
   "id": "6b766cd3",
   "metadata": {},
   "outputs": [
    {
     "name": "stdout",
     "output_type": "stream",
     "text": [
      "['hi', 'HELLO', 'GADWAL', 'CHETHAN', 'GOOD', 'ARRAY']\n"
     ]
    }
   ],
   "source": [
    "list3=[]\n",
    "for i in listname:\n",
    "    if len(i)>3:\n",
    "        list3.append(i.upper())\n",
    "    else:\n",
    "        list3.append(i)\n",
    "print(list3)\n"
   ]
  },
  {
   "cell_type": "code",
   "execution_count": 256,
   "id": "86cc975e",
   "metadata": {},
   "outputs": [
    {
     "name": "stdout",
     "output_type": "stream",
     "text": [
      "CHETHAN\n",
      "6\n"
     ]
    }
   ],
   "source": [
    "hi=\"chethan\"\n",
    "print(hi.upper())\n",
    "print(len(a))"
   ]
  },
  {
   "cell_type": "code",
   "execution_count": 267,
   "id": "372689e2",
   "metadata": {},
   "outputs": [
    {
     "name": "stdout",
     "output_type": "stream",
     "text": [
      "['bacon', 'tomato', 'ham']\n",
      "['egg', 'bacon', 'tomato']\n",
      "['bacon', 'tomato', 'ham', 'lobster']\n",
      "['bacon', 'tomato', 'ham', 'lobster']\n",
      "['spam', 'egg', 'bacon', 'tomato', 'ham', 'lobster']\n",
      "['spam', 'egg', 'bacon', 'tomato', 'ham', 'lobster']\n",
      "['spam', 'bacon', 'ham']\n",
      "['egg', 'tomato', 'lobster']\n",
      "['lobster', 'tomato', 'egg']\n",
      "['spam', 'egg', 'bacon', 'tomato', 'ham', 'lobster']\n",
      "['lobster', 'ham', 'tomato', 'bacon', 'egg', 'spam']\n"
     ]
    }
   ],
   "source": [
    "a = ['spam', 'egg', 'bacon', 'tomato', 'ham', 'lobster']\n",
    "print(a[2:5])\n",
    "print(a[-5:-2])\n",
    "print(a[2:])\n",
    "print(a[2:len(a)])\n",
    "print(a)\n",
    "print(a[:])\n",
    "print(a[0:6:2])\n",
    "print(a[1:6:2])\n",
    "print(a[6:0:-2])\n",
    "print(a)\n",
    "print(a[::-1])"
   ]
  },
  {
   "cell_type": "code",
   "execution_count": 273,
   "id": "7f0a7d1c",
   "metadata": {},
   "outputs": [
    {
     "name": "stdout",
     "output_type": "stream",
     "text": [
      "['bread', 'butter']\n",
      "['butter']\n",
      "[1, 3, 5, 9, 11, 13]\n"
     ]
    }
   ],
   "source": [
    "li=['bread',\"butter\",\"milk\"]\n",
    "li.pop()\n",
    "\n",
    "print(li)\n",
    "del li[0]\n",
    "print(li)\n",
    "odd=[1,3,5]\n",
    "odd.extend([9,11,13])\n",
    "print(odd)\n"
   ]
  },
  {
   "cell_type": "code",
   "execution_count": 307,
   "id": "27cf0163",
   "metadata": {},
   "outputs": [
    {
     "name": "stdout",
     "output_type": "stream",
     "text": [
      "[1, 2, 4, 4, 5, 5, 5]\n",
      "[5, 5, 5, 4, 4, 2, 1]\n",
      "1\n",
      "{1, 2, 4, 5}\n",
      "[5, 5, 5, 4, 4, 2, 1]\n",
      "-------\n",
      "[3, 3, 3, 2, 2, 1, 1]\n"
     ]
    }
   ],
   "source": [
    "li=[4,4,2,5,5,5,1]\n",
    "li.sort()\n",
    "print(li)\n",
    "li.reverse()\n",
    "print(li)\n",
    "print(li.count(1))\n",
    "li1=set(li)\n",
    "print(li1)\n",
    "# li.sort()\n",
    "print(li)\n",
    "count=[]\n",
    "print(\"-------\")\n",
    "num=1\n",
    "for i in range(len(li)):\n",
    "    count.append(li.count(li[i]))\n",
    "print(count)"
   ]
  },
  {
   "cell_type": "code",
   "execution_count": 310,
   "id": "578432a1",
   "metadata": {},
   "outputs": [
    {
     "name": "stdout",
     "output_type": "stream",
     "text": [
      "{1, 2, 4, 5}\n",
      "[1, 1, 2, 3]\n"
     ]
    }
   ],
   "source": [
    "li = [4, 4, 2, 5, 5, 5, 1]\n",
    "sortedlist=set(sorted(li))\n",
    "print(sortedlist)\n",
    "count1=[]\n",
    "for i in sortedlist:\n",
    "    count1.append(li.count(i))\n",
    "print(count1)"
   ]
  },
  {
   "cell_type": "code",
   "execution_count": 311,
   "id": "5bc03fc1",
   "metadata": {},
   "outputs": [
    {
     "name": "stdout",
     "output_type": "stream",
     "text": [
      "{1, 2, 4, 5}\n",
      "[1, 1, 2, 3]\n"
     ]
    }
   ],
   "source": [
    "count2=[li.count(i) for i in sortedlist]\n",
    "print(sortedlist)\n",
    "print(count2)"
   ]
  },
  {
   "cell_type": "code",
   "execution_count": 312,
   "id": "9ab51eca",
   "metadata": {},
   "outputs": [
    {
     "name": "stdout",
     "output_type": "stream",
     "text": [
      "the number : 5 < 10\n"
     ]
    }
   ],
   "source": [
    "num =5\n",
    "if num>10:\n",
    "    print(f\"the number : {num} > 10\")\n",
    "elif num<10:\n",
    "    print(f\"the number : {num} < 10\")\n",
    "else:\n",
    "    print(f\"the number : {num} = 10\")"
   ]
  },
  {
   "cell_type": "code",
   "execution_count": 316,
   "id": "6f819299",
   "metadata": {},
   "outputs": [
    {
     "name": "stdout",
     "output_type": "stream",
     "text": [
      "b\n",
      "Value is True\n"
     ]
    }
   ],
   "source": [
    "a=10\n",
    "b=20\n",
    "r='a' if a > b else \"b\"\n",
    "print(r)\n",
    "\n",
    "value = True \n",
    "if not value:\n",
    "    print(\"value is false\")\n",
    "elif value is None:\n",
    "    print(\"Value is None\")\n",
    "else:\n",
    "    print(\"Value is True\")"
   ]
  },
  {
   "cell_type": "code",
   "execution_count": 319,
   "id": "a7bbd751",
   "metadata": {},
   "outputs": [
    {
     "name": "stdout",
     "output_type": "stream",
     "text": [
      "2\n",
      "3\n",
      "5\n",
      "7\n"
     ]
    }
   ],
   "source": [
    "prime=[2,3,5,7]\n",
    "for  i in prime:\n",
    "    print(i)"
   ]
  },
  {
   "cell_type": "code",
   "execution_count": 320,
   "id": "fa96386f",
   "metadata": {},
   "outputs": [
    {
     "name": "stdout",
     "output_type": "stream",
     "text": [
      "0 dog\n",
      "1 cat\n",
      "2 mouse\n"
     ]
    }
   ],
   "source": [
    "animals=[\"dog\",\"cat\",\"mouse\"]\n",
    "for i, value in enumerate(animals):\n",
    "    print(i,value)"
   ]
  },
  {
   "cell_type": "code",
   "execution_count": 323,
   "id": "9332af36",
   "metadata": {},
   "outputs": [
    {
     "name": "stdout",
     "output_type": "stream",
     "text": [
      "0\n",
      "1\n",
      "2\n",
      "3\n"
     ]
    }
   ],
   "source": [
    "x=0\n",
    "while x<4:\n",
    "    print(x)\n",
    "    x+=1"
   ]
  },
  {
   "cell_type": "code",
   "execution_count": 327,
   "id": "7752d7da",
   "metadata": {},
   "outputs": [
    {
     "name": "stdout",
     "output_type": "stream",
     "text": [
      "0\n",
      "10\n",
      "20\n",
      "30\n",
      "40\n"
     ]
    }
   ],
   "source": [
    "x=0\n",
    "for i in range(10):\n",
    "    m=i*10\n",
    "    if i == 5:\n",
    "        break\n",
    "    print(m)"
   ]
  },
  {
   "cell_type": "code",
   "execution_count": 333,
   "id": "923c16b7",
   "metadata": {},
   "outputs": [
    {
     "name": "stdout",
     "output_type": "stream",
     "text": [
      "40\n",
      "60\n",
      "70\n"
     ]
    }
   ],
   "source": [
    "for i in range(4,8):\n",
    "    x=i*10\n",
    "    if i ==5:\n",
    "        # break\n",
    "        continue\n",
    "    print(x)"
   ]
  },
  {
   "cell_type": "code",
   "execution_count": 8,
   "id": "b2a1e7a2",
   "metadata": {},
   "outputs": [
    {
     "name": "stdout",
     "output_type": "stream",
     "text": [
      "chiluveri : 1 : chiluveri : 1\n",
      "chethan : 2 : chethan : 2\n",
      "kumar : 3 : kumar : 3\n"
     ]
    }
   ],
   "source": [
    "names=[\"chiluveri\",\"chethan\",\"kumar\"]\n",
    "num=[1,2,3]\n",
    "names1=[\"chiluveri\",\"chethan\",\"kumar\"]\n",
    "num1=[1,2,3]\n",
    "\n",
    "for i,j,i1,j1 in zip(names,num,names1,num1):\n",
    "    print(f\"{i} : {j} : {i1} : {j1}\")\n",
    "    # print('%d:%s, ' %(i, j))"
   ]
  },
  {
   "cell_type": "code",
   "execution_count": 9,
   "id": "2b935ab4",
   "metadata": {},
   "outputs": [
    {
     "name": "stdout",
     "output_type": "stream",
     "text": [
      "[('Mon', 1), ('Tue', 2), ('Wed', 3)]\n",
      "1:Mon \n",
      "2:Tue \n",
      "3:Wed \n",
      "chethan is 10 years old.\n",
      "kumar is 20 years old.\n",
      "sai is 22 years old.\n"
     ]
    }
   ],
   "source": [
    "words = ['Mon', 'Tue', 'Wed']\n",
    "nums = [1, 2, 3]\n",
    "# Use zip to pack into a tuple list\n",
    "\n",
    "data=list(zip(words,nums))\n",
    "print(data)\n",
    "\n",
    "for w, n in zip(words, nums):\n",
    "    print('%d:%s ' %(n, w))\n",
    "\n",
    "names=[\"chethan\",\"kumar\",\"sai\"]\n",
    "age=[10,20,22]\n",
    "\n",
    "for i ,j in zip(names,age):\n",
    "    print(f\"{i} is {j} years old.\")"
   ]
  },
  {
   "cell_type": "code",
   "execution_count": 4,
   "id": "479485a7",
   "metadata": {},
   "outputs": [
    {
     "name": "stdout",
     "output_type": "stream",
     "text": [
      "0\n",
      "1\n",
      "2\n",
      "3\n",
      "--------------\n",
      "4\n",
      "5\n",
      "6\n",
      "7\n",
      "-----------\n",
      "4\n",
      "6\n",
      "8\n"
     ]
    }
   ],
   "source": [
    "for i in range(4):\n",
    "    print(i)\n",
    "print(\"--------------\")\n",
    "\n",
    "for i in range(4,8):\n",
    "    print(i)\n",
    "print(\"-----------\")\n",
    "\n",
    "for i in range(4,10,2):\n",
    "    print(i)"
   ]
  },
  {
   "cell_type": "code",
   "execution_count": 14,
   "id": "f7ef6e45",
   "metadata": {},
   "outputs": [
    {
     "name": "stdout",
     "output_type": "stream",
     "text": [
      "110 is bigger than 100\n"
     ]
    }
   ],
   "source": [
    "nums = [60, 70, 30, 110, 90]\n",
    "for n in nums:\n",
    "    if n > 100:\n",
    "        print(\"%d is bigger than 100\" %n)\n",
    "        break\n",
    "else:\n",
    "    print(\"Not found!\")\n",
    "\n"
   ]
  },
  {
   "cell_type": "code",
   "execution_count": 15,
   "id": "a2e6276d",
   "metadata": {},
   "outputs": [
    {
     "name": "stdout",
     "output_type": "stream",
     "text": [
      "count = 0\n",
      "count = 1\n",
      "count = 2\n",
      "Loop finished without break\n"
     ]
    }
   ],
   "source": [
    "count = 0\n",
    "while count < 3:\n",
    "    print(\"count =\", count)\n",
    "    if count == 4:\n",
    "        print(\"Breaking the loop!\")\n",
    "        break\n",
    "    count += 1\n",
    "else:\n",
    "    print(\"Loop finished without break\")\n"
   ]
  },
  {
   "cell_type": "code",
   "execution_count": 18,
   "id": "68d37da8",
   "metadata": {},
   "outputs": [
    {
     "name": "stdout",
     "output_type": "stream",
     "text": [
      "hello world!\n"
     ]
    }
   ],
   "source": [
    "def hello_world():\n",
    "    print(\"hello world!\")\n",
    "\n",
    "hello_world()"
   ]
  },
  {
   "cell_type": "code",
   "execution_count": 21,
   "id": "fd9ae440",
   "metadata": {},
   "outputs": [
    {
     "name": "stdout",
     "output_type": "stream",
     "text": [
      "x is 5, y is 6\n"
     ]
    },
    {
     "data": {
      "text/plain": [
       "11"
      ]
     },
     "execution_count": 21,
     "metadata": {},
     "output_type": "execute_result"
    }
   ],
   "source": [
    "def add(x,y):\n",
    "    print(f\"x is {x}, y is {y}\")\n",
    "    return x+y\n",
    "add(5,6)"
   ]
  },
  {
   "cell_type": "code",
   "execution_count": null,
   "id": "ccd1964b",
   "metadata": {},
   "outputs": [
    {
     "data": {
      "text/plain": [
       "(1, 2, 3, 4, 5, 6, 7, 78)"
      ]
     },
     "execution_count": 22,
     "metadata": {},
     "output_type": "execute_result"
    }
   ],
   "source": [
    "def numbers(*num):\n",
    "    return num\n",
    "\n",
    "numbers(1,2,3,4,5,6,7,78)\n"
   ]
  },
  {
   "cell_type": "code",
   "execution_count": 30,
   "id": "4c2da53e",
   "metadata": {},
   "outputs": [
    {
     "data": {
      "text/plain": [
       "['1 odd',\n",
       " '2 even',\n",
       " '3 odd',\n",
       " '4 even',\n",
       " '5 odd',\n",
       " '6 even',\n",
       " '7 odd',\n",
       " '8 even',\n",
       " '9 odd']"
      ]
     },
     "execution_count": 30,
     "metadata": {},
     "output_type": "execute_result"
    }
   ],
   "source": [
    "def even(*num):\n",
    "    return [f\"{n} even\"  if n%2==0 else  f\"{n} odd\" for n in num]\n",
    "even(1,2,3,4,5,6,7,8,9)"
   ]
  },
  {
   "cell_type": "code",
   "execution_count": 37,
   "id": "d7264f83",
   "metadata": {},
   "outputs": [
    {
     "name": "stdout",
     "output_type": "stream",
     "text": [
      "50\n"
     ]
    },
    {
     "data": {
      "text/plain": [
       "{'big': 'foot', 'loch': 'ness', 'num': 20, 'num1': 30}"
      ]
     },
     "execution_count": 37,
     "metadata": {},
     "output_type": "execute_result"
    }
   ],
   "source": [
    "def ketword_ages(**kwargs):\n",
    "    add=kwargs[\"num\"]+kwargs[\"num1\"]\n",
    "    print(add)\n",
    "    return kwargs\n",
    "\n",
    "ketword_ages(big=\"foot\",loch=\"ness\",num=20,num1=30)"
   ]
  },
  {
   "cell_type": "code",
   "execution_count": 38,
   "id": "bd6558a6",
   "metadata": {},
   "outputs": [
    {
     "name": "stdout",
     "output_type": "stream",
     "text": [
      "20 10\n"
     ]
    }
   ],
   "source": [
    "x=10\n",
    "y=20\n",
    "z=0\n",
    "z=x\n",
    "x=y\n",
    "y=z\n",
    "print(x,y)"
   ]
  },
  {
   "cell_type": "code",
   "execution_count": 55,
   "id": "dbdec3a8",
   "metadata": {},
   "outputs": [
    {
     "name": "stdout",
     "output_type": "stream",
     "text": [
      "20 10\n"
     ]
    }
   ],
   "source": [
    "def swap(x,y):\n",
    "    return y,x\n",
    "\n",
    "x=10\n",
    "y=20\n",
    "\n",
    "x,y=swap(x,y)\n",
    "\n",
    "print(x,y)\n"
   ]
  },
  {
   "cell_type": "code",
   "execution_count": 57,
   "id": "c6fdb907",
   "metadata": {},
   "outputs": [
    {
     "name": "stdout",
     "output_type": "stream",
     "text": [
      "15\n",
      "25\n"
     ]
    }
   ],
   "source": [
    "def add(x,y=10):\n",
    "    return x+y\n",
    "print(add(5))\n",
    "print(add(5,20))"
   ]
  },
  {
   "cell_type": "code",
   "execution_count": 63,
   "id": "971b1bbc",
   "metadata": {},
   "outputs": [
    {
     "name": "stdout",
     "output_type": "stream",
     "text": [
      "True\n",
      "5\n"
     ]
    }
   ],
   "source": [
    "print((lambda x:x>2)(3))\n",
    "print((lambda x,y : x **2 +y **2)(2,1))"
   ]
  },
  {
   "cell_type": "code",
   "execution_count": 66,
   "id": "51745e48",
   "metadata": {},
   "outputs": [
    {
     "data": {
      "text/plain": [
       "12"
      ]
     },
     "execution_count": 66,
     "metadata": {},
     "output_type": "execute_result"
    }
   ],
   "source": [
    "def num(*var):\n",
    "    total=lambda x,y:x*y+y+10-x*2\n",
    "    return total(var[0],var[1])\n",
    "num(1,2)"
   ]
  },
  {
   "cell_type": "code",
   "execution_count": 74,
   "id": "5b3af178",
   "metadata": {},
   "outputs": [
    {
     "name": "stdout",
     "output_type": "stream",
     "text": [
      "4.0\n",
      "4\n",
      "3\n",
      "True\n"
     ]
    },
    {
     "data": {
      "text/plain": [
       "['__doc__',\n",
       " '__loader__',\n",
       " '__name__',\n",
       " '__package__',\n",
       " '__spec__',\n",
       " 'acos',\n",
       " 'acosh',\n",
       " 'asin',\n",
       " 'asinh',\n",
       " 'atan',\n",
       " 'atan2',\n",
       " 'atanh',\n",
       " 'cbrt',\n",
       " 'ceil',\n",
       " 'comb',\n",
       " 'copysign',\n",
       " 'cos',\n",
       " 'cosh',\n",
       " 'degrees',\n",
       " 'dist',\n",
       " 'e',\n",
       " 'erf',\n",
       " 'erfc',\n",
       " 'exp',\n",
       " 'exp2',\n",
       " 'expm1',\n",
       " 'fabs',\n",
       " 'factorial',\n",
       " 'floor',\n",
       " 'fma',\n",
       " 'fmod',\n",
       " 'frexp',\n",
       " 'fsum',\n",
       " 'gamma',\n",
       " 'gcd',\n",
       " 'hypot',\n",
       " 'inf',\n",
       " 'isclose',\n",
       " 'isfinite',\n",
       " 'isinf',\n",
       " 'isnan',\n",
       " 'isqrt',\n",
       " 'lcm',\n",
       " 'ldexp',\n",
       " 'lgamma',\n",
       " 'log',\n",
       " 'log10',\n",
       " 'log1p',\n",
       " 'log2',\n",
       " 'modf',\n",
       " 'nan',\n",
       " 'nextafter',\n",
       " 'perm',\n",
       " 'pi',\n",
       " 'pow',\n",
       " 'prod',\n",
       " 'radians',\n",
       " 'remainder',\n",
       " 'sin',\n",
       " 'sinh',\n",
       " 'sqrt',\n",
       " 'sumprod',\n",
       " 'tan',\n",
       " 'tanh',\n",
       " 'tau',\n",
       " 'trunc',\n",
       " 'ulp']"
      ]
     },
     "execution_count": 74,
     "metadata": {},
     "output_type": "execute_result"
    }
   ],
   "source": [
    "import math\n",
    "print(math.sqrt(16))\n",
    "\n",
    "from math import ceil, floor\n",
    "print(ceil(3.1))\n",
    "print(floor(3.9))\n",
    "\n",
    "from math import *\n",
    "import math as m\n",
    "print(math.sqrt(16) == m.sqrt(16))\n",
    "\n",
    "import math\n",
    "dir(math)"
   ]
  },
  {
   "cell_type": "code",
   "execution_count": 76,
   "id": "270a8314",
   "metadata": {},
   "outputs": [
    {
     "name": "stdout",
     "output_type": "stream",
     "text": [
      "hi hello my name is chiluveri chethankumar \n",
      "\n",
      "1\n",
      "\n",
      "2\n",
      "\n",
      "3\n",
      "\n",
      "4\n",
      "\n",
      "5\n",
      "\n",
      "6\n",
      "\n"
     ]
    }
   ],
   "source": [
    "with open(\"hello.txt\") as file:\n",
    "    for j in file:\n",
    "        print(j)"
   ]
  },
  {
   "cell_type": "code",
   "execution_count": 77,
   "id": "1be2a810",
   "metadata": {},
   "outputs": [
    {
     "name": "stdout",
     "output_type": "stream",
     "text": [
      "number :(1, 'hi hello my name is chiluveri chethankumar \\n')\n",
      "number :(2, '1\\n')\n",
      "number :(3, '2\\n')\n",
      "number :(4, '3\\n')\n",
      "number :(5, '4\\n')\n",
      "number :(6, '5\\n')\n",
      "number :(7, '6\\n')\n"
     ]
    }
   ],
   "source": [
    "file = open(\"hello.txt\",'r')\n",
    "for i , line in enumerate(file,start=1):\n",
    "    print(f\"number :{i , line}\")"
   ]
  },
  {
   "cell_type": "code",
   "execution_count": 83,
   "id": "a129a336",
   "metadata": {},
   "outputs": [],
   "source": [
    "num={\"name\":\"chethan\",\"age\":2123}\n",
    "with open(\"new.txt\", \"w+\") as file:\n",
    "    file.write(str(num))"
   ]
  },
  {
   "cell_type": "code",
   "execution_count": 84,
   "id": "84f9fc5f",
   "metadata": {},
   "outputs": [],
   "source": [
    "class MyNewClass:\n",
    "    pass\n",
    "\n",
    "my = MyNewClass()\n"
   ]
  },
  {
   "cell_type": "code",
   "execution_count": null,
   "id": "93934987",
   "metadata": {},
   "outputs": [
    {
     "name": "stdout",
     "output_type": "stream",
     "text": [
      "Meow\n",
      "Woof\n"
     ]
    }
   ],
   "source": [
    "class Animal:\n",
    "    def __init__(self,voice):\n",
    "        self.voice=voice\n",
    "        \n",
    "cat = Animal(\"Meow\")\n",
    "print(cat.voice)\n",
    "\n",
    "dog = Animal(\"Woof\")\n",
    "print(dog.voice)"
   ]
  },
  {
   "cell_type": "code",
   "execution_count": 87,
   "id": "d9dc21cb",
   "metadata": {},
   "outputs": [
    {
     "name": "stdout",
     "output_type": "stream",
     "text": [
      "hi hello\n"
     ]
    }
   ],
   "source": [
    "class Dog:\n",
    "    def brak(self):\n",
    "        print(\"hi hello\")\n",
    "man=Dog()\n",
    "man.brak()"
   ]
  },
  {
   "cell_type": "code",
   "execution_count": 89,
   "id": "91179f29",
   "metadata": {},
   "outputs": [
    {
     "name": "stdout",
     "output_type": "stream",
     "text": [
      "a class variable\n",
      "a class variable\n"
     ]
    }
   ],
   "source": [
    "class Myclass:\n",
    "    class_varibles=\"a class variable\"\n",
    "\n",
    "print(Myclass.class_varibles)\n",
    "\n",
    "x=Myclass()\n",
    "print(x.class_varibles)"
   ]
  },
  {
   "cell_type": "code",
   "execution_count": 101,
   "id": "2c67271f",
   "metadata": {},
   "outputs": [
    {
     "name": "stdout",
     "output_type": "stream",
     "text": [
      "child Method\n",
      "Parent Method\n"
     ]
    }
   ],
   "source": [
    "class ParentClass:\n",
    "    def print_test(self):\n",
    "        print(\"Parent Method\")\n",
    "\n",
    "class ChildClass(ParentClass):\n",
    "    def print_test(self):\n",
    "        print(\"child Method\")\n",
    "        # calls the parent print_test()\n",
    "        super().print_test()\n",
    "\n",
    "child_instance=ChildClass()\n",
    "child_instance.print_test()\n",
    "\n"
   ]
  },
  {
   "cell_type": "code",
   "execution_count": 105,
   "id": "64b24621",
   "metadata": {},
   "outputs": [
    {
     "name": "stdout",
     "output_type": "stream",
     "text": [
      "home2\n",
      "home1\n"
     ]
    }
   ],
   "source": [
    "class Dad:\n",
    "    def home(self):\n",
    "        print(\"home1\")\n",
    "class child(Dad):\n",
    "    def home(self):\n",
    "        print(\"home2\")\n",
    "        super().home()\n",
    "\n",
    "Count=child()\n",
    "Count.home()"
   ]
  },
  {
   "cell_type": "code",
   "execution_count": 106,
   "id": "f4080e87",
   "metadata": {},
   "outputs": [
    {
     "name": "stdout",
     "output_type": "stream",
     "text": [
      "chethan\n"
     ]
    }
   ],
   "source": [
    "class Employee:\n",
    "    def __init__(self,name):\n",
    "        self.name=name\n",
    "    def __repr__(self):\n",
    "        return self.name\n",
    "\n",
    "hi=Employee(\"chethan\")\n",
    "print(hi)"
   ]
  },
  {
   "cell_type": "code",
   "execution_count": null,
   "id": "70267305",
   "metadata": {},
   "outputs": [],
   "source": []
  }
 ],
 "metadata": {
  "kernelspec": {
   "display_name": "Python 3",
   "language": "python",
   "name": "python3"
  },
  "language_info": {
   "codemirror_mode": {
    "name": "ipython",
    "version": 3
   },
   "file_extension": ".py",
   "mimetype": "text/x-python",
   "name": "python",
   "nbconvert_exporter": "python",
   "pygments_lexer": "ipython3",
   "version": "3.13.5"
  }
 },
 "nbformat": 4,
 "nbformat_minor": 5
}
