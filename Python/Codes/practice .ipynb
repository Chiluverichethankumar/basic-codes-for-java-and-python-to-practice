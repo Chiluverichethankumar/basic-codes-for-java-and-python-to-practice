{
 "cells": [
  {
   "cell_type": "code",
   "execution_count": 2,
   "id": "d52f1337",
   "metadata": {},
   "outputs": [
    {
     "name": "stdout",
     "output_type": "stream",
     "text": [
      "[1, 2, 3, 4, 5]\n",
      "1\n",
      "[3]\n",
      "[5, 4, 3, 2, 1]\n",
      "5\n",
      "4\n",
      "3\n",
      "2\n",
      "1\n",
      "[1, 2, 3, 4, 5, 6, 7, 8, 9, 10]\n",
      "[7, 9, 11, 13, 15]\n"
     ]
    }
   ],
   "source": [
    "# array\n",
    "\n",
    "List=[1,2,3,4,5]\n",
    "print(List)\n",
    "print(List[0])\n",
    "print(List[2:3])\n",
    "print(List[::-1])\n",
    "List2=[6,7,8,9,10]\n",
    "for i in range(len(List)-1,-1,-1):\n",
    "    print(List[i])\n",
    "print(List+List2)\n",
    "Add=[]\n",
    "for i in range(0,len(List)):\n",
    "    sum1=List[i]+List2[i]\n",
    "    Add.append(sum1)\n",
    "print(Add)\n",
    "\n"
   ]
  },
  {
   "cell_type": "code",
   "execution_count": 5,
   "id": "f158d50a",
   "metadata": {},
   "outputs": [
    {
     "name": "stdout",
     "output_type": "stream",
     "text": [
      "15\n",
      "55\n",
      "[1, 2, 3, 4, 5, 6]\n",
      "[1, 2, 3, 4, 5]\n",
      "[1, 2, 4, 5]\n"
     ]
    }
   ],
   "source": [
    "Newlist=[1,2,3,4,5]\n",
    "\n",
    "print(sum(Newlist))\n",
    "print(sum(List+List2))\n",
    "\n",
    "Newlist.append(6)\n",
    "print(Newlist)\n",
    "Newlist.pop()\n",
    "print(Newlist)\n",
    "Newlist.remove(3)\n",
    "print(Newlist)"
   ]
  },
  {
   "cell_type": "code",
   "execution_count": null,
   "id": "32ba5fae",
   "metadata": {},
   "outputs": [
    {
     "name": "stdout",
     "output_type": "stream",
     "text": [
      "array('i', [10, 20, 30, 40, 50])\n"
     ]
    }
   ],
   "source": [
    "# Using arrays \n",
    "\n",
    "import array as A\n",
    "\n",
    "Array=array.A('i',[10,20,30,40,50])\n",
    "print(Array)\n"
   ]
  },
  {
   "cell_type": "code",
   "execution_count": null,
   "id": "ba34c7f8",
   "metadata": {},
   "outputs": [],
   "source": []
  }
 ],
 "metadata": {
  "kernelspec": {
   "display_name": "Python 3",
   "language": "python",
   "name": "python3"
  },
  "language_info": {
   "codemirror_mode": {
    "name": "ipython",
    "version": 3
   },
   "file_extension": ".py",
   "mimetype": "text/x-python",
   "name": "python",
   "nbconvert_exporter": "python",
   "pygments_lexer": "ipython3",
   "version": "3.12.10"
  }
 },
 "nbformat": 4,
 "nbformat_minor": 5
}
