{
 "cells": [
  {
   "cell_type": "code",
   "execution_count": 2,
   "metadata": {},
   "outputs": [
    {
     "name": "stdout",
     "output_type": "stream",
     "text": [
      "helllo world.............\n"
     ]
    }
   ],
   "source": [
    "print(\"helllo world.............\")"
   ]
  },
  {
   "cell_type": "code",
   "execution_count": 10,
   "metadata": {},
   "outputs": [
    {
     "name": "stdout",
     "output_type": "stream",
     "text": [
      "30\n",
      "10\n"
     ]
    }
   ],
   "source": [
    "n1=10\n",
    "n2=20\n",
    "n3=n1+n2\n",
    "n4=n2-n1\n",
    "\n",
    "print(n3)\n",
    "print(n4)"
   ]
  },
  {
   "cell_type": "code",
   "execution_count": 4,
   "metadata": {},
   "outputs": [
    {
     "name": "stdout",
     "output_type": "stream",
     "text": [
      "100.0\n"
     ]
    }
   ],
   "source": [
    "#area\n",
    "b=10\n",
    "h=20\n",
    "area=1/2*b*h\n",
    "print(area)"
   ]
  },
  {
   "cell_type": "code",
   "execution_count": 7,
   "metadata": {},
   "outputs": [
    {
     "name": "stdout",
     "output_type": "stream",
     "text": [
      "8\n"
     ]
    }
   ],
   "source": [
    "#quadratic equation\n",
    "#ax^2+bx+c=0 -------- b^2-+4ac\n",
    "\n",
    "a=2\n",
    "b=4\n",
    "q=b**2-(4*a*c)\n",
    "print(q)"
   ]
  },
  {
   "cell_type": "code",
   "execution_count": 8,
   "metadata": {},
   "outputs": [
    {
     "name": "stdout",
     "output_type": "stream",
     "text": [
      "10\n",
      "1\n"
     ]
    }
   ],
   "source": [
    "a=1\n",
    "b=10\n",
    "c=a\n",
    "a=b\n",
    "b=c\n",
    "print(a)\n",
    "print(b)"
   ]
  },
  {
   "cell_type": "code",
   "execution_count": 9,
   "metadata": {},
   "outputs": [
    {
     "name": "stdout",
     "output_type": "stream",
     "text": [
      "58\n"
     ]
    }
   ],
   "source": [
    "import random\n",
    "\n",
    "n=random.randint(0,60)\n",
    "print(n)"
   ]
  },
  {
   "cell_type": "code",
   "execution_count": 1,
   "metadata": {},
   "outputs": [
    {
     "name": "stdout",
     "output_type": "stream",
     "text": [
      "0b10001\n",
      "10001\n"
     ]
    }
   ],
   "source": [
    "# int to decimal\n",
    "a=17\n",
    "b=bin(a)\n",
    "print(b)\n",
    "binary=format(17,'b')\n",
    "print(binary)"
   ]
  },
  {
   "cell_type": "code",
   "execution_count": 9,
   "metadata": {},
   "outputs": [
    {
     "name": "stdout",
     "output_type": "stream",
     "text": [
      "10001"
     ]
    }
   ],
   "source": [
    "# int to decimal\n",
    "\n",
    "n=17\n",
    "arr=[]\n",
    "i=0\n",
    "while n>0:\n",
    "    arr.append(n%2)\n",
    "    n=n//2\n",
    "    i+=1\n",
    "   \n",
    "for j in range(i-1,-1,-1):\n",
    "    print(arr[j],end='') "
   ]
  },
  {
   "cell_type": "code",
   "execution_count": 10,
   "metadata": {},
   "outputs": [
    {
     "name": "stdout",
     "output_type": "stream",
     "text": [
      "1010"
     ]
    }
   ],
   "source": [
    "n = 10\n",
    "arr = []  # Initialize an empty list\n",
    "i = 0\n",
    "\n",
    "# Convert integer to binary and store the bits in reverse order\n",
    "while n > 0:\n",
    "    arr.append(n % 2)  # Use append to add elements to the list\n",
    "    n = n // 2  # Use integer division\n",
    "    i += 1\n",
    "\n",
    "# Print the binary representation in the correct order\n",
    "for j in range(i - 1, -1, -1):  # Loop from the last index to 0\n",
    "    print(arr[j], end='')  # Print each bit without a newline\n"
   ]
  },
  {
   "cell_type": "code",
   "execution_count": 1,
   "metadata": {},
   "outputs": [
    {
     "name": "stdout",
     "output_type": "stream",
     "text": [
      "1000\n"
     ]
    }
   ],
   "source": [
    "a=10\n",
    "b=a**3\n",
    "print(b)"
   ]
  },
  {
   "cell_type": "code",
   "execution_count": 13,
   "metadata": {},
   "outputs": [
    {
     "name": "stdout",
     "output_type": "stream",
     "text": [
      "Hello hi my name is Chethan\n"
     ]
    }
   ],
   "source": [
    "Str=\"Hello hi my name is Chethan\"\n",
    "Str=Str.replace(\"\",\" \")\n",
    "print(newstr)"
   ]
  },
  {
   "cell_type": "code",
   "execution_count": 42,
   "metadata": {},
   "outputs": [
    {
     "name": "stdout",
     "output_type": "stream",
     "text": [
      "['l', 'h', 'i', 'e', 'a', 'n', 'm']\n"
     ]
    }
   ],
   "source": [
    "Str=\"Hello hi my name is Chethan\"\n",
    "Str=Str.replace(\" \",\"\")\n",
    "List=[]\n",
    "\n",
    "for i in set(Str):\n",
    "    if Str.count(i)>1:\n",
    "        List.append(i)\n",
    "\n",
    "print(List)\n"
   ]
  },
  {
   "cell_type": "code",
   "execution_count": 52,
   "metadata": {},
   "outputs": [
    {
     "name": "stdout",
     "output_type": "stream",
     "text": [
      "{'H': 1, 'e': 1, 'l': 2, 'o': 1}\n",
      "['l']\n"
     ]
    }
   ],
   "source": [
    "# duplicate count and duplicate in string are list\n",
    "\n",
    "Str=\"Hello\"\n",
    "Str=Str.replace(\" \",\"\")\n",
    "A=[]\n",
    "B={}\n",
    "for i in Str:\n",
    "    B[i]=B.get(i,0)+1\n",
    "print(B)\n",
    "\n",
    "for j in B:\n",
    "    if B[j]>1:\n",
    "        A.append(j)\n",
    "print(A)"
   ]
  },
  {
   "cell_type": "code",
   "execution_count": 57,
   "metadata": {},
   "outputs": [
    {
     "name": "stdout",
     "output_type": "stream",
     "text": [
      "{1: 3, 2: 2, 3: 1}\n",
      "[1, 2]\n"
     ]
    }
   ],
   "source": [
    "List=[1,2,3,1,1,2]\n",
    "A={}\n",
    "B=[]\n",
    "for i in List:\n",
    "    A[i]=A.get(i,0)+1\n",
    "print(A)\n",
    "\n",
    "for j in A:\n",
    "    if A[j]>1:\n",
    "        B.append(j)\n",
    "print(B)\n"
   ]
  },
  {
   "cell_type": "code",
   "execution_count": 70,
   "metadata": {},
   "outputs": [
    {
     "name": "stdout",
     "output_type": "stream",
     "text": [
      "['h']\n"
     ]
    }
   ],
   "source": [
    "\n",
    "def Deup(Str):\n",
    "    for i in set(Str):\n",
    "        if Str.count(i)>1:\n",
    "            List.append(i)\n",
    "Str=\"Chethan\"\n",
    "List=[]\n",
    "Deup(Str)\n",
    "print(List)\n"
   ]
  },
  {
   "cell_type": "code",
   "execution_count": 64,
   "metadata": {},
   "outputs": [
    {
     "name": "stdout",
     "output_type": "stream",
     "text": [
      "97\n"
     ]
    }
   ],
   "source": [
    "\n",
    "print(ord('a'))\n"
   ]
  },
  {
   "cell_type": "code",
   "execution_count": 72,
   "metadata": {},
   "outputs": [
    {
     "name": "stdout",
     "output_type": "stream",
     "text": [
      "55\n"
     ]
    }
   ],
   "source": [
    "#  Find Sum of Natural Numbers\n",
    "sum=0\n",
    "for i in range(0,11):\n",
    "    sum=i+sum\n",
    "print(sum)"
   ]
  },
  {
   "cell_type": "code",
   "execution_count": 73,
   "metadata": {},
   "outputs": [
    {
     "name": "stdout",
     "output_type": "stream",
     "text": [
      "1\n",
      "3\n",
      "5\n",
      "7\n",
      "9\n",
      "11\n",
      "13\n",
      "15\n",
      "17\n",
      "19\n",
      "21\n",
      "23\n",
      "25\n",
      "27\n",
      "29\n",
      "31\n",
      "33\n",
      "35\n",
      "37\n",
      "39\n",
      "41\n",
      "43\n",
      "45\n",
      "47\n",
      "49\n",
      "51\n",
      "53\n",
      "55\n",
      "57\n",
      "59\n",
      "61\n",
      "63\n",
      "65\n",
      "67\n",
      "69\n",
      "71\n",
      "73\n",
      "75\n",
      "77\n",
      "79\n",
      "81\n",
      "83\n",
      "85\n",
      "87\n",
      "89\n",
      "91\n",
      "93\n",
      "95\n",
      "97\n",
      "99\n"
     ]
    }
   ],
   "source": [
    "# Display Odd Numbers From 1 to 100\n",
    "\n",
    "for i in range(0,101):\n",
    "    if i%2!=0:\n",
    "        print(i)"
   ]
  },
  {
   "cell_type": "code",
   "execution_count": 74,
   "metadata": {},
   "outputs": [
    {
     "name": "stdout",
     "output_type": "stream",
     "text": [
      "30 largest\n"
     ]
    }
   ],
   "source": [
    "#  Largest of Three Numbers\n",
    "n1,n2,n3=10,20,30\n",
    "if n1>n2 and n1>n3:\n",
    "    print(n1,\"Largest\")\n",
    "elif n2>n3:\n",
    "    print(n2,\"Lager\")\n",
    "else:\n",
    "    print(n3,\"largest\")"
   ]
  },
  {
   "cell_type": "code",
   "execution_count": null,
   "metadata": {},
   "outputs": [],
   "source": [
    "# Perfect Square\n",
    "import math\n",
    "n=10\n",
    "sq=math.sqrt(n)\n",
    "if "
   ]
  },
  {
   "cell_type": "code",
   "execution_count": 78,
   "metadata": {},
   "outputs": [
    {
     "name": "stdout",
     "output_type": "stream",
     "text": [
      "The number is not a perfect square\n",
      "5.291502622129181\n"
     ]
    }
   ],
   "source": [
    "import math  \n",
    "num = 28\n",
    "sqrt_num = math.sqrt(num)  \n",
    "if sqrt_num.is_integer():  \n",
    "    print(\"The number is a perfect square\")  \n",
    "else:  \n",
    "    print(\"The number is not a perfect square\")  \n",
    "\n",
    "print(sqrt_num)"
   ]
  },
  {
   "cell_type": "code",
   "execution_count": 82,
   "metadata": {},
   "outputs": [
    {
     "name": "stdout",
     "output_type": "stream",
     "text": [
      "not perfect square\n"
     ]
    }
   ],
   "source": [
    "import math\n",
    "num=28\n",
    "sq=num**0.5\n",
    "\n",
    "if sq.is_integer():\n",
    "    print(\"perfect square\")\n",
    "else:\n",
    "    print(\"not perfect square\")"
   ]
  },
  {
   "cell_type": "code",
   "execution_count": 88,
   "metadata": {},
   "outputs": [
    {
     "name": "stdout",
     "output_type": "stream",
     "text": [
      "-\n"
     ]
    }
   ],
   "source": [
    "# Number is Positive or Negative\n",
    "\n",
    "num=-9\n",
    "if num>=0:\n",
    "    print(\"+\")\n",
    "else:\n",
    "    print(\"-\")"
   ]
  },
  {
   "cell_type": "code",
   "execution_count": 109,
   "metadata": {},
   "outputs": [
    {
     "name": "stdout",
     "output_type": "stream",
     "text": [
      "not Special Number\n"
     ]
    }
   ],
   "source": [
    "# Special Number\n",
    "num=1034\n",
    "num1=str(num)\n",
    "sum=0\n",
    "\n",
    "for i in range(len(num1)):\n",
    "    n=int(num1[i])\n",
    "    sum1=1\n",
    "    for j in range(1,n+1):\n",
    "        sum1=sum1*j\n",
    "    sum=sum1+sum\n",
    "\n",
    "if num==sum:\n",
    "    print(\"Special Number\")\n",
    "else:\n",
    "    print(\"not Special Number\")\n",
    "\n",
    "\n",
    "\n",
    "\n"
   ]
  },
  {
   "cell_type": "code",
   "execution_count": 96,
   "metadata": {},
   "outputs": [
    {
     "name": "stdout",
     "output_type": "stream",
     "text": [
      "24\n"
     ]
    }
   ],
   "source": [
    "num=4\n",
    "sum=1\n",
    "for i in range(1,num+1):\n",
    "    sum=i*sum\n",
    "print(sum)\n"
   ]
  },
  {
   "cell_type": "code",
   "execution_count": 101,
   "metadata": {},
   "outputs": [
    {
     "name": "stdout",
     "output_type": "stream",
     "text": [
      "1\n"
     ]
    }
   ],
   "source": [
    "num=145\n",
    "num1=str(num)\n",
    "print(num1[0])"
   ]
  },
  {
   "cell_type": "code",
   "execution_count": 167,
   "metadata": {},
   "outputs": [
    {
     "name": "stdout",
     "output_type": "stream",
     "text": [
      "[4, 5, 1, 9, 5, 0, 0, 0]\n",
      "2\n"
     ]
    }
   ],
   "source": [
    "\n",
    "arr=[4,5,0,1,9,0,5,0]\n",
    "le=len(arr)\n",
    "j=0\n",
    "for i in range(le-1,-1,-1):\n",
    "    if arr[i] == 0:\n",
    "        j+=1\n",
    "        arr.pop(i)\n",
    "\n",
    "\n",
    "for j in range(0,j):\n",
    "    arr.append(0)\n",
    "print(arr)\n"
   ]
  },
  {
   "cell_type": "code",
   "execution_count": 156,
   "metadata": {},
   "outputs": [
    {
     "name": "stdout",
     "output_type": "stream",
     "text": [
      "[1, 7, 9, 0, 0, 0, 0, 0, 0, 0, 0, 0, 0]\n"
     ]
    }
   ],
   "source": [
    "arr=[1,7,9]\n",
    "for j in range(0,10):\n",
    "    arr.append(0)\n",
    "print(arr)"
   ]
  },
  {
   "cell_type": "code",
   "execution_count": 188,
   "metadata": {},
   "outputs": [
    {
     "name": "stdout",
     "output_type": "stream",
     "text": [
      "[1, 2, 0, 3, 0, 5]\n",
      "[1, 2, 3, 5]\n",
      "[1, 2, 3, 5, 0, 0]\n"
     ]
    }
   ],
   "source": [
    "# arr = [4, 5, 0, 1, 9, 0, 5, 0,0,8,7]\n",
    "Length=int(input())\n",
    "arr=[]\n",
    "for i in range(0,Length):\n",
    "    arr.append(int(input()))\n",
    "print(arr)\n",
    "co=arr.count(0)\n",
    "for i in range(len(arr)-1,-1,-1):\n",
    "    if arr[i]==0:\n",
    "        arr.pop(i)\n",
    "print(arr)\n",
    "arr=arr+[0]*co\n",
    "print(arr)\n"
   ]
  },
  {
   "cell_type": "code",
   "execution_count": 143,
   "metadata": {},
   "outputs": [
    {
     "name": "stdout",
     "output_type": "stream",
     "text": [
      "5\n",
      "[4, 5, 1, 9, 5]\n"
     ]
    }
   ],
   "source": [
    "arr = [4, 5, 0, 1, 9, 0, 5, 0]\n",
    "i = 0\n",
    "le = len(arr)\n",
    "\n",
    "while i < len(arr):  # Use a `while` loop to handle dynamic changes in the list\n",
    "    if arr[i] == 0:\n",
    "        arr.pop(i)  # Remove the zero at index i\n",
    "        le -= 1  # Decrease the length\n",
    "    else:\n",
    "        i += 1  # Increment the index if no removal occurs44\n",
    "\n",
    "\n",
    "print(i)\n",
    "print(arr)\n"
   ]
  },
  {
   "cell_type": "code",
   "execution_count": 178,
   "metadata": {},
   "outputs": [
    {
     "name": "stdout",
     "output_type": "stream",
     "text": [
      "1 2 4 0 0 "
     ]
    }
   ],
   "source": [
    "n=int(input())\n",
    "j=0\n",
    "L=[0 for i in range(n)]\n",
    "for i in range(n):\n",
    "    a=int(input())\n",
    "    if a!=0:\n",
    "        L[j]=a\n",
    "        j+=1\n",
    "for i in L:\n",
    "    print(i,end=\" \")"
   ]
  },
  {
   "cell_type": "code",
   "execution_count": 184,
   "metadata": {},
   "outputs": [
    {
     "name": "stdout",
     "output_type": "stream",
     "text": [
      "[1, 2, 3, 4, 5]\n"
     ]
    }
   ],
   "source": [
    "Length=int(input())\n",
    "arr=[]\n",
    "for i in range(0,Length):\n",
    "    arr.append(int(input()))\n",
    "print(arr)\n"
   ]
  },
  {
   "cell_type": "code",
   "execution_count": 189,
   "metadata": {},
   "outputs": [
    {
     "name": "stdout",
     "output_type": "stream",
     "text": [
      "26\n"
     ]
    }
   ],
   "source": [
    "import math\n",
    "n=int(input())\n",
    "k=(1<< int(math.log2(n))+1)-1\n",
    "print(n^k)"
   ]
  },
  {
   "cell_type": "code",
   "execution_count": 192,
   "metadata": {},
   "outputs": [
    {
     "name": "stdout",
     "output_type": "stream",
     "text": [
      "5\n"
     ]
    }
   ],
   "source": [
    "import math\n",
    "num=int(input())\n",
    "bin=(1<<int(math.log2(num))+1)-1\n",
    "print(num^bin)"
   ]
  },
  {
   "cell_type": "code",
   "execution_count": 230,
   "metadata": {},
   "outputs": [
    {
     "name": "stdout",
     "output_type": "stream",
     "text": [
      "3\n"
     ]
    }
   ],
   "source": [
    "day=14\n",
    "List={7:1,14:2,21:3,28:4}\n",
    "\n",
    "if day in List.values():\n",
    "    for i ,value in List.items():\n",
    "        if day==i:\n",
    "            print(i)\n",
    "else:\n",
    "    div=int(day//7)+1\n",
    "    print(div)"
   ]
  },
  {
   "cell_type": "code",
   "execution_count": null,
   "metadata": {},
   "outputs": [],
   "source": [
    "List=[1,2,3,1,1,2]\n",
    "A={}\n",
    "B=[]\n",
    "for i in List:\n",
    "    A[i]=A.get(i,0)+1\n",
    "print(A)\n",
    "\n",
    "for j in A:\n",
    "    if A[j]>1:\n",
    "        B.append(j)\n",
    "print(B)\n"
   ]
  },
  {
   "cell_type": "code",
   "execution_count": 244,
   "metadata": {},
   "outputs": [
    {
     "name": "stdout",
     "output_type": "stream",
     "text": [
      "2\n"
     ]
    }
   ],
   "source": [
    "\n",
    "\n",
    "def Hio(n):\n",
    "    Dic={7:1,14:2,21:3,28:4}\n",
    "    if day in Dic:\n",
    "        print(Dic[day])\n",
    "    else:\n",
    "        div=(day//7)+1\n",
    "        print(div)\n",
    "day=12\n",
    "\n",
    "Hio(day)"
   ]
  },
  {
   "cell_type": "code",
   "execution_count": 236,
   "metadata": {},
   "outputs": [
    {
     "name": "stdout",
     "output_type": "stream",
     "text": [
      "5\n"
     ]
    }
   ],
   "source": [
    "day = 30\n",
    "List = {7: 1, 14: 2, 21: 3, 28: 4}\n",
    "\n",
    "if day in List:  # Check if 'day' is a key in the dictionary\n",
    "    print(List[day])  # Print the corresponding value for the key 'day'\n",
    "else:\n",
    "    div = (day // 7) + 1  # Calculate the division\n",
    "    print(div)\n"
   ]
  },
  {
   "cell_type": "code",
   "execution_count": null,
   "metadata": {},
   "outputs": [],
   "source": []
  }
 ],
 "metadata": {
  "kernelspec": {
   "display_name": "Python 3",
   "language": "python",
   "name": "python3"
  },
  "language_info": {
   "codemirror_mode": {
    "name": "ipython",
    "version": 3
   },
   "file_extension": ".py",
   "mimetype": "text/x-python",
   "name": "python",
   "nbconvert_exporter": "python",
   "pygments_lexer": "ipython3",
   "version": "3.13.0"
  }
 },
 "nbformat": 4,
 "nbformat_minor": 2
}
