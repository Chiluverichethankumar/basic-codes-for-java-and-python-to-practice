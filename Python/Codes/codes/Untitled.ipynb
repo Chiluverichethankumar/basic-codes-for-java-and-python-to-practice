{
 "cells": [
  {
   "cell_type": "code",
   "execution_count": 1,
   "id": "52db591e-0fb4-428e-8309-2fc062b2d3a6",
   "metadata": {},
   "outputs": [
    {
     "name": "stdout",
     "output_type": "stream",
     "text": [
      "hello python\n"
     ]
    }
   ],
   "source": [
    "print(\"hello python\")"
   ]
  },
  {
   "cell_type": "code",
   "execution_count": 4,
   "id": "defff940-a2f4-4fbd-888c-2f5b4fac4560",
   "metadata": {},
   "outputs": [
    {
     "name": "stdout",
     "output_type": "stream",
     "text": [
      "Enter first number : 235.2\n",
      "Enter secound number : .324\n"
     ]
    },
    {
     "name": "stdout",
     "output_type": "stream",
     "text": [
      "sum:235.2 +0.324 = 235.524\n"
     ]
    }
   ],
   "source": [
    "# addition\n",
    "num1=float(input(\"Enter first number :\"))\n",
    "num2=float(input(\"Enter secound number :\"))\n",
    "sum_result=num1+num2\n",
    "print(f\"sum:{num1} +{num2} = {sum_result}\")"
   ]
  },
  {
   "cell_type": "code",
   "execution_count": 8,
   "id": "ba1d5dc3-79fb-4318-8b27-b965c04a81dd",
   "metadata": {},
   "outputs": [
    {
     "name": "stdout",
     "output_type": "stream",
     "text": [
      "enter num3 : 36\n",
      "enter num4 : 6\n"
     ]
    },
    {
     "name": "stdout",
     "output_type": "stream",
     "text": [
      "div : 36 / 6 = 6.0\n"
     ]
    }
   ],
   "source": [
    "#Division\n",
    "num3=int(input(\"enter num3 :\"))\n",
    "num4=int(input(\"enter num4 :\"))\n",
    "if num4==0:\n",
    "    print(\"Error : Division by zero is not allowed\")\n",
    "else:\n",
    "    div=num3/num4\n",
    "    print(f\"div : {num3} / {num4} = {div}\")"
   ]
  },
  {
   "cell_type": "code",
   "execution_count": 11,
   "id": "b35d936c-153f-4b0a-b4cd-8ce988ce092d",
   "metadata": {},
   "outputs": [
    {
     "name": "stdout",
     "output_type": "stream",
     "text": [
      "enter base : 59\n",
      "Enter high : 25\n"
     ]
    },
    {
     "name": "stdout",
     "output_type": "stream",
     "text": [
      "area of trainge with base : 59 and high : 25 /n area : 737.5\n"
     ]
    }
   ],
   "source": [
    "#area of triangle\n",
    "base=int(input(\"enter base :\"))\n",
    "high=int(input(\"Enter high :\"))\n",
    "area=0.5*base*high\n",
    "print(f\"area of trainge with base : {base} and high : {high} /n area : {area}\")"
   ]
  },
  {
   "cell_type": "code",
   "execution_count": 12,
   "id": "81efd106-d97f-4864-8efe-cab00b6f2831",
   "metadata": {},
   "outputs": [
    {
     "name": "stdout",
     "output_type": "stream",
     "text": [
      "num1 : 10 and num2 : 20\n",
      "num1 : 20 and num2 : 10\n"
     ]
    }
   ],
   "source": [
    "#swap two numbers\n",
    "num1=10\n",
    "num2=20\n",
    "print(f\"num1 : {num1} and num2 : {num2}\")\n",
    "temp=num1\n",
    "num1=num2\n",
    "num2=temp\n",
    "print(f\"num1 : {num1} and num2 : {num2}\")\n"
   ]
  },
  {
   "cell_type": "code",
   "execution_count": null,
   "id": "1c9475d1-c24f-406e-8110-587dc9417bfe",
   "metadata": {},
   "outputs": [
    {
     "name": "stdout",
     "output_type": "stream",
     "text": [
      "random numbers : 49\n"
     ]
    }
   ],
   "source": [
    "# Random numbers\n",
    "\n",
    "import random\n",
    "print(f\"random numbers : {random.randint(1,100)}\")"
   ]
  },
  {
   "cell_type": "code",
   "execution_count": 23,
   "id": "aea83681-faff-4127-b627-f589709d4f40",
   "metadata": {},
   "outputs": [
    {
     "name": "stdout",
     "output_type": "stream",
     "text": [
      "62.1\n"
     ]
    }
   ],
   "source": [
    "#Write a Python program to convert kilometers to miles.\n",
    "\n",
    "km=100\n",
    "convert=0.621\n",
    "miles=km*convert\n",
    "print(miles)"
   ]
  },
  {
   "cell_type": "code",
   "execution_count": 24,
   "id": "604050cb-3ccb-4ab0-9a1f-879f002e204f",
   "metadata": {},
   "outputs": [
    {
     "name": "stdout",
     "output_type": "stream",
     "text": [
      "   February 2023\n",
      "Mo Tu We Th Fr Sa Su\n",
      "       1  2  3  4  5\n",
      " 6  7  8  9 10 11 12\n",
      "13 14 15 16 17 18 19\n",
      "20 21 22 23 24 25 26\n",
      "27 28\n",
      "\n"
     ]
    }
   ],
   "source": [
    "#Write a Python program to display calendar.\n",
    "\n",
    "import calendar\n",
    "year=2023\n",
    "month=2\n",
    "cal=calendar.month(year,month)\n",
    "print(cal)"
   ]
  },
  {
   "cell_type": "code",
   "execution_count": 25,
   "id": "df4fefb4-971a-4b72-a6b0-c9f24d2b8605",
   "metadata": {},
   "outputs": [
    {
     "name": "stdout",
     "output_type": "stream",
     "text": [
      "a= 20\n",
      "b= 10\n"
     ]
    }
   ],
   "source": [
    "#Write a Python program to swap two variables without temp variable.\n",
    "a=10\n",
    "b=20\n",
    "a,b=b,a\n",
    "print(\"a=\",a)\n",
    "print(\"b=\",b)"
   ]
  },
  {
   "cell_type": "code",
   "execution_count": null,
   "id": "014d7b1c-3412-44cf-b4ae-5f734ef75a32",
   "metadata": {},
   "outputs": [],
   "source": [
    "# Write a Python program to solve quadratic equation.\n",
    "# The standard form of a quadratic equation is:\n",
    "# where\n",
    "# a, b and c are real numbers and\n",
    "# The solutions of this quadratic equation is given by:\n",
    "# 𝑎𝑥 + 𝑏𝑥 + 𝑐 = 0\n",
    "# 2\n",
    "# 𝑎 ≠ 0\n",
    "# (−𝑏 ± (𝑏 − 4𝑎𝑐 )/(2𝑎)"
   ]
  },
  {
   "cell_type": "code",
   "execution_count": 29,
   "id": "146de613-e849-45c4-9b3b-142eeb2a6bcb",
   "metadata": {},
   "outputs": [
    {
     "name": "stdout",
     "output_type": "stream",
     "text": [
      "root 1 : -100.0 + 50.0i\n",
      "root 2 : -100.0 -50.0i \n"
     ]
    }
   ],
   "source": [
    "import math\n",
    "\n",
    "a=10\n",
    "b=20\n",
    "c=3\n",
    "dic=b-4*a*c\n",
    "if dic >0:\n",
    "    r1=-b +math.sqrt(b-dic)/2*a\n",
    "    r2=-b -math.sqrt(b-dic)/ 2*a\n",
    "    print(r1)\n",
    "    print(r2)\n",
    "elif dic==0:\n",
    "    r3=-b/2*a\n",
    "    print(r3)\n",
    "else:\n",
    "    r4=-b/2*a\n",
    "    dic1=math.sqrt(abs(dic))/2*a\n",
    "    print(f\"root 1 : {r4} + {dic1}i\")\n",
    "    print(f\"root 2 : {r4} -{dic1}i \")\n",
    "    "
   ]
  },
  {
   "cell_type": "code",
   "execution_count": 3,
   "id": "73df85d0-0840-4bcf-a6be-754773b50061",
   "metadata": {},
   "outputs": [
    {
     "name": "stdout",
     "output_type": "stream",
     "text": [
      "Negative\n"
     ]
    }
   ],
   "source": [
    "# Write a Python Program to Check if a Number is Positive, Negative or Zero.\n",
    "\n",
    "num=-10\n",
    "if num>0:\n",
    "    print(\"Positive\")\n",
    "elif num==0:\n",
    "    print(\"Zero\")\n",
    "else:\n",
    "    print(\"Negative\")"
   ]
  },
  {
   "cell_type": "code",
   "execution_count": 5,
   "id": "dc72f7d4-799e-49d1-bcd8-1b7cd73a7da3",
   "metadata": {},
   "outputs": [
    {
     "name": "stdout",
     "output_type": "stream",
     "text": [
      "Even\n"
     ]
    }
   ],
   "source": [
    "# Write a Python Program to Check if a Number is Odd or Even.\n",
    "\n",
    "num=4\n",
    "if num%2==0:\n",
    "    print(\"Even\")\n",
    "else:\n",
    "    print(\"Odd\")"
   ]
  },
  {
   "cell_type": "code",
   "execution_count": 13,
   "id": "a48ef55f-c04c-48d2-945d-774ffe9d11b3",
   "metadata": {},
   "outputs": [
    {
     "name": "stdout",
     "output_type": "stream",
     "text": [
      "Leap year\n"
     ]
    }
   ],
   "source": [
    "# Write a Python Program to Check Leap Year.\n",
    "\n",
    "year=1996\n",
    "if year%400==0 and year%100==0:\n",
    "    print(\"Leap Year\")\n",
    "elif year%4==0 and year%100!=0:\n",
    "    print(\"Leap year\")\n",
    "else:\n",
    "    print(\"Not Leap year\")\n",
    "    "
   ]
  },
  {
   "cell_type": "code",
   "execution_count": 45,
   "id": "9367eb60-fd9e-4f0f-b7b0-309ff457e030",
   "metadata": {},
   "outputs": [
    {
     "name": "stdout",
     "output_type": "stream",
     "text": [
      "not prime\n"
     ]
    }
   ],
   "source": [
    "# Write a Python Program to Check Prime Number.\n",
    "\n",
    "num=99\n",
    "\n",
    "if num>1:\n",
    "    for i in range(2,num):\n",
    "        if num%i==0:\n",
    "            print(\"not prime\")\n",
    "            break\n",
    "    else:\n",
    "        print(\"prime\")\n",
    "else:\n",
    "    print(\"not prime\")\n"
   ]
  },
  {
   "cell_type": "code",
   "execution_count": 56,
   "id": "84e8047b-7d96-490a-b503-9c3c34a58343",
   "metadata": {},
   "outputs": [
    {
     "name": "stdout",
     "output_type": "stream",
     "text": [
      "2\n",
      "3\n",
      "5\n",
      "7\n",
      "11\n",
      "13\n",
      "17\n",
      "19\n",
      "23\n",
      "29\n",
      "31\n",
      "37\n",
      "41\n",
      "43\n",
      "47\n",
      "53\n",
      "59\n",
      "61\n",
      "67\n",
      "71\n",
      "73\n",
      "79\n",
      "83\n",
      "89\n",
      "97\n",
      "\n",
      "25\n"
     ]
    }
   ],
   "source": [
    "#Write a Python Program to Print all Prime Numbers in an Interval of 1-10.\n",
    "\n",
    "s=1\n",
    "e=100\n",
    "prim=[]\n",
    "for i in range(s,e+1):\n",
    "    if i>1:\n",
    "        for j in range(2,i):\n",
    "            if i%j==0:\n",
    "                break\n",
    "        else:\n",
    "            print(i)\n",
    "            prim.append(i)\n",
    "\n",
    "print(\"\")\n",
    "print(len(prim))"
   ]
  },
  {
   "cell_type": "code",
   "execution_count": 3,
   "id": "b2a15c37-b8ef-40e4-87ea-b527c08c0d82",
   "metadata": {},
   "outputs": [
    {
     "name": "stdout",
     "output_type": "stream",
     "text": [
      "120\n"
     ]
    }
   ],
   "source": [
    "# Write a Python Program to Find the Factorial of a Number.\n",
    "\n",
    "num=5\n",
    "count=1\n",
    "for i in range(1,num+1):\n",
    "    count=count*i\n",
    "print(count)"
   ]
  },
  {
   "cell_type": "code",
   "execution_count": 5,
   "id": "064828ae-f55a-4687-8474-2f3c087eed31",
   "metadata": {},
   "outputs": [
    {
     "name": "stdout",
     "output_type": "stream",
     "text": [
      "5 * 1 = 5\n",
      "5 * 2 = 10\n",
      "5 * 3 = 15\n",
      "5 * 4 = 20\n",
      "5 * 5 = 25\n",
      "5 * 6 = 30\n",
      "5 * 7 = 35\n",
      "5 * 8 = 40\n",
      "5 * 9 = 45\n",
      "5 * 10 = 50\n"
     ]
    }
   ],
   "source": [
    "# Write a Python Program to Display the multiplication Table.\n",
    "\n",
    "num=5\n",
    "count=1\n",
    "for i in range(1,11):\n",
    "    count=num*i\n",
    "    print(f\"{num} * {i} = {count}\")\n"
   ]
  },
  {
   "cell_type": "code",
   "execution_count": 60,
   "id": "73159b2a-3da8-4865-93ed-5d9abc8125fd",
   "metadata": {},
   "outputs": [
    {
     "name": "stdout",
     "output_type": "stream",
     "text": [
      "Armstrong Number\n"
     ]
    }
   ],
   "source": [
    "# Write a Python Program to Check Armstrong Number\n",
    "# 156 > 1^3+5^3+6^3 if both are same the is armstrong\n",
    "\n",
    "num=9474\n",
    "tem=num\n",
    "tem_str=str(tem)\n",
    "leng=len(tem_str)\n",
    "pov=0\n",
    "for i in range(num):\n",
    "    div=tem%10\n",
    "    pov=pov+div**leng\n",
    "    tem=tem//10\n",
    "if pov == num:\n",
    "    print(\"Armstrong Number\")\n",
    "else:\n",
    "    print(\"not Armstrong\")\n",
    "\n",
    "\n",
    "\n",
    "\n",
    "   "
   ]
  },
  {
   "cell_type": "code",
   "execution_count": 59,
   "id": "1b5b605f-bc7a-4cd9-a22e-fc7ec4ca4333",
   "metadata": {},
   "outputs": [
    {
     "name": "stdout",
     "output_type": "stream",
     "text": [
      "[153, 370, 371, 407]\n"
     ]
    }
   ],
   "source": [
    "num1=10\n",
    "end=1000\n",
    "newlist=[]\n",
    "for num in range(num1,end+1):\n",
    "    tem=num\n",
    "    leng=len(str(tem))\n",
    "    pov=0\n",
    "    while tem > 0:\n",
    "        div=tem%10\n",
    "        pov=pov+div**leng\n",
    "        tem=tem//10\n",
    "    \n",
    "    if pov == num:\n",
    "        newlist.append(num)\n",
    "print(newlist)"
   ]
  },
  {
   "cell_type": "code",
   "execution_count": null,
   "id": "f7a00670-77b0-4dc5-ade3-98f13dd43121",
   "metadata": {},
   "outputs": [
    {
     "name": "stdout",
     "output_type": "stream",
     "text": [
      "0\n",
      "1\n",
      "3\n",
      "6\n",
      "10\n",
      "15\n",
      "21\n",
      "28\n",
      "36\n",
      "45\n",
      "55\n"
     ]
    }
   ],
   "source": [
    "# Write a Python Program to Find the Sum of Natural Numbers.\n",
    "\n",
    "num=10\n",
    "sum=0\n",
    "for i in range(num+1):\n",
    "    sum=i+sum\n",
    "    print(sum)\n",
    "    "
   ]
  },
  {
   "cell_type": "code",
   "execution_count": 5,
   "id": "2f28dcd3-46f0-4107-a76b-9bbe43421e0c",
   "metadata": {},
   "outputs": [
    {
     "name": "stdout",
     "output_type": "stream",
     "text": [
      "enter num1 : 24\n",
      "enter num2 : 36\n"
     ]
    },
    {
     "name": "stdout",
     "output_type": "stream",
     "text": [
      "72\n"
     ]
    }
   ],
   "source": [
    "#Least Common Multiple (LCM):\n",
    "\n",
    "num1=int(input(\"enter num1 :\"))\n",
    "num2=int(input(\"enter num2 :\"))\n",
    "big=max(num1,num2)\n",
    "while(True):\n",
    "    if big%num1==0 and big%num2==0:\n",
    "        break\n",
    "    big +=1\n",
    "print(big)"
   ]
  },
  {
   "cell_type": "code",
   "execution_count": 1,
   "id": "9fa7e823-ab3a-4ce9-85fb-dac053e40ff1",
   "metadata": {},
   "outputs": [
    {
     "name": "stdout",
     "output_type": "stream",
     "text": [
      "72\n"
     ]
    }
   ],
   "source": [
    "import math\n",
    "\n",
    "num1=24\n",
    "num2=36\n",
    "lcm=math.lcm(num1,num2)\n",
    "print(lcm)\n"
   ]
  },
  {
   "cell_type": "code",
   "execution_count": 10,
   "id": "682b0eb7-75a6-4f9a-842b-02fa19ce59c1",
   "metadata": {},
   "outputs": [
    {
     "name": "stdout",
     "output_type": "stream",
     "text": [
      "12\n"
     ]
    }
   ],
   "source": [
    "# HCF / GCD\n",
    "\n",
    "import math\n",
    "\n",
    "num1=24\n",
    "num2=36\n",
    "lcm=math.gcd(num1,num2)\n",
    "print(lcm)\n",
    "\n",
    "\n"
   ]
  },
  {
   "cell_type": "code",
   "execution_count": 2,
   "id": "478a3968-4c9c-4a40-a7a1-7a1a77a06f70",
   "metadata": {},
   "outputs": [
    {
     "name": "stdout",
     "output_type": "stream",
     "text": [
      "6\n"
     ]
    }
   ],
   "source": [
    "# HCF / GCD\n",
    "\n",
    "num1=54\n",
    "num2=24\n",
    "small=0\n",
    "if num1>num2:\n",
    "    small=num2\n",
    "else:\n",
    "    small=num1\n",
    "\n",
    "for i in range(1,small+1):\n",
    "    if num1%i==0 and num2%i==0:\n",
    "        hcf=i\n",
    "print(hcf)\n",
    "\n"
   ]
  },
  {
   "cell_type": "code",
   "execution_count": null,
   "id": "3adce915-c80c-4dc6-aca4-2d6cc0c89b65",
   "metadata": {},
   "outputs": [
    {
     "data": {
      "text/plain": [
       "6"
      ]
     },
     "execution_count": 5,
     "metadata": {},
     "output_type": "execute_result"
    }
   ],
   "source": [
    "#hcf / GCD\n",
    "def hcf_bn(num1,num2):\n",
    "    small=min(num1,num2)\n",
    "    for i in range(1,small+1):\n",
    "        if num1%i==0 and num2%i==0:\n",
    "            hcf=i\n",
    "    return hcf\n",
    "\n",
    "num1=54\n",
    "num2=24\n",
    "hcf_bn(num1,num2)"
   ]
  },
  {
   "cell_type": "code",
   "execution_count": 7,
   "id": "a80f7213-bc47-4bc2-8f13-a5e13fe50d54",
   "metadata": {},
   "outputs": [
    {
     "name": "stdout",
     "output_type": "stream",
     "text": [
      "Binary :0b1010\n",
      "Octal :0o12\n",
      "Hexadecimal :0xa\n"
     ]
    }
   ],
   "source": [
    "#Write a Python Program to Convert Decimal to Binary, Octal and Hexadecimal.\n",
    "\n",
    "num=10\n",
    "print(f\"Binary :{bin(num)}\")\n",
    "print(f\"Octal :{oct(num)}\")\n",
    "print(f\"Hexadecimal :{hex(num)}\")"
   ]
  },
  {
   "cell_type": "code",
   "execution_count": 12,
   "id": "5a8a76fe",
   "metadata": {},
   "outputs": [
    {
     "name": "stdout",
     "output_type": "stream",
     "text": [
      "80\n"
     ]
    }
   ],
   "source": [
    "# Write a Python Program To Find ASCII value of a character\n",
    "mychar='P'\n",
    "print(ord(mychar))"
   ]
  },
  {
   "cell_type": "code",
   "execution_count": 21,
   "id": "67b59d42",
   "metadata": {},
   "outputs": [
    {
     "name": "stdout",
     "output_type": "stream",
     "text": [
      "select the number \n",
      " 1. Addition \n",
      " 2.subtraction \n",
      " 3. multiplication \n",
      " 4. Division \n",
      "Incalid number\n"
     ]
    }
   ],
   "source": [
    "#Write a Python Program to Make a Simple Calculator with 4 basic mathematical\n",
    "#operations.\n",
    "\n",
    "num1=10\n",
    "num2=20\n",
    "print(\"select the number \\n 1. Addition \\n 2.subtraction \\n 3. multiplication \\n 4. Division \")\n",
    "num=int(input(\"enter num: \"))\n",
    "\n",
    "match num:\n",
    "    case 1:\n",
    "        print(f\"addition :{num1 + num2}\")\n",
    "    case 2:\n",
    "        print(f\"Substraction :{num1 - num2}\")\n",
    "    case 3:\n",
    "        print(f\"Multiplication :{num1 * num2}\")\n",
    "    case 4:\n",
    "        print(f\"Division :{num1 / num2}\")\n",
    "    case _:\n",
    "        print(\"Incalid number\")\n",
    "    "
   ]
  },
  {
   "cell_type": "code",
   "execution_count": 28,
   "id": "7eaaf187",
   "metadata": {},
   "outputs": [
    {
     "name": "stdout",
     "output_type": "stream",
     "text": [
      "0\n",
      "1\n",
      "1\n",
      "2\n",
      "3\n",
      "5\n",
      "8\n",
      "13\n",
      "21\n",
      "34\n"
     ]
    }
   ],
   "source": [
    "# Write a Python Program to Display Fibonacci Sequence Using Recursion\n",
    "\n",
    "def Fib(num):\n",
    "    if num<=1:\n",
    "        return num\n",
    "    else:\n",
    "        return (Fib(num-1) + Fib(num-2))\n",
    "num=int(input(\"enter num :\"))\n",
    "if num<=0:\n",
    "    print(\"plase enter positive number \")\n",
    "else:\n",
    "    for i in range(num):\n",
    "        print(Fib(i))\n"
   ]
  },
  {
   "cell_type": "code",
   "execution_count": 33,
   "id": "22a5394f",
   "metadata": {},
   "outputs": [
    {
     "name": "stdout",
     "output_type": "stream",
     "text": [
      "overweight\n"
     ]
    }
   ],
   "source": [
    "#Write a Python Program to calculate your Body Mass Index.\n",
    "\n",
    "w=50\n",
    "h=1.64\n",
    "bmi=round(w/h**2,2)\n",
    "if bmi<=18.5:\n",
    "    print(\"under weight\")\n",
    "elif 18.5 > bmi <=24.9:\n",
    "    print(\"normal\")\n",
    "elif 25 > bmi <=29.9:\n",
    "    print(\"overweight\")\n",
    "else:\n",
    "    print(\"obese\")"
   ]
  },
  {
   "cell_type": "code",
   "execution_count": 36,
   "id": "024bac03",
   "metadata": {},
   "outputs": [
    {
     "name": "stdout",
     "output_type": "stream",
     "text": [
      "4.007333185232471\n"
     ]
    }
   ],
   "source": [
    "# Write a Python Program to calculate the natural logarithm of any number.\n",
    "\n",
    "import math\n",
    "num=55\n",
    "if num<=0:\n",
    "    print(\"positive number\")\n",
    "else:\n",
    "    res=math.log(num)\n",
    "    print(res)\n"
   ]
  },
  {
   "cell_type": "code",
   "execution_count": 16,
   "id": "1f0f6a00",
   "metadata": {},
   "outputs": [
    {
     "name": "stdout",
     "output_type": "stream",
     "text": [
      "784\n"
     ]
    }
   ],
   "source": [
    "# write a Python Program for cube sum of first n natural numbers?\n",
    "def first_N(num):\n",
    "    cube=0\n",
    "    sum=0\n",
    "    for i in range(0,num+1):\n",
    "        cube=i**3\n",
    "        sum=sum+cube\n",
    "    print(sum)\n",
    "    \n",
    "\n",
    "num=7\n",
    "first_N(num)\n"
   ]
  },
  {
   "cell_type": "code",
   "execution_count": 48,
   "id": "b44a8e1a",
   "metadata": {},
   "outputs": [
    {
     "name": "stdout",
     "output_type": "stream",
     "text": [
      "12\n"
     ]
    }
   ],
   "source": [
    "# Write a Python Program to find sum of array.\n",
    "import numpy as np\n",
    "\n",
    "arr1=np.array([1,2,3])\n",
    "arr2=np.array([1,2,3])\n",
    "Sum=sum(arr1)+sum(arr2)\n",
    "print(Sum)"
   ]
  },
  {
   "cell_type": "code",
   "execution_count": 46,
   "id": "036e75c9",
   "metadata": {},
   "outputs": [
    {
     "name": "stdout",
     "output_type": "stream",
     "text": [
      "10\n"
     ]
    }
   ],
   "source": [
    "import numpy as np\n",
    "mylist1=[1,2,3,4]\n",
    "mylist2=[1,2,3,4]\n",
    "Sum=sum(mylist1)\n",
    "print(Sum)"
   ]
  },
  {
   "cell_type": "code",
   "execution_count": 49,
   "id": "1b4a608a",
   "metadata": {},
   "outputs": [
    {
     "name": "stdout",
     "output_type": "stream",
     "text": [
      "54\n"
     ]
    }
   ],
   "source": [
    "#Write a Python Program to find largest element in an array\n",
    "\n",
    "import numpy as np\n",
    "\n",
    "arr=np.array([10,20,30,40,3,4,4,54])\n",
    "Max=max(arr)\n",
    "print(Max)"
   ]
  },
  {
   "cell_type": "code",
   "execution_count": 50,
   "id": "23bccde4",
   "metadata": {},
   "outputs": [
    {
     "name": "stdout",
     "output_type": "stream",
     "text": [
      "54\n"
     ]
    }
   ],
   "source": [
    "l=arr[0]\n",
    "for i in arr:\n",
    "    if i>l:\n",
    "        l=i\n",
    "print(l) "
   ]
  },
  {
   "cell_type": "code",
   "execution_count": 64,
   "id": "00f4235f",
   "metadata": {},
   "outputs": [
    {
     "name": "stdout",
     "output_type": "stream",
     "text": [
      "[4, 3, 2, 1]\n"
     ]
    }
   ],
   "source": [
    "# Write a Python Program for array revase\n",
    "\n",
    "arr=[1,2,3,4]\n",
    "\n",
    "print(arr[::-1])"
   ]
  },
  {
   "cell_type": "code",
   "execution_count": 76,
   "id": "379d3dd8",
   "metadata": {},
   "outputs": [
    {
     "name": "stdout",
     "output_type": "stream",
     "text": [
      "2.3333333333333335\n",
      "3\n"
     ]
    }
   ],
   "source": [
    "\n",
    "# Write a Python Program for array rotation\n",
    "a=7\n",
    "b=3\n",
    "print(a/b)\n",
    "print(b%a)\n",
    "\n"
   ]
  },
  {
   "cell_type": "code",
   "execution_count": 81,
   "id": "3373b5f9",
   "metadata": {},
   "outputs": [
    {
     "name": "stdout",
     "output_type": "stream",
     "text": [
      "[4, 5, 6, 7, 8, 9, 10, 1, 2, 3]\n"
     ]
    }
   ],
   "source": [
    "mylist=[1,2,3,4,5,6,7,8,9,10]\n",
    "r=3\n",
    "l=len(mylist)\n",
    "r=r%l\n",
    "print(mylist[r:]+mylist[:r])\n"
   ]
  },
  {
   "cell_type": "code",
   "execution_count": 84,
   "id": "ecca69fa",
   "metadata": {},
   "outputs": [
    {
     "data": {
      "text/plain": [
       "[4, 5, 6, 7, 1, 2, 3]"
      ]
     },
     "execution_count": 84,
     "metadata": {},
     "output_type": "execute_result"
    }
   ],
   "source": [
    "def rotation(mylist,r):\n",
    "    l=len(mylist)\n",
    "    r=r%l\n",
    "    return(mylist[r:]+mylist[:r])\n",
    "\n",
    "List=[1,2,3,4,5,6,7]\n",
    "r=3\n",
    "rotation(List,r)"
   ]
  },
  {
   "cell_type": "code",
   "execution_count": 85,
   "id": "4cdaf248",
   "metadata": {},
   "outputs": [
    {
     "name": "stdout",
     "output_type": "stream",
     "text": [
      "[4, 5, 6, 7, 8, 9, 1, 2, 3]\n"
     ]
    }
   ],
   "source": [
    "# Write a Python Program to Split the array and add the first part to the end\n",
    "\n",
    "mylist=[1,2,3,4,5,6,7,8,9]\n",
    "length=len(mylist)\n",
    "Div=3\n",
    "Div=Div%length\n",
    "start=mylist[Div:]\n",
    "end=mylist[:Div]\n",
    "print(start+end)"
   ]
  },
  {
   "cell_type": "code",
   "execution_count": 86,
   "id": "2161e8dc",
   "metadata": {},
   "outputs": [
    {
     "name": "stdout",
     "output_type": "stream",
     "text": [
      "[4, 5, 6, 7, 8, 9, 1, 2, 3]\n"
     ]
    }
   ],
   "source": [
    "def Split_FE(Mylist,Div):\n",
    "    length=len(mylist)\n",
    "    Div=Div%length\n",
    "    start=mylist[Div:]\n",
    "    end=mylist[:Div]\n",
    "    print(start+end)\n",
    "\n",
    "List=[1,2,3,4,5,6,7,8,9,10,11,12,13,14,15]\n",
    "D=3\n",
    "Split_FE(List,D)"
   ]
  },
  {
   "cell_type": "code",
   "execution_count": 94,
   "id": "afbe3384",
   "metadata": {},
   "outputs": [
    {
     "name": "stdout",
     "output_type": "stream",
     "text": [
      "False\n"
     ]
    }
   ],
   "source": [
    "# Write a Python Program to check if given array is Monotonic.\n",
    "## A monotonic function is a function that is either always \n",
    "## increasing or always decreasing across its entire domain. \n",
    "## This means it either preserves or reverses the order of its \n",
    "## input values.\n",
    "\n",
    "List=[1,2,1,4]\n",
    "N=D=True\n",
    "for i in range(1,len(List)):\n",
    "    if List[i]>List[i-1]:\n",
    "        D=False\n",
    "    elif List[i]<List[i-1]:\n",
    "        N=False\n",
    "print(N or D)\n",
    "        \n",
    "\n",
    "        \n"
   ]
  },
  {
   "cell_type": "code",
   "execution_count": 95,
   "id": "815be81a",
   "metadata": {},
   "outputs": [
    {
     "name": "stdout",
     "output_type": "stream",
     "text": [
      "True\n",
      "False\n",
      "True\n"
     ]
    }
   ],
   "source": [
    "def Monotonic(List):\n",
    "    IN=DE=True\n",
    "    for i in range(1,len(List)):\n",
    "        if List[i]>List[i-1]:\n",
    "            DE=False\n",
    "        elif List[i]<List[i-1]:\n",
    "            IN=False\n",
    "    return IN or DE\n",
    "\n",
    "List1=[1,2,3,4]\n",
    "List2=[1,2,3,1,3]\n",
    "List3=[5,6,7]\n",
    "print(Monotonic(List1))\n",
    "print(Monotonic(List2))\n",
    "print(Monotonic(List3))"
   ]
  },
  {
   "cell_type": "code",
   "execution_count": 100,
   "id": "6d4f63a6",
   "metadata": {},
   "outputs": [
    {
     "name": "stdout",
     "output_type": "stream",
     "text": [
      "[[ 6 12 18]\n",
      " [ 6 12 18]\n",
      " [ 6 12 18]]\n"
     ]
    }
   ],
   "source": [
    "import numpy as np\n",
    "\n",
    "Matrix1=np.matrix([[1,2,3]\n",
    "                  ,[1,2,3]\n",
    "                  ,[1,2,3]])\n",
    "Matrix2=np.matrix([[1,2,3]\n",
    "                  ,[1,2,3]\n",
    "                  ,[1,2,3]])\n",
    "print(Matrix1*Matrix2)"
   ]
  },
  {
   "cell_type": "code",
   "execution_count": 106,
   "id": "8f791e58",
   "metadata": {},
   "outputs": [
    {
     "name": "stdout",
     "output_type": "stream",
     "text": [
      "Chethan\n",
      "Hi\n",
      "Is\n",
      "Kumar\n",
      "My\n",
      "Name\n"
     ]
    }
   ],
   "source": [
    "# Write a Python Program to Sort Words in Alphabetic Order.\n",
    "\n",
    "String=\"Hi my name is chethan kumar\"\n",
    "words=[word.capitalize() for word in String.split()]\n",
    "newlist=sorted(words)\n",
    "for i in range(0,len(newlist)):\n",
    "    print(newlist[i])\n"
   ]
  },
  {
   "cell_type": "code",
   "execution_count": null,
   "id": "7576d2c6",
   "metadata": {},
   "outputs": [
    {
     "name": "stdout",
     "output_type": "stream",
     "text": [
      " hi hello man how are do is everything is ok \n"
     ]
    }
   ],
   "source": [
    "# Write a Python Program to Remove Punctuation From a String\n",
    "\n",
    "mystring=\"hi!!!!!!! hello man how are do? is everything is ok (:\"\n",
    "Punctuation=\"!@#$%^&*()_+:{}<>?,./;'[]\"\n",
    "newstring=\" \"\n",
    "for i in mystring:\n",
    "    if i not in Punctuation:\n",
    "        newstring=newstring+i\n",
    "print(newstring)"
   ]
  },
  {
   "cell_type": "code",
   "execution_count": null,
   "id": "7170695f",
   "metadata": {},
   "outputs": [],
   "source": []
  },
  {
   "cell_type": "code",
   "execution_count": null,
   "id": "4c157b69",
   "metadata": {},
   "outputs": [
    {
     "ename": "",
     "evalue": "",
     "output_type": "error",
     "traceback": [
      "\u001b[1;31mRunning cells with 'Python 3.12.6' requires the ipykernel package.\n",
      "\u001b[1;31mRun the following command to install 'ipykernel' into the Python environment. \n",
      "\u001b[1;31mCommand: 'c:/Python312/python.exe -m pip install ipykernel -U --user --force-reinstall'"
     ]
    }
   ],
   "source": [
    "name=\"Chiluveri ChethanKumar\"\n",
    "print(name[:])"
   ]
  },
  {
   "cell_type": "code",
   "execution_count": null,
   "id": "2774d035",
   "metadata": {},
   "outputs": [
    {
     "ename": "",
     "evalue": "",
     "output_type": "error",
     "traceback": [
      "\u001b[1;31mRunning cells with 'Python 3.12.6' requires the ipykernel package.\n",
      "\u001b[1;31mRun the following command to install 'ipykernel' into the Python environment. \n",
      "\u001b[1;31mCommand: 'c:/Python312/python.exe -m pip install ipykernel -U --user --force-reinstall'"
     ]
    }
   ],
   "source": [
    "name=\"Chiluveri ChethanKumar\"\n",
    "print(name[:])"
   ]
  },
  {
   "cell_type": "code",
   "execution_count": null,
   "id": "c324943e",
   "metadata": {},
   "outputs": [],
   "source": []
  },
  {
   "cell_type": "code",
   "execution_count": null,
   "id": "99f192fd",
   "metadata": {},
   "outputs": [],
   "source": []
  },
  {
   "cell_type": "code",
   "execution_count": null,
   "id": "1de29602",
   "metadata": {},
   "outputs": [],
   "source": []
  },
  {
   "cell_type": "code",
   "execution_count": null,
   "id": "b9b97b0f",
   "metadata": {},
   "outputs": [],
   "source": []
  },
  {
   "cell_type": "code",
   "execution_count": null,
   "id": "359f89bb",
   "metadata": {},
   "outputs": [],
   "source": []
  },
  {
   "cell_type": "code",
   "execution_count": null,
   "id": "9b6d62a6",
   "metadata": {},
   "outputs": [],
   "source": []
  },
  {
   "cell_type": "code",
   "execution_count": null,
   "id": "21fd600c",
   "metadata": {},
   "outputs": [],
   "source": []
  },
  {
   "cell_type": "code",
   "execution_count": null,
   "id": "7ea60933",
   "metadata": {},
   "outputs": [],
   "source": []
  },
  {
   "cell_type": "code",
   "execution_count": null,
   "id": "672dba20",
   "metadata": {},
   "outputs": [],
   "source": []
  },
  {
   "cell_type": "code",
   "execution_count": null,
   "id": "6a199d62",
   "metadata": {},
   "outputs": [],
   "source": []
  },
  {
   "cell_type": "code",
   "execution_count": null,
   "id": "c20eb49f",
   "metadata": {},
   "outputs": [],
   "source": []
  },
  {
   "cell_type": "code",
   "execution_count": null,
   "id": "60cc27b4",
   "metadata": {},
   "outputs": [],
   "source": []
  },
  {
   "cell_type": "code",
   "execution_count": null,
   "id": "92f553b5",
   "metadata": {},
   "outputs": [],
   "source": []
  },
  {
   "cell_type": "code",
   "execution_count": null,
   "id": "2591b8f8",
   "metadata": {},
   "outputs": [],
   "source": []
  }
 ],
 "metadata": {
  "kernelspec": {
   "display_name": "Python 3",
   "language": "python",
   "name": "python3"
  },
  "language_info": {
   "codemirror_mode": {
    "name": "ipython",
    "version": 3
   },
   "file_extension": ".py",
   "mimetype": "text/x-python",
   "name": "python",
   "nbconvert_exporter": "python",
   "pygments_lexer": "ipython3",
   "version": "3.13.0"
  }
 },
 "nbformat": 4,
 "nbformat_minor": 5
}
