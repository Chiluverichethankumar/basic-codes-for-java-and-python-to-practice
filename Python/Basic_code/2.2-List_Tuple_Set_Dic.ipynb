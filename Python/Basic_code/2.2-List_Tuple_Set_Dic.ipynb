{
 "cells": [
  {
   "cell_type": "code",
   "execution_count": null,
   "metadata": {},
   "outputs": [
    {
     "name": "stdout",
     "output_type": "stream",
     "text": [
      "[1, 2, 3, 'hi', 'chethan', 1]\n",
      "['chethan']\n",
      "6\n",
      "<class 'list'>\n",
      "[12, 3, 4, 5, 6, 7, 'Chetnakumarrevathi', 'siddu', 'sai teja']\n",
      ".....................\n",
      "4\n",
      "1\n",
      "siddu\n",
      "[1, 2, 3, 'hi', 'chethan', 1]\n",
      "[12, 3, 4, 5]\n",
      "[5, 6, 7, 'Chetnakumarrevathi', 'siddu', 'sai teja']\n",
      "['siddu', 'sai teja']\n",
      "[12, 3, 4, 5, 6, 7, 'Chetnakumarrevathi']\n",
      "[4, 5]\n",
      "[3, 'hi', 'chethan']\n"
     ]
    }
   ],
   "source": [
    "#list [] , 1. ordered index , 2. changeable , 3. aloes duplicate \n",
    "\n",
    "mylist=[1,2,3,\"hi\",\"chethan\",1]\n",
    "print(mylist)\n",
    "print(mylist[-2:-1])\n",
    "print(len(mylist))\n",
    "print(type(mylist))\n",
    "\n",
    "# list constructor\n",
    "\n",
    "mylist2=list((12,3,4,5,6,7,\"Chetnakumar\"\"revathi\",\"siddu\",\"sai teja\"))\n",
    "print(mylist2)\n",
    "\n",
    "#access items\n",
    "print(\".....................\")\n",
    "\n",
    "print(mylist2[2])\n",
    "print(mylist[0])\n",
    "print(mylist2[-2])\n",
    "print(mylist[:])\n",
    "print(mylist2[:4])\n",
    "print(mylist2[3:])\n",
    "print(mylist2[-2:])\n",
    "print(mylist2[:-2])\n",
    "print(mylist2[2:4])\n",
    "print(mylist[2:-1])\n"
   ]
  },
  {
   "cell_type": "code",
   "execution_count": null,
   "metadata": {},
   "outputs": [
    {
     "name": "stdout",
     "output_type": "stream",
     "text": [
      "[1, 2, 33, 4, 5, 6, 78]\n"
     ]
    }
   ],
   "source": [
    "mylist=[1,2,3,4,5,6,78,]\n",
    "mylist[2]=33\n",
    "print(mylist)\n"
   ]
  },
  {
   "cell_type": "code",
   "execution_count": null,
   "metadata": {},
   "outputs": [
    {
     "name": "stdout",
     "output_type": "stream",
     "text": [
      "False\n",
      "True\n"
     ]
    }
   ],
   "source": [
    "#check if item exits in list\n",
    "if \"hi\" in mylist2:\n",
    "    print(True)\n",
    "else:\n",
    "    print(False)\n",
    "\n",
    "\n",
    "if \"hi\" in mylist:\n",
    "    print(True)\n",
    "else:\n",
    "    print(False)"
   ]
  },
  {
   "cell_type": "code",
   "execution_count": null,
   "metadata": {},
   "outputs": [
    {
     "name": "stdout",
     "output_type": "stream",
     "text": [
      "['apple', 'A', 'mango', 'cherry']\n",
      "['apple', 'C']\n",
      "['apple', 'A', 'p', 'p', 'l', 'e', ' ', 'm', 'a', 'n']\n"
     ]
    }
   ],
   "source": [
    "list1=[\"apple\",\"banana\",\"mango\",\"cherry\"]\n",
    "list1[1:2]=[\"A\"]\n",
    "print(list1)\n",
    "# list1[:]=[\"B\"]\n",
    "# print(list1)\n",
    "list1[1:4]=[\"C\"]\n",
    "print(list1)\n",
    "list1=[\"apple\",\"banana\",\"mango\",\"cherry\"]\n",
    "list1[1:]=\"Apple man\"\n",
    "print(list1)"
   ]
  },
  {
   "cell_type": "code",
   "execution_count": null,
   "metadata": {},
   "outputs": [
    {
     "name": "stdout",
     "output_type": "stream",
     "text": [
      "['apple', 'banana', 'mango', 'cherry', 'kiwi']\n",
      "['apple', 'banana', 'mango', 'cherry']\n",
      "['apple', 'mango', 'cherry']\n",
      "['mango', 'cherry']\n",
      "[]\n"
     ]
    }
   ],
   "source": [
    "#adding element to the list\n",
    "list1=[\"apple\",\"banana\",\"mango\",\"cherry\"]\n",
    "list1.append(\"kiwi\")\n",
    "print(list1)\n",
    "list1.pop()\n",
    "print(list1)\n",
    "list1.pop(1)\n",
    "print(list1)\n",
    "del list1[0]\n",
    "print(list1)\n",
    "# del list1\n",
    "# print(list1)\n",
    "\n",
    "# clear\n",
    "list1.clear()\n",
    "print(list1)\n"
   ]
  },
  {
   "cell_type": "code",
   "execution_count": null,
   "metadata": {},
   "outputs": [
    {
     "name": "stdout",
     "output_type": "stream",
     "text": [
      "[1, 4, 9, 16, 25, 36]\n"
     ]
    }
   ],
   "source": [
    "list=[1,2,3,4,5,6]\n",
    "list1=[]\n",
    "for i in list:\n",
    "    val=i**2\n",
    "    list1.append(val)\n",
    "print(list1)\n"
   ]
  },
  {
   "cell_type": "code",
   "execution_count": null,
   "metadata": {},
   "outputs": [
    {
     "name": "stdout",
     "output_type": "stream",
     "text": [
      "h\n",
      "e\n",
      "l\n",
      "l\n",
      "block\n",
      " \n",
      "p\n",
      "y\n",
      "t\n",
      "h\n",
      "block\n",
      "n\n"
     ]
    }
   ],
   "source": [
    "string=\"hello python\"\n",
    "for i in string:\n",
    "    if i=='o':\n",
    "        print(\"block\")\n",
    "    else:\n",
    "        print(i)"
   ]
  },
  {
   "cell_type": "code",
   "execution_count": null,
   "metadata": {},
   "outputs": [
    {
     "name": "stdout",
     "output_type": "stream",
     "text": [
      "[2, 4, 6, 8]\n"
     ]
    }
   ],
   "source": [
    "li=[1,2,3,4,5,6,7,8,9]\n",
    "lis=[]\n",
    "for i in li:\n",
    "    if i%2==0:\n",
    "        lis.append(i)\n",
    "print(lis)"
   ]
  },
  {
   "cell_type": "code",
   "execution_count": null,
   "metadata": {},
   "outputs": [
    {
     "name": "stdout",
     "output_type": "stream",
     "text": [
      "range(0, 10)\n",
      "[0, 1, 2, 3, 4, 5, 6, 7, 8, 9]\n",
      "[0, 2, 4, 6, 8, 10, 12, 14, 16, 18, 20]\n"
     ]
    }
   ],
   "source": [
    "\n",
    "print(range(10))\n",
    "print(list(range(10)))\n",
    "print(list(range(0,21,2)))"
   ]
  },
  {
   "cell_type": "code",
   "execution_count": 56,
   "metadata": {},
   "outputs": [
    {
     "name": "stdout",
     "output_type": "stream",
     "text": [
      "3\n",
      "6\n",
      "9\n",
      "12\n"
     ]
    }
   ],
   "source": [
    "c=0\n",
    "while c<10:\n",
    "   \n",
    "    c+=3\n",
    "    print(c)"
   ]
  },
  {
   "cell_type": "code",
   "execution_count": 57,
   "metadata": {},
   "outputs": [],
   "source": [
    "# while True:\n",
    "#     n=10\n",
    "#     if n==10:\n",
    "#         break\n",
    "#     print(n)"
   ]
  },
  {
   "cell_type": "code",
   "execution_count": 1,
   "metadata": {},
   "outputs": [],
   "source": [
    "while True:\n",
    "    n=10\n",
    "    if n==10:\n",
    "        break\n",
    "    print(n)"
   ]
  },
  {
   "cell_type": "code",
   "execution_count": 3,
   "metadata": {},
   "outputs": [
    {
     "name": "stdout",
     "output_type": "stream",
     "text": [
      "True\n",
      "['kiwi']\n",
      "['Apple', 'Banana', 'Kiwi', 'Mango']\n",
      "['Mango', 'Kiwi', 'Banana', 'Apple']\n"
     ]
    }
   ],
   "source": [
    "a=8\n",
    "print(a!=1)\n",
    "    \n",
    "mylist=[\"apple\",\"banana\",\"mango\",\"kiwi\"]\n",
    "newlist=[x for x in mylist if \"a\" not in x ]\n",
    "print(newlist)\n",
    "newli1=[x.capitalize() for x in mylist]\n",
    "newli1.sort()\n",
    "print(newli1)\n",
    "newli1.sort(reverse=True)\n",
    "print(newli1)\n"
   ]
  },
  {
   "cell_type": "code",
   "execution_count": null,
   "metadata": {},
   "outputs": [],
   "source": []
  },
  {
   "cell_type": "code",
   "execution_count": 26,
   "metadata": {},
   "outputs": [
    {
     "name": "stdout",
     "output_type": "stream",
     "text": [
      "(1, 2, 3, 4, 5, 6, 7, 6, 'A', 'B')\n",
      "(1, 2, 3, 4, 5, 6, 7)\n",
      "<class 'tuple'>\n",
      "<class 'tuple'>\n",
      "<class 'tuple'>\n",
      "<class 'str'>\n",
      "---------------------------\n",
      "1\n",
      "B\n",
      "(1, 2, 3, 4, 5, 6, 7, 6, 'A', 'B')\n",
      "(1, 2, 3, 4, 5, 6, 7, 6, 'A', 'B')\n",
      "(4, 5, 6, 7, 6, 'A', 'B')\n",
      "(4, 5)\n",
      "(1, 2, 3, 4, 5, 6, 7, 6)\n",
      "(6, 'A')\n",
      "(1, 'a', 3, 4, 5, 6, 7, 6, 'A', 'B')\n",
      "(1, 'a', 3, 4, 5, 6, 7, 6, 'A', 'B', 1, 2, 3, 4, 5)\n"
     ]
    }
   ],
   "source": [
    "# tuple () , store multiple items  , order and unchageable\n",
    "Tuple=(1,2,3,4,5,6,7,6,\"A\",\"B\")\n",
    "print(Tuple)\n",
    "Tuple1=tuple((1,2,3,4,5,6,7))\n",
    "print(Tuple1)\n",
    "print(type(Tuple))\n",
    "print(type(Tuple1))\n",
    "\n",
    "mytuple=(\"hi\",)\n",
    "mytuple1=(\"hi\")\n",
    "print(type(mytuple))\n",
    "print(type(mytuple1))\n",
    "\n",
    "\n",
    "# Access Tuple\n",
    "print(\"---------------------------\")\n",
    "print(Tuple[0])\n",
    "print(Tuple[-1])\n",
    "print(Tuple[0:])\n",
    "print(Tuple[:])\n",
    "print(Tuple[3:])\n",
    "print(Tuple[3:5])\n",
    "print(Tuple[:-2])\n",
    "print(Tuple[-3:-1])\n",
    "\n",
    "# change the tuple into list , it will help to change and change it back to list to tuple\n",
    "\n",
    "Tupl1=(1,2,3,4,5)\n",
    "List=list(Tuple)\n",
    "List[1]=\"a\"\n",
    "Tuple=tuple(List)\n",
    "\n",
    "# add tuple to tuple\n",
    "\n",
    "print(Tuple)\n",
    "Tuple +=Tupl1\n",
    "print(Tuple)\n",
    "\n"
   ]
  },
  {
   "cell_type": "code",
   "execution_count": 31,
   "metadata": {},
   "outputs": [
    {
     "name": "stdout",
     "output_type": "stream",
     "text": [
      "(2, 3, 4, 1)\n",
      "(2, 3, 4)\n"
     ]
    }
   ],
   "source": [
    "# remove items from tuple by changeing in list we can do it\n",
    "\n",
    "Tuple=(1,2,3,4,1) \n",
    "List=list(Tuple)\n",
    "List.remove(1)\n",
    "Tuple=tuple(List)\n",
    "print(Tuple)\n",
    "\n",
    "List=list(Tuple)\n",
    "List.remove(1)\n",
    "Tuple=tuple(List)\n",
    "print(Tuple)\n",
    "\n",
    "# Tuple can de Deleted\n",
    "# del Tuple\n",
    "# print(Tuple)  it will say name 'Tuple' is not defined"
   ]
  },
  {
   "cell_type": "code",
   "execution_count": 39,
   "metadata": {},
   "outputs": [
    {
     "name": "stdout",
     "output_type": "stream",
     "text": [
      "A\n",
      "B\n",
      "C\n",
      "apple\n",
      "banana\n",
      "['cherry', 'mango', 'Kiwi']\n",
      "apple\n",
      "['banana', 'cherry', 'mango']\n",
      "Kiwi\n"
     ]
    }
   ],
   "source": [
    "# Unpacking Tuple \n",
    "\n",
    "Tuple=('A',\"B\",\"C\") # packing tuple\n",
    "(apple,banana,mango)=Tuple # Unpacking Tuple  and note : the number of variable should mach to values in Tuple\n",
    "\n",
    "print(apple)\n",
    "print(banana)\n",
    "print(mango)\n",
    "\n",
    "# using * \n",
    "\n",
    "fruits = (\"apple\" , \"banana\", \"cherry\",\"mango\",\"Kiwi\")\n",
    "(A,B,*C)=fruits\n",
    "print(A)\n",
    "print(B)\n",
    "print(C)\n",
    "\n",
    "(A,*B,C)=fruits\n",
    "print(A)\n",
    "print(B)\n",
    "print(C)\n"
   ]
  },
  {
   "cell_type": "code",
   "execution_count": 49,
   "metadata": {},
   "outputs": [
    {
     "name": "stdout",
     "output_type": "stream",
     "text": [
      "1\n",
      "2\n",
      "3\n",
      "4\n",
      "5\n",
      "6\n",
      "____________________\n",
      "1\n",
      "2\n",
      "3\n",
      "4\n",
      "5\n",
      "6\n",
      "______________\n",
      "1\n",
      "2\n",
      "3\n",
      "4\n",
      "5\n",
      "6\n",
      "(1, 2, 3, 4, 3, 3, 5, 4, 'a', 'b', 'c')\n",
      "(1, 2, 3, 4, 3, 3, 5, 4, 1, 2, 3, 4, 3, 3, 5, 4)\n",
      "2\n",
      "3\n"
     ]
    }
   ],
   "source": [
    "# loop tuple\n",
    "Tuple=(1,2,3,4,5,6)\n",
    "for i in Tuple:\n",
    "    print(i)\n",
    "\n",
    "# loop through index\n",
    "print(\"____________________\")\n",
    "for i in range(len(Tuple)):\n",
    "    print(Tuple[i])\n",
    "\n",
    "# using while\n",
    "\n",
    "print(\"______________\")\n",
    "\n",
    "i=0\n",
    "while i<len(Tuple):\n",
    "    print(Tuple[i])\n",
    "    i +=1\n",
    "\n",
    "# join tuple\n",
    "\n",
    "t1=(1,2,3,4,3,3,5,4)\n",
    "t2=(\"a\",\"b\",\"c\")\n",
    "t3=t1+t2\n",
    "print(t3)\n",
    "\n",
    "mul=t1*2\n",
    "print(mul)\n",
    "\n",
    "x=t1.count(4)\n",
    "print(x)\n",
    "\n",
    "x=t1.index(4)\n",
    "print(x)"
   ]
  },
  {
   "cell_type": "code",
   "execution_count": null,
   "metadata": {},
   "outputs": [],
   "source": []
  },
  {
   "cell_type": "code",
   "execution_count": 11,
   "metadata": {},
   "outputs": [
    {
     "name": "stdout",
     "output_type": "stream",
     "text": [
      "{1, 2, 3, 4, 5}\n",
      "{'banana', 'mango', 'apple'}\n",
      "{0, 1, 2, 'apple', 'banana'}\n",
      "{True, 2, 3, 'apple', 'banana'}\n",
      "{1, 2, 3, 'apple', 'banana'}\n",
      "{0, 1, 2, 3, 'apple', 'banana'}\n",
      "{False, 1, 2, 3, 'apple', 'banana'}\n"
     ]
    }
   ],
   "source": [
    "# Set {} unordered , unchangeable ,  and we can remove items , not allow duplicate.\n",
    "\n",
    "set1={1,2,3,4,5,1,2}\n",
    "print(set1) \n",
    "\n",
    "set2={\"apple\",\"banana\",\"mango\"}\n",
    "print(set2)\n",
    "\n",
    "set3={1,2,\"apple\",\"banana\",True,0,False}\n",
    "print(set3)\n",
    "\n",
    "set4={\"apple\",\"banana\",True,1,2,3}\n",
    "print(set4)\n",
    "\n",
    "set5={\"apple\",\"banana\",1,True,2,3}\n",
    "print(set5)\n",
    "\n",
    "set6={\"apple\",\"banana\",0,False,1,True,2,3}\n",
    "print(set6)\n",
    "\n",
    "set7={\"apple\",\"banana\",False,0,1,True,2,3}\n",
    "print(set7)"
   ]
  },
  {
   "cell_type": "code",
   "execution_count": null,
   "metadata": {},
   "outputs": [
    {
     "name": "stdout",
     "output_type": "stream",
     "text": [
      "mango\n",
      "1\n",
      "2\n",
      "3\n",
      "apple\n",
      "bannana\n",
      "True\n",
      "False\n",
      "False\n",
      "True\n",
      "{'mango', 1, 2, 3, 'apple', 'orange', 'bannana'}\n",
      "{'mango', 1, 2, 3, 'cherry', 'kewi', 6, 7, 45, 'apple', 'orange', 'bannana'}\n",
      "{'mango', 1, 2, 3, 'cherry', 'kewi', 6, 7, 11, 45, 333, 'apple', 'orange', 4444, 222, 'bannana'}\n",
      "{'mango', 1, 2, 3, 'orange', 'bannana'}\n",
      "{'mango', 2, 3, 'cherry', 'kewi', 6, 7, 11, 45, 333, 'apple', 'orange', 4444, 222, 'bannana'}\n",
      "{'mango', 2, 3, 'cherry', 'kewi', 6, 7, 11, 45, 333, 'apple', 'orange', 4444, 222, 'bannana'}\n",
      "{1, 2, 3, 'orange', 'bannana'}\n",
      "set()\n"
     ]
    },
    {
     "ename": "NameError",
     "evalue": "name 'set22' is not defined",
     "output_type": "error",
     "traceback": [
      "\u001b[1;31m---------------------------------------------------------------------------\u001b[0m",
      "\u001b[1;31mNameError\u001b[0m                                 Traceback (most recent call last)",
      "Cell \u001b[1;32mIn[29], line 32\u001b[0m\n\u001b[0;32m     30\u001b[0m \u001b[38;5;28mprint\u001b[39m(set11)\n\u001b[0;32m     31\u001b[0m \u001b[38;5;28;01mdel\u001b[39;00m set22\n\u001b[1;32m---> 32\u001b[0m \u001b[38;5;28mprint\u001b[39m(\u001b[43mset22\u001b[49m)\n",
      "\u001b[1;31mNameError\u001b[0m: name 'set22' is not defined"
     ]
    }
   ],
   "source": [
    "# Constructor\n",
    "\n",
    "set11=set((\"apple\",\"bannana\",\"mango\",1,2,3))\n",
    "set22=set((1,2,3,45,6,7,\"cherry\",\"kewi\"))\n",
    "list1=[11,222,333,4444]\n",
    "for i in set11:\n",
    "    print(i)\n",
    "print(\"apple\" in set11)\n",
    "print(\"Apple\" in set11)\n",
    "\n",
    "print(\"apple\" not in set11)\n",
    "print(\"Apple\" not  in set11)\n",
    "\n",
    "# add items\n",
    "\n",
    "set11.add(\"orange\")\n",
    "print(set11)\n",
    "set22.update(set11)\n",
    "print(set22)\n",
    "set22.update(list1)\n",
    "print(set22)\n",
    "set11.remove(\"apple\")\n",
    "print(set11)\n",
    "set22.discard(1)\n",
    "print(set22)\n",
    "print(set22)\n",
    "set11.pop()\n",
    "print(set11)\n",
    "set11.clear()\n",
    "print(set11)\n",
    "# del set22\n",
    "# print(set22)"
   ]
  },
  {
   "cell_type": "code",
   "execution_count": null,
   "metadata": {},
   "outputs": [
    {
     "name": "stdout",
     "output_type": "stream",
     "text": [
      "{1, 2, 3, 4, 5, 6, 'apple', 'banana', 'orange', 'mango'}\n",
      "{1, 2, 3, 4, 5, 6}\n",
      "{1, 2, 3, 4, 5, 6, 'apple', 'banana', 'orange', 'mango'}\n",
      "{1, 'apple', 'mango'}\n",
      "{1, 'apple', 'mango'}\n",
      "{1, 'apple', 'mango'}\n",
      "{0, 1, 2, 'mango'}\n"
     ]
    }
   ],
   "source": [
    "set1={1,2,3}\n",
    "set2={4,5,6}\n",
    "set3={\"apple\",\"banana\"}\n",
    "set4={\"orange\",\"mango\"}\n",
    "\n",
    "set5=set1.union(set2,set3,set4)\n",
    "print(set5)\n",
    "\n",
    "set6=set1 | set2\n",
    "print(set6)\n",
    "\n",
    "set7= set1 | set2 | set3 |set4\n",
    "print(set7)\n",
    "\n",
    "# intersection() , &\n",
    "\n",
    "set1={\"apple\", \"banana\",\"mango\",1,2}\n",
    "set2={\"mango\",\"apple\",\"kiwi\",1,7}\n",
    "set3=set1.intersection(set2)\n",
    "print(set3)\n",
    "set4=set1 & set2\n",
    "print(set4)\n",
    "set1.intersection_update(set2)\n",
    "print(set1)\n"
   ]
  },
  {
   "cell_type": "code",
   "execution_count": 16,
   "metadata": {},
   "outputs": [
    {
     "name": "stdout",
     "output_type": "stream",
     "text": [
      "{False, 1, 'cherry'}\n"
     ]
    }
   ],
   "source": [
    "set1={\"apple\",1,\"mango\",0,\"cherry\"}\n",
    "set2={False,\"mangom\",1,\"cherry\",2,True}\n",
    "set3=set1.intersection(set2)\n",
    "print(set3)"
   ]
  },
  {
   "cell_type": "code",
   "execution_count": 17,
   "metadata": {},
   "outputs": [
    {
     "name": "stdout",
     "output_type": "stream",
     "text": [
      "{False, True, 'apple'}\n"
     ]
    }
   ],
   "source": [
    "set1 = {\"apple\", 1, \"banana\", 0, \"cherry\"}\n",
    "set2 = {False, \"google\", \"microsoft\", \"apple\", True}\n",
    "\n",
    "set3 = set1.intersection(set2)\n",
    "print(set3)\n"
   ]
  },
  {
   "cell_type": "code",
   "execution_count": null,
   "metadata": {},
   "outputs": [],
   "source": []
  },
  {
   "cell_type": "code",
   "execution_count": null,
   "metadata": {},
   "outputs": [],
   "source": []
  },
  {
   "cell_type": "code",
   "execution_count": null,
   "metadata": {},
   "outputs": [],
   "source": []
  },
  {
   "cell_type": "code",
   "execution_count": null,
   "metadata": {},
   "outputs": [],
   "source": []
  },
  {
   "cell_type": "code",
   "execution_count": null,
   "metadata": {},
   "outputs": [],
   "source": []
  }
 ],
 "metadata": {
  "kernelspec": {
   "display_name": "Python 3",
   "language": "python",
   "name": "python3"
  },
  "language_info": {
   "codemirror_mode": {
    "name": "ipython",
    "version": 3
   },
   "file_extension": ".py",
   "mimetype": "text/x-python",
   "name": "python",
   "nbconvert_exporter": "python",
   "pygments_lexer": "ipython3",
   "version": "3.13.0"
  }
 },
 "nbformat": 4,
 "nbformat_minor": 2
}
