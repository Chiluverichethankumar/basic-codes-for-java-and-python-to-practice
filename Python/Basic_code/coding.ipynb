{
 "cells": [
  {
   "cell_type": "code",
   "execution_count": null,
   "id": "f29847f5",
   "metadata": {},
   "outputs": [
    {
     "name": "stdout",
     "output_type": "stream",
     "text": [
      "Hello\n",
      "5\n"
     ]
    }
   ],
   "source": [
    "# Assign and print length\n",
    "text=\"Hello\"\n",
    "print(text)\n",
    "print(len(text))"
   ]
  },
  {
   "cell_type": "code",
   "execution_count": null,
   "id": "d5564383",
   "metadata": {},
   "outputs": [
    {
     "name": "stdout",
     "output_type": "stream",
     "text": [
      "20 10\n",
      "2 1\n"
     ]
    }
   ],
   "source": [
    "# Swap numbers\n",
    "a=10\n",
    "b=20\n",
    "a,b=b,a\n",
    "print(a,b)\n",
    "\n",
    "\n",
    "a=1\n",
    "b=2\n",
    "c=0\n",
    "\n",
    "c=a\n",
    "a=b\n",
    "b=c\n",
    "print(a,b)"
   ]
  },
  {
   "cell_type": "code",
   "execution_count": 5,
   "id": "a7b97c27",
   "metadata": {},
   "outputs": [
    {
     "name": "stdout",
     "output_type": "stream",
     "text": [
      "Negative number\n"
     ]
    }
   ],
   "source": [
    "# Positive or Negative number\n",
    "\n",
    "num=int(input())\n",
    "\n",
    "if num >= 0 :\n",
    "    print(\"Positve number\")\n",
    "else:\n",
    "    print(\"Negative number\")\n"
   ]
  },
  {
   "cell_type": "code",
   "execution_count": 10,
   "id": "ff1228e0",
   "metadata": {},
   "outputs": [
    {
     "name": "stdout",
     "output_type": "stream",
     "text": [
      "-Ve num\n"
     ]
    }
   ],
   "source": [
    "num=int(input())\n",
    "print(\"+ve num\" if num>=0 else \"-Ve num\")"
   ]
  },
  {
   "cell_type": "code",
   "execution_count": 7,
   "id": "d546b25f",
   "metadata": {},
   "outputs": [
    {
     "name": "stdout",
     "output_type": "stream",
     "text": [
      "even\n"
     ]
    }
   ],
   "source": [
    "# Even or Odd number\n",
    "num=int(input())\n",
    "if num%2==0:\n",
    "    print(\"even\")\n",
    "else:\n",
    "    print(\"odd\")"
   ]
  },
  {
   "cell_type": "code",
   "execution_count": 12,
   "id": "b7ba93c8",
   "metadata": {},
   "outputs": [
    {
     "name": "stdout",
     "output_type": "stream",
     "text": [
      "eve\n"
     ]
    }
   ],
   "source": [
    "num=int(input()); print(\"eve\" if num%2==0 else \"odd\")"
   ]
  },
  {
   "cell_type": "code",
   "execution_count": 14,
   "id": "7a5bc1d8",
   "metadata": {},
   "outputs": [
    {
     "name": "stdout",
     "output_type": "stream",
     "text": [
      "0\n",
      "1\n",
      "2\n",
      "3\n",
      "4\n",
      "5\n",
      "6\n",
      "7\n",
      "8\n",
      "9\n",
      " / \n",
      "10\n",
      "9\n",
      "8\n",
      "7\n",
      "6\n",
      "5\n",
      "4\n",
      "3\n",
      "2\n",
      "1\n",
      "0\n"
     ]
    }
   ],
   "source": [
    "num=10\n",
    "for i in range(0,num):\n",
    "    print(i)\n",
    "\n",
    "print(\" / \")\n",
    "for i in range(num,-1,-1):\n",
    "    print(i)"
   ]
  },
  {
   "cell_type": "code",
   "execution_count": 20,
   "id": "d9b93242",
   "metadata": {},
   "outputs": [
    {
     "name": "stdout",
     "output_type": "stream",
     "text": [
      "30\n",
      "1\n",
      "2\n",
      "2\n",
      "3\n",
      "3\n",
      "4\n"
     ]
    }
   ],
   "source": [
    "a = lambda x,y:x+y\n",
    "print(a(10,20))\n",
    "for i in range(0,3):\n",
    "    for j in range (1,3):\n",
    "        print(a(i,j))"
   ]
  },
  {
   "cell_type": "code",
   "execution_count": 21,
   "id": "c7841dc9",
   "metadata": {},
   "outputs": [
    {
     "name": "stdout",
     "output_type": "stream",
     "text": [
      "5\n",
      "4\n",
      "3\n",
      "2\n",
      "1\n"
     ]
    }
   ],
   "source": [
    "i = 5\n",
    "while i > 0:\n",
    "    print(i)\n",
    "    i -=1"
   ]
  },
  {
   "cell_type": "code",
   "execution_count": 22,
   "id": "483db027",
   "metadata": {},
   "outputs": [],
   "source": [
    "# with \n",
    "with open(\"ex.txt\",\"w\") as file:\n",
    "    file.write(\"hello world!\")"
   ]
  },
  {
   "cell_type": "code",
   "execution_count": 25,
   "id": "ed37e057",
   "metadata": {},
   "outputs": [
    {
     "name": "stdout",
     "output_type": "stream",
     "text": [
      "hello world!\n"
     ]
    }
   ],
   "source": [
    "with open(\"ex.txt\",\"r\") as file:\n",
    "    print(file.read())"
   ]
  },
  {
   "cell_type": "markdown",
   "id": "91858bc3",
   "metadata": {},
   "source": [
    "- Aspect,return (Snippet 1),yield (Snippets 2 and 3)\n",
    "- Function Type,Regular function,Generator function\n",
    "- Output,\"Single value (e.g., 0)\",Generator object yielding multiple - values\n",
    "- Loop Behavior,Exits after first return,\"Yields one value per iteration, resumes after\"\n",
    "- Iterability,Returns non-iterable integer (0),Returns iterable generator object\n",
    "- Output,Causes TypeError when iterating,Prints 0 1 4 9 16 25\n",
    "- Memory Usage,\"Returns one value, no iteration\",\"Yields values one at a time, memory-efficient\""
   ]
  },
  {
   "cell_type": "code",
   "execution_count": 46,
   "id": "129f487d",
   "metadata": {},
   "outputs": [
    {
     "name": "stdout",
     "output_type": "stream",
     "text": [
      "0\n",
      "1\n",
      "5\n",
      "14\n",
      "30\n",
      "55\n"
     ]
    }
   ],
   "source": [
    "# Regular function\n",
    "\n",
    "def sum_of_squares():\n",
    "    total = 0\n",
    "    for i in range(6):\n",
    "        total += i * i\n",
    "        print(total)\n",
    "\n",
    "sum_of_squares()  # Output: 55 (0 + 1 + 4 + 9 + 16 + 25)\n",
    "\n",
    "# def square():\n",
    "#     for i in range(6):\n",
    "#         return i*i\n",
    "# s=square()\n",
    "# for i in s:\n",
    "#     print(i)"
   ]
  },
  {
   "cell_type": "code",
   "execution_count": null,
   "id": "9218403f",
   "metadata": {},
   "outputs": [
    {
     "name": "stdout",
     "output_type": "stream",
     "text": [
      "('q', 'e', 'w', 'q')\n"
     ]
    }
   ],
   "source": []
  },
  {
   "cell_type": "code",
   "execution_count": null,
   "id": "7c6d4047",
   "metadata": {},
   "outputs": [
    {
     "name": "stdout",
     "output_type": "stream",
     "text": [
      "0\n",
      "1\n",
      "4\n",
      "9\n",
      "16\n",
      "25\n"
     ]
    }
   ],
   "source": [
    "# yield\n",
    "# Generator function\n",
    "\n",
    "def square():\n",
    "    for i in range(6):\n",
    "        yield i*i\n",
    "s=square()\n",
    "for i in s:\n",
    "    print(i)"
   ]
  },
  {
   "cell_type": "code",
   "execution_count": 15,
   "id": "0df54b78",
   "metadata": {},
   "outputs": [
    {
     "name": "stdout",
     "output_type": "stream",
     "text": [
      "55\n"
     ]
    }
   ],
   "source": [
    "# Sum of First N Natural numbers\n",
    "\n",
    "fn=10\n",
    "Num=0\n",
    "for i in range(0,fn+1):\n",
    "    Num=Num+i\n",
    "print(Num)\n",
    "\n"
   ]
  },
  {
   "cell_type": "code",
   "execution_count": null,
   "id": "9ad349d9",
   "metadata": {},
   "outputs": [
    {
     "name": "stdout",
     "output_type": "stream",
     "text": [
      "55\n"
     ]
    }
   ],
   "source": [
    "fn=10\n",
    "print((fn*(fn+1))//2)"
   ]
  },
  {
   "cell_type": "code",
   "execution_count": 32,
   "id": "08a765e9",
   "metadata": {},
   "outputs": [
    {
     "name": "stdout",
     "output_type": "stream",
     "text": [
      "14\n"
     ]
    }
   ],
   "source": [
    "# Sum of numbers in a given range\n",
    "s=2\n",
    "e=5\n",
    "total=0\n",
    "for i in range(s,e+1):\n",
    "    total+=i\n",
    "print(total)\n",
    "\n"
   ]
  },
  {
   "cell_type": "code",
   "execution_count": 26,
   "id": "8b75f45a",
   "metadata": {},
   "outputs": [
    {
     "name": "stdout",
     "output_type": "stream",
     "text": [
      "chethankumar\n",
      "12\n",
      "c 1\n",
      "h 2\n",
      "e 1\n",
      "t 1\n",
      "a 2\n",
      "n 1\n",
      "k 1\n",
      "u 1\n",
      "m 1\n",
      "r 1\n"
     ]
    }
   ],
   "source": [
    "# counting the each and every elementes how many times is it repeted in the string\n",
    "\n",
    "Str=\"Chethan kumar\"\n",
    "# Str=Str.lower().replace(\" \",\"\")\n",
    "# Str=\"\".join(Str.split())\n",
    "Str=\"\".join(Str.lower().split())\n",
    "print(Str)\n",
    "print(len(Str))\n",
    "Total={}\n",
    "\n",
    "for i in Str:\n",
    "    if i in Total:\n",
    "        Total[i]+=1\n",
    "    else:\n",
    "        Total[i]=1\n",
    "\n",
    "for i,j in Total.items():\n",
    "    print(i,j)\n",
    "    \n",
    "\n"
   ]
  },
  {
   "cell_type": "code",
   "execution_count": 46,
   "id": "592f8c5e",
   "metadata": {},
   "outputs": [
    {
     "name": "stdout",
     "output_type": "stream",
     "text": [
      "hihelloitisagoodday!\n",
      "h 2\n",
      "i 3\n",
      "e 1\n",
      "l 2\n",
      "o 3\n",
      "t 1\n",
      "s 1\n",
      "a 2\n",
      "g 1\n",
      "d 2\n",
      "y 1\n",
      "! 1\n"
     ]
    }
   ],
   "source": [
    "String=\"Hi hello it is a Good day!\"\n",
    "String=\"\".join(String.lower().split())\n",
    "print(String)\n",
    "\n",
    "count={}\n",
    "\n",
    "for i in String:\n",
    "    if i in count:\n",
    "        count[i]+=1\n",
    "    else:\n",
    "        count[i]=1\n",
    "\n",
    "for i,j in count.items():\n",
    "    print(i,j)"
   ]
  },
  {
   "cell_type": "code",
   "execution_count": 48,
   "id": "57a1ec5a",
   "metadata": {},
   "outputs": [
    {
     "name": "stdout",
     "output_type": "stream",
     "text": [
      "Yes\n"
     ]
    }
   ],
   "source": [
    "String=\"hihelloitisagoodday!\"\n",
    "List=['a','e','i','o','u']\n",
    "# print(String in List)\n",
    "for i in String:\n",
    "    if i in List:\n",
    "        print(\"Yes\")\n",
    "        break"
   ]
  },
  {
   "cell_type": "code",
   "execution_count": null,
   "id": "b914a430",
   "metadata": {},
   "outputs": [
    {
     "name": "stdout",
     "output_type": "stream",
     "text": [
      "{'i': 3, 'e': 1, 'o': 3, 'a': 2}\n"
     ]
    },
    {
     "ename": "",
     "evalue": "",
     "output_type": "error",
     "traceback": [
      "\u001b[1;31mThe Kernel crashed while executing code in the current cell or a previous cell. \n",
      "\u001b[1;31mPlease review the code in the cell(s) to identify a possible cause of the failure. \n",
      "\u001b[1;31mClick <a href='https://aka.ms/vscodeJupyterKernelCrash'>here</a> for more info. \n",
      "\u001b[1;31mView Jupyter <a href='command:jupyter.viewOutput'>log</a> for further details."
     ]
    }
   ],
   "source": [
    "String=\"hihelloitisagoodday!\"\n",
    "count1={}\n",
    "for i in String:\n",
    "    if i in List:\n",
    "        if i in count1:\n",
    "            count1[i]+=1\n",
    "        else:\n",
    "            count1[i]=1\n",
    "print(count1)\n",
    "    "
   ]
  },
  {
   "cell_type": "code",
   "execution_count": 35,
   "id": "b29fe87b",
   "metadata": {},
   "outputs": [
    {
     "name": "stdout",
     "output_type": "stream",
     "text": [
      "21\n"
     ]
    }
   ],
   "source": [
    "s,e=10,11\n",
    "print(sum(range(s,e+1)))"
   ]
  },
  {
   "cell_type": "code",
   "execution_count": 37,
   "id": "ee9ae9bf",
   "metadata": {},
   "outputs": [
    {
     "name": "stdout",
     "output_type": "stream",
     "text": [
      "20 is Greatest number\n"
     ]
    }
   ],
   "source": [
    "# Greatest of two numbers\n",
    "num1,num2=10,20\n",
    "print(f\"{num1} is Greatest number\" if num1>num2 else f\"{num2} is Greatest number\" )"
   ]
  },
  {
   "cell_type": "code",
   "execution_count": 40,
   "id": "679a7f3c",
   "metadata": {},
   "outputs": [
    {
     "name": "stdout",
     "output_type": "stream",
     "text": [
      "20 is Greatest number\n"
     ]
    }
   ],
   "source": [
    "# Greatest of two numbers\n",
    "num1,num2,num3=10,20,4\n",
    "print(f\"{num1} is Greatest number\"  if num1>num2 and num1>num3 else\n",
    "        f\"{num2} is Greatest number\"  if num2>num3 else \n",
    "        f\"{num3} is Greatest number\")"
   ]
  },
  {
   "cell_type": "code",
   "execution_count": 42,
   "id": "0518e214",
   "metadata": {},
   "outputs": [
    {
     "name": "stdout",
     "output_type": "stream",
     "text": [
      "leap year\n"
     ]
    }
   ],
   "source": [
    "# Leap year or not\n",
    "\n",
    "year=2000\n",
    "if (year % 4 ==0 and year %100!=0 ) or (year % 400 ==0):\n",
    "    print(\"leap year\")\n",
    "else:\n",
    "    print(\"not leap year\")"
   ]
  },
  {
   "cell_type": "code",
   "execution_count": 54,
   "id": "eb64b6f4",
   "metadata": {},
   "outputs": [
    {
     "name": "stdout",
     "output_type": "stream",
     "text": [
      "prime\n"
     ]
    }
   ],
   "source": [
    "# Prime number\n",
    "num=7\n",
    "\n",
    "if num>1:\n",
    "    for i in range(2,num):\n",
    "        if num%i==0:\n",
    "            print(\"not prime\")\n",
    "            break\n",
    "    else:\n",
    "        print(\"prime\")\n",
    "else:\n",
    "    print(\"not prime\")"
   ]
  },
  {
   "cell_type": "code",
   "execution_count": null,
   "id": "59775d08",
   "metadata": {},
   "outputs": [
    {
     "name": "stdout",
     "output_type": "stream",
     "text": [
      "[2, 3, 5, 7]\n"
     ]
    }
   ],
   "source": [
    "# Prime number within a given range\n",
    "\n",
    "s=2\n",
    "e=10\n",
    "arr=[]\n",
    "arr1=[]\n",
    "for i in range(s,e):\n",
    "    if i >1:\n",
    "        for j in range(2,i):\n",
    "            if i%j==0:\n",
    "                break\n",
    "        else:\n",
    "            arr.append(i)\n",
    "            arr1.append(i)\n",
    "print(arr)\n",
    "    \n",
    "\n"
   ]
  },
  {
   "cell_type": "code",
   "execution_count": null,
   "id": "04a1e589",
   "metadata": {},
   "outputs": [
    {
     "name": "stdout",
     "output_type": "stream",
     "text": [
      "15\n"
     ]
    }
   ],
   "source": [
    "# Sum of digits of a number\n",
    "\n",
    "num=12345\n",
    "str1=str(num)\n",
    "total=0\n",
    "for i in str1:\n",
    "    total+=int(i)\n",
    "print(total)\n",
    "\n"
   ]
  },
  {
   "cell_type": "code",
   "execution_count": null,
   "id": "78e81adc",
   "metadata": {},
   "outputs": [
    {
     "name": "stdout",
     "output_type": "stream",
     "text": [
      "321\n"
     ]
    }
   ],
   "source": [
    "# Reverse of a number\n",
    "num=123\n",
    "num1=str(num)\n",
    "print(num1[::-1])"
   ]
  },
  {
   "cell_type": "code",
   "execution_count": 102,
   "id": "bb206bb9",
   "metadata": {},
   "outputs": [
    {
     "name": "stdout",
     "output_type": "stream",
     "text": [
      "321\n"
     ]
    }
   ],
   "source": [
    "arr=[]\n",
    "for i in range(len(num1)-1,-1,-1):\n",
    "    arr.append(num1[i])\n",
    "str2=\"\".join(arr)\n",
    "print(int(str2))\n"
   ]
  },
  {
   "cell_type": "code",
   "execution_count": 108,
   "id": "bc2dc6bf",
   "metadata": {},
   "outputs": [
    {
     "name": "stdout",
     "output_type": "stream",
     "text": [
      "not Palindrome number\n"
     ]
    }
   ],
   "source": [
    "# Palindrome number\n",
    "num = 2322\n",
    "str1=str(num)\n",
    "str2=str1[::-1]\n",
    "if str1 == str2:\n",
    "    print(\"Palindrome number\")\n",
    "else:\n",
    "    print(\"not Palindrome number\")\n",
    "\n"
   ]
  },
  {
   "cell_type": "code",
   "execution_count": 109,
   "id": "d89c62dc",
   "metadata": {},
   "outputs": [
    {
     "name": "stdout",
     "output_type": "stream",
     "text": [
      "not Palindrome number\n"
     ]
    }
   ],
   "source": [
    "arrstr=[]\n",
    "for i in range(len(str1)-1,-1,-1):\n",
    "    arrstr.append(str1[i])\n",
    "if str1 == str(\"\".join(arrstr)):\n",
    "    print(\"Palindrome number\")\n",
    "else:\n",
    "    print(\"not Palindrome number\")\n"
   ]
  },
  {
   "cell_type": "code",
   "execution_count": 152,
   "id": "02d83962",
   "metadata": {},
   "outputs": [
    {
     "name": "stdout",
     "output_type": "stream",
     "text": [
      "yes\n"
     ]
    }
   ],
   "source": [
    "# Armstrong number\n",
    "num=407\n",
    "num1=str(num)\n",
    "le=len(num1)\n",
    "total=0\n",
    "\n",
    "for i in range(0,len(num1)):\n",
    "    total+=int(num1[i])**le\n",
    "print(\"yes\" if num == total else \"NO\")\n",
    "\n",
    "\n",
    "\n"
   ]
  },
  {
   "cell_type": "code",
   "execution_count": 168,
   "id": "d29ebe22",
   "metadata": {},
   "outputs": [
    {
     "name": "stdout",
     "output_type": "stream",
     "text": [
      "['0', '1', '2', '3', '4', '5', '6', '7', '8', '9', '153', '370', '371', '407']\n"
     ]
    }
   ],
   "source": [
    "# Armstrong number in a given range\n",
    "\n",
    "s=\"0\"\n",
    "e=\"1000\"\n",
    "list1=[]\n",
    "\n",
    "for i in range(0,int(e)):\n",
    "    # print(i)\n",
    "    j=str(i)\n",
    "    # print(j)\n",
    "    le=len(j)\n",
    "    total=0\n",
    "    for k in range(0,len(j)):\n",
    "        total+=int(j[k])**le\n",
    "    if total == i:\n",
    "        # print(total)\n",
    "        list1.append(str(total))\n",
    "\n",
    "print(list1)\n"
   ]
  },
  {
   "cell_type": "code",
   "execution_count": 186,
   "id": "47fe9dc8",
   "metadata": {},
   "outputs": [
    {
     "name": "stdout",
     "output_type": "stream",
     "text": [
      "2 1\n"
     ]
    }
   ],
   "source": [
    "lis1=[1,2,3,4,5]\n",
    "total=5\n",
    "fon=False\n",
    "for i in range(len(lis1)):\n",
    "    for j in range(1,i):\n",
    "        sum = lis1[i] + lis1[j]\n",
    "        if sum == total:\n",
    "            print(i,j)\n",
    "            fon=True\n",
    "            break\n",
    "    if fon:\n",
    "        break\n",
    "        \n",
    "        \n",
    "    \n",
    "                  "
   ]
  },
  {
   "cell_type": "code",
   "execution_count": 205,
   "id": "9d981ebe",
   "metadata": {},
   "outputs": [
    {
     "name": "stdout",
     "output_type": "stream",
     "text": [
      "1\n",
      "1\n",
      "2\n",
      "3\n",
      "5\n",
      "8\n",
      "13\n",
      "21\n",
      "34\n",
      "55\n"
     ]
    }
   ],
   "source": [
    "# Fibonacci Series upto nth term\n",
    "\n",
    "num=10\n",
    "n=0\n",
    "n1=1\n",
    "for i in range(num):\n",
    "    # print(i)\n",
    "    # print(n)\n",
    "    n,n1=n1,n+n1\n",
    "    print(n)\n",
    "\n",
    "   \n",
    "\n",
    "\n",
    "\n"
   ]
  },
  {
   "cell_type": "code",
   "execution_count": 206,
   "id": "e888fc70",
   "metadata": {},
   "outputs": [
    {
     "name": "stdout",
     "output_type": "stream",
     "text": [
      "55\n"
     ]
    }
   ],
   "source": [
    "# ind the Nth Term of the Fibonacci Series\n",
    "\n",
    "num=10\n",
    "n=0\n",
    "n1=1\n",
    "for i in range(num):\n",
    "    # print(i)\n",
    "    # print(n)\n",
    "    n,n1=n1,n+n1\n",
    "print(n)"
   ]
  },
  {
   "cell_type": "code",
   "execution_count": 208,
   "id": "08753fc5",
   "metadata": {},
   "outputs": [
    {
     "name": "stdout",
     "output_type": "stream",
     "text": [
      "120\n"
     ]
    }
   ],
   "source": [
    "# Factorial of a number\n",
    "\n",
    "num=5\n",
    "total=1\n",
    "for i in range(1,num+1):\n",
    "    total*=i\n",
    "\n",
    "print(total)"
   ]
  },
  {
   "cell_type": "code",
   "execution_count": 209,
   "id": "f2bf5615",
   "metadata": {},
   "outputs": [
    {
     "name": "stdout",
     "output_type": "stream",
     "text": [
      "8\n"
     ]
    }
   ],
   "source": [
    "# Power of a number\n",
    "base=2\n",
    "po=3\n",
    "print(base**po)"
   ]
  },
  {
   "cell_type": "code",
   "execution_count": null,
   "id": "2a39c0f8",
   "metadata": {},
   "outputs": [],
   "source": [
    "# Factor of a number"
   ]
  }
 ],
 "metadata": {
  "kernelspec": {
   "display_name": "Python 3",
   "language": "python",
   "name": "python3"
  },
  "language_info": {
   "codemirror_mode": {
    "name": "ipython",
    "version": 3
   },
   "file_extension": ".py",
   "mimetype": "text/x-python",
   "name": "python",
   "nbconvert_exporter": "python",
   "pygments_lexer": "ipython3",
   "version": "3.12.10"
  }
 },
 "nbformat": 4,
 "nbformat_minor": 5
}
