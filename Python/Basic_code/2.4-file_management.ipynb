{
 "cells": [
  {
   "cell_type": "code",
   "execution_count": null,
   "id": "983432ec",
   "metadata": {},
   "outputs": [
    {
     "name": "stdout",
     "output_type": "stream",
     "text": [
      "d:\\new learn\\Python\\Basic_code\n",
      "b'd:\\\\new learn\\\\Python\\\\Basic_code'\n"
     ]
    }
   ],
   "source": [
    "import os\n",
    "print(os.getcwd())  # we see the present working directory\n",
    "print(os.getcwdb())  # we see the present working directory as a byte object\n"
   ]
  },
  {
   "cell_type": "code",
   "execution_count": 7,
   "id": "1a1b8be9",
   "metadata": {},
   "outputs": [
    {
     "name": "stdout",
     "output_type": "stream",
     "text": [
      "['test1.py', 'test2.py']\n",
      "b'd:\\\\new learn\\\\Python\\\\Basic_code\\\\filetest'\n"
     ]
    }
   ],
   "source": [
    "os.chdir('d:\\\\new learn\\\\Python\\\\Basic_code\\\\filetest')   # use to change directory\n",
    "print(os.listdir())                                       # All files and sub directories inside a directory\n",
    "                                                          # can be know using the listdir() method\n",
    "print(os.getcwdb())                                       # returns the presents working directory\n",
    "                                                          "
   ]
  },
  {
   "cell_type": "code",
   "execution_count": 8,
   "id": "53a3ae8b",
   "metadata": {},
   "outputs": [],
   "source": [
    "# used to make a new directory\n",
    "os.mkdir(\"Test\")"
   ]
  },
  {
   "cell_type": "code",
   "execution_count": 10,
   "id": "11df63dd",
   "metadata": {},
   "outputs": [],
   "source": [
    "# used to rename a directory\n",
    "os.rename(\"Test\",\"New_one\")"
   ]
  },
  {
   "cell_type": "code",
   "execution_count": 12,
   "id": "292f364f",
   "metadata": {},
   "outputs": [],
   "source": [
    "# remove a file and directory\n",
    "os.remove(\"test1.py\")\n"
   ]
  },
  {
   "cell_type": "code",
   "execution_count": 13,
   "id": "6b61a120",
   "metadata": {},
   "outputs": [],
   "source": [
    "os.rmdir(\"New_one\")"
   ]
  },
  {
   "cell_type": "code",
   "execution_count": 14,
   "id": "b8f0dfb5",
   "metadata": {},
   "outputs": [],
   "source": [
    "os.chdir(\"d:\\\\new learn\\\\Python\\\\Basic_code\")"
   ]
  },
  {
   "cell_type": "code",
   "execution_count": 15,
   "id": "4f64b496",
   "metadata": {},
   "outputs": [
    {
     "name": "stdout",
     "output_type": "stream",
     "text": [
      "b'd:\\\\new learn\\\\Python\\\\Basic_code'\n"
     ]
    }
   ],
   "source": [
    "print(os.getcwdb()) "
   ]
  },
  {
   "cell_type": "code",
   "execution_count": null,
   "id": "e4da3676",
   "metadata": {},
   "outputs": [],
   "source": []
  }
 ],
 "metadata": {
  "kernelspec": {
   "display_name": "Python 3",
   "language": "python",
   "name": "python3"
  },
  "language_info": {
   "codemirror_mode": {
    "name": "ipython",
    "version": 3
   },
   "file_extension": ".py",
   "mimetype": "text/x-python",
   "name": "python",
   "nbconvert_exporter": "python",
   "pygments_lexer": "ipython3",
   "version": "3.12.10"
  }
 },
 "nbformat": 4,
 "nbformat_minor": 5
}
