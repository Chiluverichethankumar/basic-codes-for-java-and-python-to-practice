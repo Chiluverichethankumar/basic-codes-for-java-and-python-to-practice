{
 "cells": [
  {
   "cell_type": "markdown",
   "metadata": {},
   "source": [
    "# Arrays\n",
    "- In Python, array is a collection of items stored at contiguous memory locations. The idea is to store multiple items of the same type together. Unlike Python lists (can store elements of mixed types), arrays must have all elements of same type. Having only homogeneous elements makes it memory-efficient."
   ]
  },
  {
   "cell_type": "markdown",
   "metadata": {},
   "source": [
    "## with import array modules"
   ]
  },
  {
   "cell_type": "code",
   "execution_count": 4,
   "metadata": {},
   "outputs": [
    {
     "name": "stdout",
     "output_type": "stream",
     "text": [
      "Note: you may need to restart the kernel to use updated packages.\n"
     ]
    },
    {
     "name": "stderr",
     "output_type": "stream",
     "text": [
      "ERROR: Could not find a version that satisfies the requirement array (from versions: none)\n",
      "\n",
      "[notice] A new release of pip is available: 25.1.1 -> 25.2\n",
      "[notice] To update, run: python.exe -m pip install --upgrade pip\n",
      "ERROR: No matching distribution found for array\n"
     ]
    }
   ],
   "source": [
    "pip install array"
   ]
  },
  {
   "cell_type": "code",
   "execution_count": 5,
   "metadata": {},
   "outputs": [
    {
     "name": "stdout",
     "output_type": "stream",
     "text": [
      "array('i', [1, 2, 3, 4, 5])\n",
      "<class 'array.array'>\n"
     ]
    }
   ],
   "source": [
    "import array\n",
    "arr=array.array(\"i\",[1,2,3,4,5])\n",
    "print(arr)\n",
    "print(type(arr))"
   ]
  },
  {
   "cell_type": "code",
   "execution_count": 26,
   "metadata": {},
   "outputs": [
    {
     "name": "stdout",
     "output_type": "stream",
     "text": [
      "array('i', [1, 2, 3, 4, -7, 0, 128, -127])\n",
      "<class 'array.array'>\n",
      "array('f', [1.100000023841858, 2.200000047683716, 3.299999952316284, 0.20000000298023224, 0.4000000059604645])\n",
      "<class 'array.array'>\n",
      "array('u', 'hello')\n",
      "<class 'array.array'>\n"
     ]
    },
    {
     "name": "stderr",
     "output_type": "stream",
     "text": [
      "C:\\Users\\chilu\\AppData\\Local\\Temp\\ipykernel_8728\\603368149.py:26: DeprecationWarning: The 'u' type code is deprecated and will be removed in Python 3.16\n",
      "  Str_arr=arr.array('u',\"hello\")\n"
     ]
    }
   ],
   "source": [
    "\n",
    "import array as arr\n",
    "\n",
    "# integer\n",
    "Int_arr=arr.array('i',[1,2,3,4,-7,0,128,-127])\n",
    "print(Int_arr)\n",
    "print(type(Int_arr))\n",
    "\n",
    "\n",
    "# Int_arr=arr.array('i',[1,2,3,'A'])\n",
    "# print(Int_arr)  # this two lines code give error by saying in int string can't used\n",
    "\n",
    "\n",
    "# Floating point number\n",
    "Flo_arr=arr.array('f',[1.1,2.2,3.3,0.2,0.4])  # in same way only float type is used not\n",
    "print(Flo_arr)                                # other if use it give error saying different data  type is used\n",
    "print(type(Flo_arr))\n",
    "\n",
    "# String \n",
    "# Str_arr=arr.array('u',[\"hello\",\"hi\",\"who\",\"are\",\"you\"])\n",
    "\n",
    "'''The array module from Python's standard library does not support storing entire strings in an array directly. \n",
    "It is specifically designed for storing primitive types like individual Unicode characters (type 'u'), integers, and floats.\n",
    "If you need to handle strings, you must use a list, numpy, or another data structure since the array module is not \n",
    "appropriate for this purpose.'''\n",
    "\n",
    "Str_arr=arr.array('u',\"hello\")\n",
    "\n",
    "print(Str_arr)\n",
    "print(type(Str_arr))\n",
    "\n",
    "\n",
    "\n",
    "\n"
   ]
  },
  {
   "cell_type": "markdown",
   "metadata": {},
   "source": [
    "#### Adding elements to an Array\n",
    "- insert (At particular index we add element )\n",
    "    - A.insert(i, x)\tIndex (i) + Value (x)\tInserts x at index i, shifting other elements.\n",
    "- append\n",
    "    - A.append(x)\tValue (x)\tAdds x to the end of the array.\n",
    "- extend\n",
    "    - A.extend(iter)\tIterable (iter)\tAdds all elements from the iterable to the end of the array."
   ]
  },
  {
   "cell_type": "code",
   "execution_count": 30,
   "metadata": {},
   "outputs": [
    {
     "name": "stdout",
     "output_type": "stream",
     "text": [
      "array('i', [1, 2, 3])\n",
      "1 4 2 3\n",
      "1 4 2 3 5\n",
      "1 4 2 3 5 6\n",
      "1 4 2 3 5 6 7 8 9\n"
     ]
    }
   ],
   "source": [
    "import array as arr\n",
    "A=arr.array('i',[1,2,3])\n",
    "print(A)\n",
    "\n",
    "# insert   \n",
    "A.insert(1,4) # t performs the insertion in-place, modifying the original array directly.\n",
    "print(*A)\n",
    "\n",
    "# append\n",
    "A.append(5)\n",
    "print(*A)\n",
    "\n",
    "# A.append(9,3,4,5) WILL NOT WORK ROUGE TYPEERROR \n",
    "\n",
    "# extend\n",
    "A.extend([6])\n",
    "print(*A)\n",
    "\n",
    "B=arr.array('i',[7,8,9]) # add new array elements to old array\n",
    "A.extend(B)\n",
    "print(*A)\n"
   ]
  },
  {
   "cell_type": "markdown",
   "metadata": {},
   "source": [
    "##### Accessing Array Items\n",
    "- In order to access the array items refer to the index number. Use the index operator [ ] to access an item in a array in Python. The index must be an integer"
   ]
  },
  {
   "cell_type": "code",
   "execution_count": 55,
   "metadata": {},
   "outputs": [
    {
     "name": "stdout",
     "output_type": "stream",
     "text": [
      "1 2 3 4 5\n",
      "1\n",
      "5\n",
      "array('i', [1, 2, 3, 4, 5])\n",
      "3 4\n",
      "0.10000000149011612 0.20000000298023224 2.0999999046325684 2.200000047683716\n",
      "0.10000000149011612\n",
      "0.10000000149011612\n",
      "2.200000047683716\n",
      "array('f', [0.10000000149011612, 0.20000000298023224, 2.0999999046325684, 2.200000047683716])\n",
      "2.0999999046325684 2.200000047683716\n"
     ]
    }
   ],
   "source": [
    "import array as arr\n",
    "A=arr.array('i',[1,2,3,4,5])\n",
    "print(*A)\n",
    "print(A[0])\n",
    "print(A[-1])\n",
    "print(A[:])\n",
    "print(*A[2:4])\n",
    "\n",
    "B=arr.array('f',[0.1,0.2,2.1,2.2])\n",
    "print(*B)\n",
    "print(B[0])\n",
    "print(B[0])\n",
    "print(B[-1])\n",
    "print(B[:])\n",
    "print(*B[2:4])\n"
   ]
  },
  {
   "cell_type": "markdown",
   "metadata": {},
   "source": [
    "#### Removing Elements from the Array\n",
    "-  remove() \n",
    "    - remove() is function, it will remove element, if the element is rept two time the first occurrence element is removed \n",
    "- pop()\n",
    "    - pop() is function, by default it pop only the last element and we can use Index of to pop the specif position"
   ]
  },
  {
   "cell_type": "code",
   "execution_count": 107,
   "metadata": {},
   "outputs": [
    {
     "name": "stdout",
     "output_type": "stream",
     "text": [
      "3\n",
      "1 2 3 4 5 6 8\n",
      "2 3 4 5 6 8\n",
      "2 3 4 5 6\n",
      "4\n",
      "array('i', [2, 3, 5, 6])\n"
     ]
    }
   ],
   "source": [
    "import array as arr\n",
    "A=arr.array('i',[1,2,3,4,5,6,8])\n",
    "print(A.index(4)) ## to see at what index what element we have\n",
    "print(*A)\n",
    "\n",
    "A.remove(1)\n",
    "print(*A)\n",
    "\n",
    "A.pop()\n",
    "print(*A)\n",
    "print(A.pop(2))\n",
    "print(A)\n",
    "\n",
    "# import array as arr\n",
    "# A=arr.array('i',[1,2,3,4,5,6,8,9])\n",
    "# A[2]=8\n",
    "# print(*A)\n",
    "# A[3:]=6\n",
    "# print(*A)  array is not aloes to use slice in array method but\n",
    "# numpy can use it \n",
    "\n"
   ]
  },
  {
   "cell_type": "code",
   "execution_count": 106,
   "metadata": {},
   "outputs": [
    {
     "name": "stdout",
     "output_type": "stream",
     "text": [
      "1 2 8 4 5 6 8 9\n",
      "1 2 8 6\n"
     ]
    }
   ],
   "source": [
    "import array as arr\n",
    "\n",
    "# Create an array\n",
    "A = arr.array('i', [1, 2, 3, 4, 5, 6, 8, 9])\n",
    "A[2] = 8  # Replacing element at index 2 with 8\n",
    "print(*A)\n",
    "\n",
    "# Replacing elements from index 3 with an array, not a list\n",
    "A[3:] = arr.array('i', [6])  # Using an array instead of a list\n",
    "print(*A)\n",
    "\"\"\"Key Differences:\n",
    "Broadcasting:\n",
    "\n",
    "NumPy allows broadcasting of scalars and lists to slices, which means you can assign a scalar value to an entire slice or replace a slice with a smaller list.\n",
    "Python's array module doesn't support broadcasting. You need to explicitly match the size or type of the slice.\n",
    "Flexibility:\n",
    "\n",
    "NumPy is much more flexible with slice assignments, including broadcasting and accepting lists as valid input for slice assignments.\n",
    "Python's array module is more restrictive, and slice assignments require another array.\"\"\"\n"
   ]
  },
  {
   "cell_type": "code",
   "execution_count": 108,
   "metadata": {},
   "outputs": [
    {
     "name": "stdout",
     "output_type": "stream",
     "text": [
      "3\n"
     ]
    }
   ],
   "source": [
    "# count\n",
    "A=arr.array('i',[1,1,1,2,3])\n",
    "b=A.count(1)\n",
    "print(b)"
   ]
  },
  {
   "cell_type": "markdown",
   "metadata": {},
   "source": [
    "## with Numpy modules"
   ]
  },
  {
   "cell_type": "code",
   "execution_count": 28,
   "metadata": {},
   "outputs": [
    {
     "name": "stdout",
     "output_type": "stream",
     "text": [
      "[1 2 3 4 5]\n",
      "<class 'numpy.ndarray'>\n",
      "int64\n",
      "[1.10000e+00 2.00000e-01 3.40000e+00 5.65343e+02]\n",
      "float64\n",
      "['hi' 'hello' 'chethan']\n",
      "<class 'numpy.ndarray'>\n",
      "<U7\n"
     ]
    }
   ],
   "source": [
    "import numpy as np\n",
    "\n",
    "\n",
    "A=np.array([1,2,3,4,5])\n",
    "print(A)\n",
    "print(type(A))\n",
    "print(A.dtype)\n",
    "\n",
    "B=np.array([1.1,0.2,3.4,565.343])\n",
    "print(B)\n",
    "print(B.dtype)\n",
    "\n",
    "C=np.array([\"hi\",\"hello\",\"chethan\"])\n",
    "print(C)\n",
    "print(type(C))\n",
    "print(C.dtype)"
   ]
  },
  {
   "cell_type": "code",
   "execution_count": 38,
   "metadata": {},
   "outputs": [
    {
     "name": "stdout",
     "output_type": "stream",
     "text": [
      "[1 2 3 4]\n",
      "<class 'numpy.ndarray'>\n",
      "int32\n",
      "[1.1000000e+00 3.0000001e-01 4.4356543e+03]\n",
      "<class 'numpy.ndarray'>\n",
      "float32\n",
      "['hello' 'world']\n",
      "<class 'numpy.ndarray'>\n",
      "<U5\n"
     ]
    }
   ],
   "source": [
    "\"\"\"In NumPy, you can explicitly specify the data type of an array using \n",
    "the dtype parameter during its creation. Here’s how you can create arrays \n",
    "with different data types, similar to the type code in the array module.\n",
    "\n",
    "\"\"\"\n",
    "\n",
    "import numpy as np\n",
    "\n",
    "# Integer array\n",
    "int_array = np.array([1, 2, 3, 4], dtype='int32')\n",
    "print(int_array)  # Output: [1 2 3 4]\n",
    "print(type(int_array))\n",
    "print(int_array.dtype)  # Output: int32\n",
    "\n",
    "# float array\n",
    "flo_arr=np.array([1.1,0.3,4435.65454],dtype='float32')\n",
    "print(flo_arr)\n",
    "print(type(flo_arr))\n",
    "print(flo_arr.dtype)\n",
    "\n",
    "# String array\n",
    "str_array = np.array([\"hello\", \"world\"], dtype='str')\n",
    "print(str_array)  # Output: ['hello' 'world']\n",
    "print(type(str_array))\n",
    "print(str_array.dtype)  # Output: <U5 (Unicode string of max length 5)>\n"
   ]
  },
  {
   "cell_type": "markdown",
   "metadata": {},
   "source": [
    "#### Adding elements to an Array\n",
    "\n",
    "\n",
    "- Insert\t\n",
    "    - np.insert(arr, i, x)\t\n",
    "    - arr (array), i (index), x (value or values)\t\n",
    "    - Inserts x at index i, shifting other elements.\n",
    "- Append\t\n",
    "    - np.append(arr, x)\t\n",
    "    - arr (array), x (value or values)\t\n",
    "    - Adds x to the end of the array.\n",
    "- Extend \n",
    "    - (Do not use np.extend, as it is not a valid NumPy function.)\n",
    "    - np.append(arr, iter)\t\n",
    "    - arr (array), iter (iterable)\t\n",
    "    - Adds all elements from the iterable iter to the array.\n"
   ]
  },
  {
   "cell_type": "code",
   "execution_count": 31,
   "metadata": {},
   "outputs": [
    {
     "name": "stdout",
     "output_type": "stream",
     "text": [
      "[1 2 3]\n",
      "[1 4 2 3]\n",
      "[1 4 2 3 5]\n",
      "[1 4 2 3 5 7 8 9]\n",
      "[ 1  4  2  3  5  7  8  9 10 11 12]\n"
     ]
    }
   ],
   "source": [
    "import numpy as np\n",
    "arr=np.array([1,2,3])\n",
    "print(arr)\n",
    "\n",
    "#insert \n",
    "arr=np.insert(arr,1,4) ## It creates a new array with the specified value (4) inserted at the specified index (1).\n",
    "print(arr)\n",
    "\n",
    "# append\n",
    "arr=np.append(arr,5) # numpy.append creates a new array because NumPy arrays are fixed in size. Appending requires creating a new array with the additional element(s).\n",
    "print(arr)\n",
    "\n",
    "# append multiple elements\n",
    "arr=np.append(arr,[7,8,9])\n",
    "print(arr)\n",
    "arr1=np.array([10,11,12])\n",
    "arr=np.append(arr,arr1)\n",
    "print(arr)\n",
    "\n",
    "# extend Do not use np.extend, as it is not a valid NumPy function.\n",
    "# arr=np.extend(arr,[6])\n",
    "# print(arr)\n"
   ]
  },
  {
   "cell_type": "markdown",
   "metadata": {},
   "source": [
    "##### Accessing Array Items\n",
    "- In order to access the array items refer to the index number. Use the index operator [ ] to access an item in a array in Python. The index must be an integer"
   ]
  },
  {
   "cell_type": "code",
   "execution_count": 54,
   "metadata": {},
   "outputs": [
    {
     "name": "stdout",
     "output_type": "stream",
     "text": [
      "[1 2 3 4 5]\n",
      "1\n",
      "5\n",
      "[1 2 3 4 5]\n",
      "[3 4 5]\n",
      "0.1 0.2 1.2 2.2\n",
      "0.1\n",
      "0.1\n",
      "2.2\n",
      "[0.1 0.2 1.2 2.2]\n",
      "1.2 2.2\n"
     ]
    }
   ],
   "source": [
    "import numpy as np\n",
    "A=np.array([1,2,3,4,5])\n",
    "print(A)\n",
    "print(A[0])\n",
    "print(A[-1])\n",
    "print(A[:])\n",
    "print(A[2:5])\n",
    "\n",
    "\n",
    "B=np.array([0.1,0.2,1.2,2.2])\n",
    "print(*B)\n",
    "print(B[0])\n",
    "print(B[0])\n",
    "print(B[-1])\n",
    "print(B[:])\n",
    "print(*B[2:4])\n"
   ]
  },
  {
   "cell_type": "markdown",
   "metadata": {},
   "source": [
    "#### Removing Elements from the Array\n",
    "-  remove() \n",
    "    - in numpy we don't have remove method\n",
    "    - instead we use delete to remove element by index\n",
    "- pop()\n",
    "    - in numpy we don't have pop method\n",
    "    - instead we use delete to remove element by index"
   ]
  },
  {
   "cell_type": "code",
   "execution_count": 91,
   "metadata": {},
   "outputs": [
    {
     "name": "stdout",
     "output_type": "stream",
     "text": [
      "1 2 3 4 5\n",
      "1 3 4 5\n",
      "[1 3 4]\n",
      "[1 3 5]\n",
      "4\n",
      "[1 3 5]\n",
      "[5 3 1]\n",
      "1 2 3 4 5\n",
      "[1 2 9 4 5]\n",
      "[1 2 9 4 4]\n"
     ]
    }
   ],
   "source": [
    "import numpy as np\n",
    "A=np.array([1,2,3,4,5])\n",
    "print(*A)\n",
    "# print(A.index(1)) # we do not have index method\n",
    "\n",
    "\n",
    "\n",
    "A=np.delete(A,1) # by index , it delete the index element and store in the new array\n",
    "print(*A)\n",
    "print(A[:-1])\n",
    "\n",
    "Delete=A[2]\n",
    "A=np.delete(A,2) # by index , it delete the index element and store in the new array\n",
    "print(A)\n",
    "print(Delete)\n",
    "print(A)\n",
    "print(A[::-1])\n",
    "\n",
    "A=np.array([1,2,3,4,5])\n",
    "print(*A)\n",
    "A[2]=9\n",
    "print(A)\n",
    "A[3:]=4\n",
    "print(A)"
   ]
  },
  {
   "cell_type": "code",
   "execution_count": 124,
   "metadata": {},
   "outputs": [
    {
     "name": "stdout",
     "output_type": "stream",
     "text": [
      "3\n",
      "2\n"
     ]
    }
   ],
   "source": [
    "# # count\n",
    "# # A=np.array('i',[1,1,1,2,3])\n",
    "# b=A.count(1)\n",
    "# print(b)   no count in numpy \n",
    "# but we can use count_nonzero in numpy\n",
    "\n",
    "A=np.array([1,1,1,2,3])\n",
    "b=np.count_nonzero(A==1)\n",
    "print(b)\n",
    "\n",
    "A=np.array([1,1,1,2,2,3])\n",
    "b=np.count_nonzero(A==2)\n",
    "print(b)"
   ]
  },
  {
   "cell_type": "code",
   "execution_count": null,
   "metadata": {},
   "outputs": [],
   "source": []
  },
  {
   "cell_type": "code",
   "execution_count": null,
   "metadata": {},
   "outputs": [],
   "source": []
  },
  {
   "cell_type": "code",
   "execution_count": null,
   "metadata": {},
   "outputs": [],
   "source": []
  }
 ],
 "metadata": {
  "kernelspec": {
   "display_name": "Python 3",
   "language": "python",
   "name": "python3"
  },
  "language_info": {
   "codemirror_mode": {
    "name": "ipython",
    "version": 3
   },
   "file_extension": ".py",
   "mimetype": "text/x-python",
   "name": "python",
   "nbconvert_exporter": "python",
   "pygments_lexer": "ipython3",
   "version": "3.13.5"
  }
 },
 "nbformat": 4,
 "nbformat_minor": 2
}
