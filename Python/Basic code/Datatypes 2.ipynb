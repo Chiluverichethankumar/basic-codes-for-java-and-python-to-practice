{
 "cells": [
  {
   "cell_type": "markdown",
   "metadata": {},
   "source": [
    "### Python Data Structures and Boolean\n",
    "- Boolean\n",
    "- Boolean and Logical Operators\n",
    "- Comparison operators\n",
    "- List\n",
    "- Set\n",
    "- Dictionaries\n",
    "- Tuple\n",
    " "
   ]
  },
  {
   "cell_type": "markdown",
   "metadata": {},
   "source": [
    "#### Boolean Variable\n",
    "- True and False\n",
    " "
   ]
  },
  {
   "cell_type": "code",
   "execution_count": 1,
   "metadata": {},
   "outputs": [
    {
     "data": {
      "text/plain": [
       "False"
      ]
     },
     "execution_count": 1,
     "metadata": {},
     "output_type": "execute_result"
    }
   ],
   "source": [
    "bool()"
   ]
  },
  {
   "cell_type": "code",
   "execution_count": 2,
   "metadata": {},
   "outputs": [
    {
     "data": {
      "text/plain": [
       "True"
      ]
     },
     "execution_count": 2,
     "metadata": {},
     "output_type": "execute_result"
    }
   ],
   "source": [
    "True"
   ]
  },
  {
   "cell_type": "code",
   "execution_count": 3,
   "metadata": {},
   "outputs": [
    {
     "data": {
      "text/plain": [
       "False"
      ]
     },
     "execution_count": 3,
     "metadata": {},
     "output_type": "execute_result"
    }
   ],
   "source": [
    "False"
   ]
  },
  {
   "cell_type": "code",
   "execution_count": 4,
   "metadata": {},
   "outputs": [
    {
     "data": {
      "text/plain": [
       "bool"
      ]
     },
     "execution_count": 4,
     "metadata": {},
     "output_type": "execute_result"
    }
   ],
   "source": [
    "type(True)"
   ]
  },
  {
   "cell_type": "code",
   "execution_count": 7,
   "metadata": {},
   "outputs": [
    {
     "data": {
      "text/plain": [
       "bool"
      ]
     },
     "execution_count": 7,
     "metadata": {},
     "output_type": "execute_result"
    }
   ],
   "source": [
    "type(False)"
   ]
  },
  {
   "cell_type": "code",
   "execution_count": 20,
   "metadata": {},
   "outputs": [
    {
     "data": {
      "text/plain": [
       "'CHETHAN KUMAR'"
      ]
     },
     "execution_count": 20,
     "metadata": {},
     "output_type": "execute_result"
    }
   ],
   "source": [
    "my_str=\"Chethan Kumar\"\n",
    "my_str.upper()"
   ]
  },
  {
   "cell_type": "code",
   "execution_count": 21,
   "metadata": {},
   "outputs": [
    {
     "data": {
      "text/plain": [
       "'Chethan kumar'"
      ]
     },
     "execution_count": 21,
     "metadata": {},
     "output_type": "execute_result"
    }
   ],
   "source": [
    "my_str.capitalize()"
   ]
  },
  {
   "cell_type": "code",
   "execution_count": 22,
   "metadata": {},
   "outputs": [
    {
     "data": {
      "text/plain": [
       "False"
      ]
     },
     "execution_count": 22,
     "metadata": {},
     "output_type": "execute_result"
    }
   ],
   "source": [
    "my_str.isalnum()"
   ]
  },
  {
   "cell_type": "code",
   "execution_count": 23,
   "metadata": {},
   "outputs": [
    {
     "name": "stdout",
     "output_type": "stream",
     "text": [
      "False\n",
      "False\n",
      "False\n",
      "False\n",
      "False\n",
      "False\n",
      "True\n",
      "True\n"
     ]
    }
   ],
   "source": [
    "print(my_str.isalnum())\n",
    "print(my_str.isalpha())\n",
    "print(my_str.isdigit())\n",
    "print(my_str.isupper())\n",
    "print(my_str.islower())\n",
    "print(my_str.isspace())\n",
    "print(my_str.endswith('r'))\n",
    "print(my_str.startswith('C'))"
   ]
  },
  {
   "cell_type": "markdown",
   "metadata": {},
   "source": [
    "#### Boolean and Logical Operators"
   ]
  },
  {
   "cell_type": "code",
   "execution_count": 25,
   "metadata": {},
   "outputs": [
    {
     "data": {
      "text/plain": [
       "True"
      ]
     },
     "execution_count": 25,
     "metadata": {},
     "output_type": "execute_result"
    }
   ],
   "source": [
    "True and True"
   ]
  },
  {
   "cell_type": "code",
   "execution_count": 26,
   "metadata": {},
   "outputs": [
    {
     "data": {
      "text/plain": [
       "False"
      ]
     },
     "execution_count": 26,
     "metadata": {},
     "output_type": "execute_result"
    }
   ],
   "source": [
    "True and False"
   ]
  },
  {
   "cell_type": "code",
   "execution_count": 29,
   "metadata": {},
   "outputs": [
    {
     "data": {
      "text/plain": [
       "False"
      ]
     },
     "execution_count": 29,
     "metadata": {},
     "output_type": "execute_result"
    }
   ],
   "source": [
    "False and False"
   ]
  },
  {
   "cell_type": "code",
   "execution_count": 28,
   "metadata": {},
   "outputs": [
    {
     "data": {
      "text/plain": [
       "True"
      ]
     },
     "execution_count": 28,
     "metadata": {},
     "output_type": "execute_result"
    }
   ],
   "source": [
    "True or True"
   ]
  },
  {
   "cell_type": "code",
   "execution_count": 27,
   "metadata": {},
   "outputs": [
    {
     "data": {
      "text/plain": [
       "True"
      ]
     },
     "execution_count": 27,
     "metadata": {},
     "output_type": "execute_result"
    }
   ],
   "source": [
    "True or False"
   ]
  },
  {
   "cell_type": "code",
   "execution_count": 30,
   "metadata": {},
   "outputs": [
    {
     "data": {
      "text/plain": [
       "False"
      ]
     },
     "execution_count": 30,
     "metadata": {},
     "output_type": "execute_result"
    }
   ],
   "source": [
    "False or False"
   ]
  },
  {
   "cell_type": "code",
   "execution_count": 41,
   "metadata": {},
   "outputs": [],
   "source": [
    "str1=\"Chethan\"\n",
    "str2=\"Hello\"\n"
   ]
  },
  {
   "cell_type": "code",
   "execution_count": 44,
   "metadata": {},
   "outputs": [
    {
     "name": "stdout",
     "output_type": "stream",
     "text": [
      "True\n",
      "False\n",
      "True\n",
      "False\n",
      "True\n"
     ]
    }
   ],
   "source": [
    "print(str1.isupper() or str2.isalpha())\n",
    "print(str1.isupper() and str2.isalpha())\n",
    "print(str1.isalpha() and str2.istitle())\n",
    "print(str1.isnumeric() or str2.isupper())\n",
    "print(str1.isupper() or str2.isalpha())"
   ]
  },
  {
   "cell_type": "markdown",
   "metadata": {},
   "source": [
    "#### List\n",
    "- []\n",
    "- mutable or changeable , ordered"
   ]
  },
  {
   "cell_type": "code",
   "execution_count": 76,
   "metadata": {},
   "outputs": [
    {
     "data": {
      "text/plain": [
       "list"
      ]
     },
     "execution_count": 76,
     "metadata": {},
     "output_type": "execute_result"
    }
   ],
   "source": [
    "List=[]\n",
    "type(List)"
   ]
  },
  {
   "cell_type": "code",
   "execution_count": 77,
   "metadata": {},
   "outputs": [
    {
     "data": {
      "text/plain": [
       "list"
      ]
     },
     "execution_count": 77,
     "metadata": {},
     "output_type": "execute_result"
    }
   ],
   "source": [
    "List1=list()\n",
    "type(List1)"
   ]
  },
  {
   "cell_type": "code",
   "execution_count": 78,
   "metadata": {},
   "outputs": [
    {
     "name": "stdout",
     "output_type": "stream",
     "text": [
      "<class 'list'>\n",
      "5\n"
     ]
    }
   ],
   "source": [
    "List=[\"chethan\",\"kumar\",100,200,300]\n",
    "print(type(List))\n",
    "print(len(List))"
   ]
  },
  {
   "cell_type": "code",
   "execution_count": 79,
   "metadata": {},
   "outputs": [
    {
     "name": "stdout",
     "output_type": "stream",
     "text": [
      "chethan\n",
      "100\n",
      "['chethan', 'kumar', 100, 200, 300]\n",
      "[100, 200, 300]\n",
      "[100, 200]\n",
      "300\n",
      "100\n",
      "['chethan', 'kumar', 100, 200]\n",
      "[100, 200]\n"
     ]
    }
   ],
   "source": [
    "\n",
    "## indexing in list start fr0m 0 , 1, 2, 3, . . . . .\n",
    "## indexing in list also negative  from  -1, -2, -3, . . . . . state from end \n",
    "print(List[0])\n",
    "print(List[2])\n",
    "print(List[:])\n",
    "print(List[2:])\n",
    "print(List[2:4])\n",
    "print(List[-1])\n",
    "print(List[-3])\n",
    "print(List[:-1])\n",
    "print(List[-3:-1])\n",
    "\n"
   ]
  },
  {
   "cell_type": "code",
   "execution_count": 80,
   "metadata": {},
   "outputs": [
    {
     "name": "stdout",
     "output_type": "stream",
     "text": [
      "['chethan', 'kumar', 100, 200, 300, 'Chiluveri']\n",
      "['chethan', 'kumar', 100, 200, 300, 'Chiluveri', ['Sai kiran', 24, 22]]\n"
     ]
    }
   ],
   "source": [
    "# Append will add vales or element at the end\n",
    "List.append(\"Chiluveri\")\n",
    "print(List)\n",
    "#adding nested List \n",
    "List.append([\"Sai kiran\",24,22])\n",
    "print(List)"
   ]
  },
  {
   "cell_type": "code",
   "execution_count": 89,
   "metadata": {},
   "outputs": [
    {
     "name": "stdout",
     "output_type": "stream",
     "text": [
      "['Chiluveri', 'chethan', 'kumar', 100, 200, 300]\n",
      "['Chiluveri', 'chethan', 'kumar', 100, ['Chiluveri', 'Sai kiran', 22, 24], 200, 300]\n"
     ]
    }
   ],
   "source": [
    "# Insert it will help to add element at any index in the list\n",
    "\n",
    "List=[\"chethan\",\"kumar\",100,200,300]\n",
    "List.insert(0,\"Chiluveri\")\n",
    "print(List)\n",
    "List.insert(4,[\"Chiluveri\",\"Sai kiran\",22,24])\n",
    "print(List)\n"
   ]
  },
  {
   "cell_type": "code",
   "execution_count": 92,
   "metadata": {},
   "outputs": [
    {
     "name": "stdout",
     "output_type": "stream",
     "text": [
      "[1, 2, 3, 4, 5]\n"
     ]
    }
   ],
   "source": [
    "# Extend\n",
    "List=[1,2,3,4]\n",
    "List.extend([5])\n",
    "print(List)"
   ]
  },
  {
   "cell_type": "code",
   "execution_count": 93,
   "metadata": {},
   "outputs": [
    {
     "name": "stdout",
     "output_type": "stream",
     "text": [
      "[1, 2, 3, 4, 5, 6, 7, 8]\n"
     ]
    }
   ],
   "source": [
    "List.extend([6,7,8])\n",
    "print(List)"
   ]
  },
  {
   "cell_type": "code",
   "execution_count": 98,
   "metadata": {},
   "outputs": [
    {
     "name": "stdout",
     "output_type": "stream",
     "text": [
      "28\n"
     ]
    }
   ],
   "source": [
    "## Various Operation that we can do in python\n",
    "List =[1,2,3,4,5,6,7]\n",
    "print(sum(List))"
   ]
  },
  {
   "cell_type": "code",
   "execution_count": 99,
   "metadata": {},
   "outputs": [
    {
     "name": "stdout",
     "output_type": "stream",
     "text": [
      "[1, 2, 3, 4, 5, 6]\n",
      "[1, 2, 4, 5, 6]\n"
     ]
    }
   ],
   "source": [
    "## will pop() will remove the element at end , if pop(1) or if want to remove \n",
    "## specific index \n",
    "List.pop()\n",
    "print(List)\n",
    "List.pop(2)\n",
    "print(List)"
   ]
  },
  {
   "cell_type": "code",
   "execution_count": 101,
   "metadata": {},
   "outputs": [
    {
     "name": "stdout",
     "output_type": "stream",
     "text": [
      "2\n",
      "7\n"
     ]
    }
   ],
   "source": [
    "## count() will count the total occurrence of give element of list\n",
    "List=[1,1,2,3,4,5,6]\n",
    "print(List.count(1))\n",
    "print(len(List))"
   ]
  },
  {
   "cell_type": "code",
   "execution_count": 106,
   "metadata": {},
   "outputs": [
    {
     "name": "stdout",
     "output_type": "stream",
     "text": [
      "0\n",
      "3\n",
      "1\n",
      "1\n",
      "6\n"
     ]
    }
   ],
   "source": [
    "## index() will say what value is present at that index\n",
    "print(List.index(1))\n",
    "print(List.index(3))\n",
    "print(List.index(1,1,4))\n",
    "print(min(List))\n",
    "print(max(List))"
   ]
  },
  {
   "cell_type": "code",
   "execution_count": 107,
   "metadata": {},
   "outputs": [
    {
     "data": {
      "text/plain": [
       "[1, 1, 2, 3, 4, 5, 6, 1, 1, 2, 3, 4, 5, 6]"
      ]
     },
     "execution_count": 107,
     "metadata": {},
     "output_type": "execute_result"
    }
   ],
   "source": [
    "List*2"
   ]
  },
  {
   "cell_type": "markdown",
   "metadata": {},
   "source": [
    "#### Set\n",
    "- {} , unordered collection of data types , mutable ,on duplicates element\n"
   ]
  },
  {
   "cell_type": "code",
   "execution_count": 110,
   "metadata": {},
   "outputs": [
    {
     "name": "stdout",
     "output_type": "stream",
     "text": [
      "set()\n",
      "<class 'set'>\n"
     ]
    }
   ],
   "source": [
    "Set=set()\n",
    "print(Set)\n",
    "print(type(Set))"
   ]
  },
  {
   "cell_type": "code",
   "execution_count": 111,
   "metadata": {},
   "outputs": [
    {
     "name": "stdout",
     "output_type": "stream",
     "text": [
      "{1, 2, 3, 4, 5}\n"
     ]
    }
   ],
   "source": [
    "Set={1,2,3,4,5,1}\n",
    "print(Set)"
   ]
  },
  {
   "cell_type": "code",
   "execution_count": 117,
   "metadata": {},
   "outputs": [
    {
     "name": "stdout",
     "output_type": "stream",
     "text": [
      "{'Kumar', 'Chiluveri', 'chethan'}\n",
      "<class 'set'>\n"
     ]
    }
   ],
   "source": [
    "Set1={\"chethan\",\"Kumar\",\"Chiluveri\"}\n",
    "print(Set1)\n",
    "print(type(Set1))"
   ]
  },
  {
   "cell_type": "code",
   "execution_count": 118,
   "metadata": {},
   "outputs": [
    {
     "ename": "TypeError",
     "evalue": "'set' object is not subscriptable",
     "output_type": "error",
     "traceback": [
      "\u001b[1;31m---------------------------------------------------------------------------\u001b[0m",
      "\u001b[1;31mTypeError\u001b[0m                                 Traceback (most recent call last)",
      "Cell \u001b[1;32mIn[118], line 2\u001b[0m\n\u001b[0;32m      1\u001b[0m \u001b[38;5;66;03m# Indexing will not support by SET it gives Type Error\u001b[39;00m\n\u001b[1;32m----> 2\u001b[0m \u001b[38;5;28mprint\u001b[39m(\u001b[43mSet1\u001b[49m\u001b[43m[\u001b[49m\u001b[38;5;241;43m0\u001b[39;49m\u001b[43m]\u001b[49m)\n",
      "\u001b[1;31mTypeError\u001b[0m: 'set' object is not subscriptable"
     ]
    }
   ],
   "source": [
    "# Indexing will not support by SET it gives Type Error\n",
    "print(Set1[0])"
   ]
  },
  {
   "cell_type": "code",
   "execution_count": 119,
   "metadata": {},
   "outputs": [
    {
     "name": "stdout",
     "output_type": "stream",
     "text": [
      "{'Saikiran', 'Kumar', 'Chiluveri', 'chethan'}\n"
     ]
    }
   ],
   "source": [
    "## add element in Sat\n",
    "Set1.add(\"Saikiran\")\n",
    "print(Set1)"
   ]
  },
  {
   "cell_type": "code",
   "execution_count": 124,
   "metadata": {},
   "outputs": [
    {
     "name": "stdout",
     "output_type": "stream",
     "text": [
      "{4}\n",
      "{1, 2, 3, 4}\n",
      "{4}\n"
     ]
    }
   ],
   "source": [
    "SET1={1,2,3}\n",
    "SET2={1,2,3,4}\n",
    "print(SET2.difference(SET1))\n",
    "print(SET2)\n",
    "SET2.difference_update(SET1)\n",
    "print(SET2)"
   ]
  },
  {
   "cell_type": "code",
   "execution_count": 128,
   "metadata": {},
   "outputs": [
    {
     "name": "stdout",
     "output_type": "stream",
     "text": [
      "{1, 2, 3}\n",
      "{1, 2, 3, 4}\n",
      "{1, 2, 3}\n"
     ]
    }
   ],
   "source": [
    "SET1={1,2,3}\n",
    "SET2={1,2,3,4}\n",
    "print(SET2.intersection(SET1))\n",
    "print(SET2)\n",
    "SET2.intersection_update(SET1)\n",
    "print(SET2)"
   ]
  },
  {
   "cell_type": "markdown",
   "metadata": {},
   "source": [
    "#### Dictionaries\n",
    "- {key:Value} , {} , Unordered , changeable and indexed "
   ]
  },
  {
   "cell_type": "code",
   "execution_count": 129,
   "metadata": {},
   "outputs": [
    {
     "name": "stdout",
     "output_type": "stream",
     "text": [
      "<class 'dict'>\n",
      "{}\n"
     ]
    }
   ],
   "source": [
    "dic={}\n",
    "print(type(dic))\n",
    "print(dic)"
   ]
  },
  {
   "cell_type": "code",
   "execution_count": 132,
   "metadata": {},
   "outputs": [
    {
     "name": "stdout",
     "output_type": "stream",
     "text": [
      "<class 'dict'>\n",
      "{}\n"
     ]
    }
   ],
   "source": [
    "Dic=dict()\n",
    "print(type(Dic))\n",
    "print(Dic)"
   ]
  },
  {
   "cell_type": "code",
   "execution_count": 130,
   "metadata": {},
   "outputs": [
    {
     "name": "stdout",
     "output_type": "stream",
     "text": [
      "<class 'set'>\n",
      "{1, 2, 3, 4}\n"
     ]
    }
   ],
   "source": [
    "dic={1,2,3,4}\n",
    "print(type(dic)) # it will a set\n",
    "print(dic)"
   ]
  },
  {
   "cell_type": "code",
   "execution_count": 131,
   "metadata": {},
   "outputs": [
    {
     "name": "stdout",
     "output_type": "stream",
     "text": [
      "<class 'dict'>\n",
      "{1: 'Car', 2: 'bike', 3: 'man', 4: 'woman', 5: 'child'}\n"
     ]
    }
   ],
   "source": [
    "dic={1:\"Car\",2:\"bike\",3:\"man\",4:\"woman\",5:\"child\"}\n",
    "print(type(dic))\n",
    "print(dic)"
   ]
  },
  {
   "cell_type": "code",
   "execution_count": 136,
   "metadata": {},
   "outputs": [
    {
     "name": "stdout",
     "output_type": "stream",
     "text": [
      "Car\n",
      "woman\n"
     ]
    }
   ],
   "source": [
    "print(dic[1]) # in Dic the index are not like list 0,1,2,.. it like keys : \n",
    "print(dic[4]) # for this ex the index in 1,2,3\n"
   ]
  },
  {
   "cell_type": "code",
   "execution_count": 137,
   "metadata": {},
   "outputs": [
    {
     "name": "stdout",
     "output_type": "stream",
     "text": [
      "<class 'dict'>\n",
      "{'Car': 'TATA', 'bike': 'BMW', 'man': 'Chethan', 'woman': 'Anuja', 'child': 'Dugu Dugu'}\n"
     ]
    }
   ],
   "source": [
    "dic={\"Car\":\"TATA\",\"bike\":\"BMW\",\"man\":\"Chethan\",\"woman\":\"Anuja\",\"child\":\"Dugu Dugu\"}\n",
    "print(type(dic))\n",
    "print(dic)"
   ]
  },
  {
   "cell_type": "code",
   "execution_count": 139,
   "metadata": {},
   "outputs": [
    {
     "name": "stdout",
     "output_type": "stream",
     "text": [
      "TATA\n",
      "Dugu Dugu\n"
     ]
    }
   ],
   "source": [
    "print(dic[\"Car\"]) # in Dic the index are not like list 0,1,2,.. it like keys : \n",
    "print(dic[\"child\"]) # for this ex the index in \"Car\",\"bike\",\"man\",...."
   ]
  },
  {
   "cell_type": "code",
   "execution_count": 140,
   "metadata": {},
   "outputs": [
    {
     "name": "stdout",
     "output_type": "stream",
     "text": [
      "Car\n",
      "bike\n",
      "man\n",
      "woman\n",
      "child\n"
     ]
    }
   ],
   "source": [
    "# we can loop to see keys\n",
    "for i in dic:\n",
    "    print(i)"
   ]
  },
  {
   "cell_type": "code",
   "execution_count": 142,
   "metadata": {},
   "outputs": [
    {
     "name": "stdout",
     "output_type": "stream",
     "text": [
      "TATA\n",
      "BMW\n",
      "Chethan\n",
      "Anuja\n",
      "Dugu Dugu\n"
     ]
    }
   ],
   "source": [
    "# we can loop to see values\n",
    "for i in dic.values():\n",
    "    print(i)"
   ]
  },
  {
   "cell_type": "code",
   "execution_count": 143,
   "metadata": {},
   "outputs": [
    {
     "name": "stdout",
     "output_type": "stream",
     "text": [
      "('Car', 'TATA')\n",
      "('bike', 'BMW')\n",
      "('man', 'Chethan')\n",
      "('woman', 'Anuja')\n",
      "('child', 'Dugu Dugu')\n"
     ]
    }
   ],
   "source": [
    "# to all items = both(keys and Values)\n",
    "for i in dic.items():\n",
    "    print(i)"
   ]
  },
  {
   "cell_type": "code",
   "execution_count": 144,
   "metadata": {},
   "outputs": [
    {
     "name": "stdout",
     "output_type": "stream",
     "text": [
      "{'Car': 'TATA', 'bike': 'BMW', 'man': 'Chethan', 'woman': 'Anuja', 'child': 'Dugu Dugu', 'home': 'chiluveri'}\n"
     ]
    }
   ],
   "source": [
    "## Adding or update \n",
    "dic[\"home\"]=\"chiluveri\"\n",
    "print(dic)"
   ]
  },
  {
   "cell_type": "code",
   "execution_count": 145,
   "metadata": {},
   "outputs": [
    {
     "name": "stdout",
     "output_type": "stream",
     "text": [
      "{'Car': 'Maruti', 'bike': 'BMW', 'man': 'Chethan', 'woman': 'Anuja', 'child': 'Dugu Dugu', 'home': 'chiluveri'}\n"
     ]
    }
   ],
   "source": [
    "dic[\"Car\"]=\"Maruti\" ## replace TATA with Maruti  , the value is overladed \n",
    "print(dic)          ## when with same values"
   ]
  },
  {
   "cell_type": "code",
   "execution_count": 146,
   "metadata": {},
   "outputs": [
    {
     "name": "stdout",
     "output_type": "stream",
     "text": [
      "{'n1': {'chethan': 22}, 'n2': {'Saikiran': 24}, 'n3': {'Gopal': 54}}\n"
     ]
    }
   ],
   "source": [
    "#Nested Dictionary\n",
    "n1_age={\"chethan\":22}\n",
    "n2_age={\"Saikiran\":24}\n",
    "n3_age={\"Gopal\":54}\n",
    "data={\"n1\":n1_age,\"n2\":n2_age,\"n3\":n3_age}\n",
    "print(data)\n"
   ]
  },
  {
   "cell_type": "code",
   "execution_count": 147,
   "metadata": {},
   "outputs": [
    {
     "name": "stdout",
     "output_type": "stream",
     "text": [
      "{'chethan': 22}\n"
     ]
    }
   ],
   "source": [
    "print(data[\"n1\"])"
   ]
  },
  {
   "cell_type": "code",
   "execution_count": 148,
   "metadata": {},
   "outputs": [
    {
     "name": "stdout",
     "output_type": "stream",
     "text": [
      "22\n"
     ]
    }
   ],
   "source": [
    "print(data[\"n1\"][\"chethan\"])"
   ]
  },
  {
   "cell_type": "markdown",
   "metadata": {},
   "source": [
    "#### Tuple\n",
    "- () , unchangeable , unmutable if ones it is created \n",
    "- Tuple is use in program when it should want to use for one time"
   ]
  },
  {
   "cell_type": "code",
   "execution_count": 150,
   "metadata": {},
   "outputs": [
    {
     "name": "stdout",
     "output_type": "stream",
     "text": [
      "<class 'tuple'>\n",
      "()\n"
     ]
    }
   ],
   "source": [
    "my_tuple=tuple()\n",
    "print(type(my_tuple))\n",
    "print(my_tuple)"
   ]
  },
  {
   "cell_type": "code",
   "execution_count": 153,
   "metadata": {},
   "outputs": [
    {
     "name": "stdout",
     "output_type": "stream",
     "text": [
      "()\n",
      "<class 'tuple'>\n"
     ]
    }
   ],
   "source": [
    "Tuple=()\n",
    "print(Tuple)\n",
    "print(type(Tuple))"
   ]
  },
  {
   "cell_type": "code",
   "execution_count": 158,
   "metadata": {},
   "outputs": [
    {
     "name": "stdout",
     "output_type": "stream",
     "text": [
      "('Chethan', 'kumar', 'chiluveri')\n",
      "Chethan\n",
      "chiluveri\n",
      "('Chethan', 'kumar', 'chiluveri')\n"
     ]
    }
   ],
   "source": [
    "Tuple=(\"Chethan\",\"kumar\",\"chiluveri\")\n",
    "print(Tuple)\n",
    "print(Tuple[0])\n",
    "print(Tuple[-1])\n",
    "print(Tuple[:])\n"
   ]
  },
  {
   "cell_type": "code",
   "execution_count": null,
   "metadata": {},
   "outputs": [
    {
     "ename": "TypeError",
     "evalue": "'tuple' object does not support item assignment",
     "output_type": "error",
     "traceback": [
      "\u001b[1;31m---------------------------------------------------------------------------\u001b[0m",
      "\u001b[1;31mTypeError\u001b[0m                                 Traceback (most recent call last)",
      "Cell \u001b[1;32mIn[160], line 1\u001b[0m\n\u001b[1;32m----> 1\u001b[0m \u001b[43mTuple\u001b[49m\u001b[43m[\u001b[49m\u001b[38;5;241;43m0\u001b[39;49m\u001b[43m]\u001b[49m\u001b[38;5;241m=\u001b[39m\u001b[38;5;124m\"\u001b[39m\u001b[38;5;124mSaikiran\u001b[39m\u001b[38;5;124m\"\u001b[39m \u001b[38;5;66;03m# it shoe error became if ones the item is \u001b[39;00m\n\u001b[0;32m      2\u001b[0m \u001b[38;5;28mprint\u001b[39m(Tuple)        \u001b[38;5;66;03m# assigned we can't change it\u001b[39;00m\n",
      "\u001b[1;31mTypeError\u001b[0m: 'tuple' object does not support item assignment"
     ]
    }
   ],
   "source": [
    "Tuple[0]=\"Saikiran\" # it shoe error became if one the item is \n",
    "print(Tuple)        # assigned we can't change it "
   ]
  },
  {
   "cell_type": "code",
   "execution_count": 163,
   "metadata": {},
   "outputs": [
    {
     "name": "stdout",
     "output_type": "stream",
     "text": [
      "('Saikiran', 'Chethan', 'Chethan')\n"
     ]
    }
   ],
   "source": [
    "Tuple=(\"Saikiran\",\"Chethan\",\"Chethan\") # but the hole TUPLE can change\n",
    "print(Tuple)"
   ]
  },
  {
   "cell_type": "code",
   "execution_count": 164,
   "metadata": {},
   "outputs": [
    {
     "name": "stdout",
     "output_type": "stream",
     "text": [
      "2\n"
     ]
    }
   ],
   "source": [
    "print(Tuple.count(\"Chethan\"))"
   ]
  },
  {
   "cell_type": "code",
   "execution_count": null,
   "metadata": {},
   "outputs": [],
   "source": []
  }
 ],
 "metadata": {
  "kernelspec": {
   "display_name": "Python 3",
   "language": "python",
   "name": "python3"
  },
  "language_info": {
   "codemirror_mode": {
    "name": "ipython",
    "version": 3
   },
   "file_extension": ".py",
   "mimetype": "text/x-python",
   "name": "python",
   "nbconvert_exporter": "python",
   "pygments_lexer": "ipython3",
   "version": "3.13.0"
  }
 },
 "nbformat": 4,
 "nbformat_minor": 2
}
