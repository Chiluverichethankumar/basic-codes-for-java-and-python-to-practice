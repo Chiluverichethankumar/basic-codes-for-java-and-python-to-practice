{
 "cells": [
  {
   "cell_type": "code",
   "execution_count": 1,
   "metadata": {},
   "outputs": [
    {
     "name": "stdout",
     "output_type": "stream",
     "text": [
      "[50, 39, 70, 23, 100]\n",
      "[50, 39, 70, 23, 100]\n",
      "[0, 11, 20, 27, 50]\n"
     ]
    }
   ],
   "source": [
    "# # # # sq=[4,2,6,3]\n",
    "# # # # v=0\n",
    "# # # # Sq=[]\n",
    "# # # # for i in sq:\n",
    "# # # #     v=i**2\n",
    "# # # #     Sq.append(v)\n",
    "# # # # print(Sq)\n",
    "\n",
    "# # # tuple1=(1,2,3,4,5,6,7,8)\n",
    "# # # for i in tuple1:\n",
    "# # #     if i%2!=0:\n",
    "# # #         print(i)\n",
    "# # # else:\n",
    "# # #     print(\"this are odd numbers\")\n",
    "# # i=0\n",
    "# # while i<10:\n",
    "# #     i+=3\n",
    "# #     print(i)\n",
    "\n",
    "# list1=[\"apple\",\"bannan\",\"mango\"]\n",
    "# newlist=[\"chethan\".upper() for x in list1]\n",
    "# print(newlist)\n",
    "# def mylist(n):\n",
    "#     return abs(n-50)\n",
    "# List=[10,20,70,23,39]\n",
    "# newlist=list(map(mylist,List))\n",
    "# print(newlist)\n",
    "\n",
    "def Mylist(n1):\n",
    "    return abs(n1-50)\n",
    "l1=[100,50,70,23,39]\n",
    "l1.sort(key=Mylist)\n",
    "print(l1)\n",
    "\n",
    "l2=sorted(l1,key=Mylist)\n",
    "print(l2)\n",
    "\n",
    "print(list(map(Mylist,l1)))"
   ]
  },
  {
   "cell_type": "code",
   "execution_count": 29,
   "metadata": {},
   "outputs": [
    {
     "name": "stdout",
     "output_type": "stream",
     "text": [
      "[1, 2, 3, 4]\n",
      "<class 'list'>\n",
      "[1, 2, 3, 4, 5, 6, 7, 8]\n",
      "[1, 2, 3, 4, 5, 6, 7]\n",
      "[1, 2, 3, 4, 5, 6, 7, 9, 1, 2, 3, 4]\n",
      "[1, 2, 3, 4, 5]\n",
      "[1, 2, 3, 4]\n",
      "[1, 2, 3, 4]\n",
      "[1, 2, 3, 4]\n",
      "[1, 2, 3, 4, 6]\n",
      "[1, 2, 3, 4]\n",
      "[1, 2, 3, 4, 0]\n",
      "1\n",
      "2\n",
      "0 0\n",
      "0 1\n",
      "0 2\n",
      "1 0\n",
      "1 1\n",
      "1 2\n",
      "2 0\n",
      "2 1\n",
      "2 2\n",
      "3 0\n",
      "3 1\n",
      "3 2\n",
      "4 0\n",
      "4 1\n",
      "4 2\n",
      "5 0\n",
      "5 1\n",
      "5 2\n",
      "<built-in method remove of list object at 0x000001B23A9BB280>\n"
     ]
    }
   ],
   "source": [
    "# list\n",
    "List=[1,2,3,4]\n",
    "print(List)\n",
    "print(type(List))\n",
    "List1=[5,6,7,8]\n",
    "List2=List + List1\n",
    "print(List2)\n",
    "List2.pop()\n",
    "print(List2)\n",
    "List2.append(9)\n",
    "List2.extend(List)\n",
    "print(List2)\n",
    "List3=List\n",
    "List.append(5)\n",
    "print(List3)\n",
    "List3.pop()\n",
    "print(List3)\n",
    "print(List)\n",
    "List4=List.copy()\n",
    "print(List4)\n",
    "List.append(6)\n",
    "print(List)\n",
    "print(List4)\n",
    "List4.append(0)\n",
    "print(List4)\n",
    "\n",
    "for i in range(2):\n",
    "    print(List[i])\n",
    "for i in range(6):\n",
    "    for j in range(3):\n",
    "        print(i,j)\n",
    "Li=List.remove\n",
    "print(Li)\n"
   ]
  },
  {
   "cell_type": "code",
   "execution_count": null,
   "metadata": {},
   "outputs": [
    {
     "name": "stdout",
     "output_type": "stream",
     "text": [
      "[1, 2, 3, 4, 5]\n",
      "[5, 4, 3, 2, 1]\n"
     ]
    }
   ],
   "source": [
    "L1=[1,2,3,4,5]\n",
    "L1.reverse()\n",
    "print(L1)\n",
    "print(L1[::])"
   ]
  },
  {
   "cell_type": "code",
   "execution_count": 64,
   "metadata": {},
   "outputs": [
    {
     "name": "stdout",
     "output_type": "stream",
     "text": [
      "[5, 4, 3, 2, 2, 1]\n",
      "[1, 2, 2, 3, 4, 5]\n",
      "2\n"
     ]
    }
   ],
   "source": [
    "L1=[1,2,2,3,4,5]\n",
    "L2=L1[::-1]\n",
    "print(L2)\n",
    "L1.sort()\n",
    "print(L1)\n",
    "Co=L1.count(2)\n",
    "print(Co)"
   ]
  },
  {
   "cell_type": "code",
   "execution_count": null,
   "metadata": {},
   "outputs": [
    {
     "name": "stdout",
     "output_type": "stream",
     "text": [
      "[1, 2, 2, 3, 4, 5]\n"
     ]
    },
    {
     "ename": "NameError",
     "evalue": "name 'L1' is not defined",
     "output_type": "error",
     "traceback": [
      "\u001b[1;31m---------------------------------------------------------------------------\u001b[0m",
      "\u001b[1;31mNameError\u001b[0m                                 Traceback (most recent call last)",
      "Cell \u001b[1;32mIn[65], line 3\u001b[0m\n\u001b[0;32m      1\u001b[0m \u001b[38;5;28mprint\u001b[39m(L1)\n\u001b[0;32m      2\u001b[0m \u001b[38;5;28;01mdel\u001b[39;00m L1\n\u001b[1;32m----> 3\u001b[0m \u001b[38;5;28mprint\u001b[39m(\u001b[43mL1\u001b[49m)\n",
      "\u001b[1;31mNameError\u001b[0m: name 'L1' is not defined"
     ]
    }
   ],
   "source": [
    "print(L1)\n",
    "del L1\n",
    "# print(L1) not defined\n"
   ]
  },
  {
   "cell_type": "code",
   "execution_count": 1,
   "metadata": {},
   "outputs": [
    {
     "name": "stdout",
     "output_type": "stream",
     "text": [
      "15\n"
     ]
    }
   ],
   "source": [
    "x=lambda a:a+10\n",
    "print(x(5))"
   ]
  },
  {
   "cell_type": "code",
   "execution_count": 2,
   "metadata": {},
   "outputs": [
    {
     "name": "stdout",
     "output_type": "stream",
     "text": [
      "10\n"
     ]
    }
   ],
   "source": [
    "y=lambda a,b,c,d:a+b+c+d\n",
    "print(y(1,2,3,4))"
   ]
  },
  {
   "cell_type": "code",
   "execution_count": 6,
   "metadata": {},
   "outputs": [
    {
     "name": "stdout",
     "output_type": "stream",
     "text": [
      "20\n"
     ]
    }
   ],
   "source": [
    "def Add(a):\n",
    "    return lambda b:a*b\n",
    "C=Add(10)\n",
    "print(C(2))"
   ]
  },
  {
   "cell_type": "code",
   "execution_count": null,
   "metadata": {},
   "outputs": [
    {
     "name": "stdout",
     "output_type": "stream",
     "text": [
      "6\n"
     ]
    }
   ],
   "source": [
    "def add():\n",
    "    return lambda a,b,c:a+b+c\n",
    "A=add()\n",
    "print(A(1,2,3))"
   ]
  },
  {
   "cell_type": "code",
   "execution_count": 12,
   "metadata": {},
   "outputs": [
    {
     "name": "stdout",
     "output_type": "stream",
     "text": [
      "6\n"
     ]
    }
   ],
   "source": [
    "def add1(a):\n",
    "    return lambda b,c:a+b+c\n",
    "A=add1(1)\n",
    "print(A(2,3))"
   ]
  },
  {
   "cell_type": "code",
   "execution_count": null,
   "metadata": {},
   "outputs": [
    {
     "name": "stdout",
     "output_type": "stream",
     "text": [
      "<class 'tuple'>\n",
      "('a', 'hello', 1, 2, 3, 2.3)\n",
      "<class 'tuple'>\n",
      "(1, 'hi', 3.34)\n"
     ]
    }
   ],
   "source": [
    "A1=(\"a\",\"hello\",1,2,3,2.3)\n",
    "print(type(A1))\n",
    "print(A1)\n",
    "A2=tuple((1,\"hi\",3.34))\n",
    "print(type(A2))\n",
    "print(A2)\n",
    "\n"
   ]
  },
  {
   "cell_type": "code",
   "execution_count": 24,
   "metadata": {},
   "outputs": [
    {
     "name": "stdout",
     "output_type": "stream",
     "text": [
      "('a', 'hello', 1, 2, 3, 2.3, 1, 'hi', 3.34)\n"
     ]
    }
   ],
   "source": [
    "A1+=A2\n",
    "print(A1)"
   ]
  },
  {
   "cell_type": "code",
   "execution_count": 33,
   "metadata": {},
   "outputs": [
    {
     "name": "stdout",
     "output_type": "stream",
     "text": [
      "(1, 2, 3)\n",
      "(1, 2, 3)\n",
      "(1, 2, 3, 1, 2, 3)\n",
      "(1, 2, 3)\n"
     ]
    }
   ],
   "source": [
    "T1=(1,2,3)\n",
    "print(T1)\n",
    "T2=T1\n",
    "print(T1)\n",
    "T2=T2*2\n",
    "print(T2)\n",
    "print(T1)"
   ]
  },
  {
   "cell_type": "code",
   "execution_count": 52,
   "metadata": {},
   "outputs": [
    {
     "ename": "AttributeError",
     "evalue": "'list' object has no attribute 'update'",
     "output_type": "error",
     "traceback": [
      "\u001b[1;31m---------------------------------------------------------------------------\u001b[0m",
      "\u001b[1;31mAttributeError\u001b[0m                            Traceback (most recent call last)",
      "Cell \u001b[1;32mIn[52], line 18\u001b[0m\n\u001b[0;32m      2\u001b[0m \u001b[38;5;66;03m# L2=L1\u001b[39;00m\n\u001b[0;32m      3\u001b[0m \u001b[38;5;66;03m# print(L1)\u001b[39;00m\n\u001b[0;32m      4\u001b[0m \u001b[38;5;66;03m# print(L2)\u001b[39;00m\n\u001b[1;32m   (...)\u001b[0m\n\u001b[0;32m     15\u001b[0m \u001b[38;5;66;03m# L1.add(\"hello\")\u001b[39;00m\n\u001b[0;32m     16\u001b[0m \u001b[38;5;66;03m# print(L1)\u001b[39;00m\n\u001b[0;32m     17\u001b[0m L2\u001b[38;5;241m=\u001b[39m[\u001b[38;5;241m4\u001b[39m,\u001b[38;5;241m5\u001b[39m,\u001b[38;5;241m6\u001b[39m]\n\u001b[1;32m---> 18\u001b[0m \u001b[43mL1\u001b[49m\u001b[38;5;241;43m.\u001b[39;49m\u001b[43mupdate\u001b[49m(L2)\n\u001b[0;32m     19\u001b[0m \u001b[38;5;28mprint\u001b[39m(L1)\n",
      "\u001b[1;31mAttributeError\u001b[0m: 'list' object has no attribute 'update'"
     ]
    }
   ],
   "source": [
    "L1=[1,2,3]\n",
    "# L2=L1\n",
    "# print(L1)\n",
    "# print(L2)\n",
    "# L2.append(4)\n",
    "# L2=L1*2\n",
    "\n",
    "# print(L1)\n",
    "# L2=L1*2\n",
    "# print(L2)\n",
    "# print(L1)\n",
    "# L1.pop()\n",
    "# print(L1)\n",
    "# print(L2)\n",
    "# L1.add(\"hello\")\n",
    "# print(L1)\n",
    "L2=[4,5,6]\n",
    "L1.update(L2)\n",
    "print(L1)\n"
   ]
  },
  {
   "cell_type": "code",
   "execution_count": 51,
   "metadata": {},
   "outputs": [
    {
     "name": "stdout",
     "output_type": "stream",
     "text": [
      "{'hello', 1, 2, 3}\n",
      "{1, 2, 'hello', 3, 4, 5, 'hi'}\n"
     ]
    }
   ],
   "source": [
    "S={1,2,3}\n",
    "S.add(\"hello\")\n",
    "print(S)\n",
    "S1={\"hi\",4,5}\n",
    "S.update(S1)\n",
    "print(S)"
   ]
  },
  {
   "cell_type": "code",
   "execution_count": 50,
   "metadata": {},
   "outputs": [
    {
     "name": "stdout",
     "output_type": "stream",
     "text": [
      "{'hello', 1, 2, 3}\n",
      "{1, 2, 'hello', 3, 4, 5, 'hi'}\n"
     ]
    }
   ],
   "source": [
    "S = {1, 2, 3}\n",
    "S.add(\"hello\")\n",
    "print(S)  # Output: {1, 2, 3, 'hello'}\n",
    "\n",
    "S1 = {\"hi\", 4, 5}\n",
    "S.update(S1)  # Corrected \"updata\" to \"update\"\n",
    "print(S)  # Output: {1, 2, 3, 'hello', 'hi', 4, 5}\n"
   ]
  },
  {
   "cell_type": "code",
   "execution_count": 64,
   "metadata": {},
   "outputs": [
    {
     "name": "stdout",
     "output_type": "stream",
     "text": [
      "<class 'str'>\n",
      "<class 'tuple'>\n"
     ]
    }
   ],
   "source": [
    "print(type(S))\n",
    "# S={}\n",
    "S=(\"hi\",)\n",
    "print(type(S))"
   ]
  },
  {
   "cell_type": "code",
   "execution_count": 83,
   "metadata": {},
   "outputs": [
    {
     "name": "stdout",
     "output_type": "stream",
     "text": [
      "1\n",
      "2\n",
      "3\n",
      "hi\n",
      "hello\n",
      "Chetan\n",
      "(1, 'hi')\n",
      "(2, 'hello')\n",
      "(3, 'Chetan')\n"
     ]
    }
   ],
   "source": [
    "Di={1:\"hi\",2:\"hello\",3:\"Chetan\"}\n",
    "for i in Di:\n",
    "    print(i)\n",
    "for i in Di.values():\n",
    "    print(i)\n",
    "for i in Di.items():\n",
    "    print(i)"
   ]
  },
  {
   "cell_type": "code",
   "execution_count": 92,
   "metadata": {},
   "outputs": [
    {
     "name": "stdout",
     "output_type": "stream",
     "text": [
      "2\n",
      "hi\n"
     ]
    },
    {
     "ename": "TypeError",
     "evalue": "'dict' object is not callable",
     "output_type": "error",
     "traceback": [
      "\u001b[1;31m---------------------------------------------------------------------------\u001b[0m",
      "\u001b[1;31mTypeError\u001b[0m                                 Traceback (most recent call last)",
      "Cell \u001b[1;32mIn[92], line 4\u001b[0m\n\u001b[0;32m      2\u001b[0m x\u001b[38;5;241m=\u001b[39mDi\u001b[38;5;241m.\u001b[39mget(\u001b[38;5;241m1\u001b[39m)\n\u001b[0;32m      3\u001b[0m \u001b[38;5;28mprint\u001b[39m(x)\n\u001b[1;32m----> 4\u001b[0m x\u001b[38;5;241m=\u001b[39m\u001b[43mDi\u001b[49m\u001b[43m(\u001b[49m\u001b[38;5;124;43m'\u001b[39;49m\u001b[38;5;124;43m1\u001b[39;49m\u001b[38;5;124;43m'\u001b[39;49m\u001b[43m)\u001b[49m\n\u001b[0;32m      5\u001b[0m \u001b[38;5;28mprint\u001b[39m(x)\n",
      "\u001b[1;31mTypeError\u001b[0m: 'dict' object is not callable"
     ]
    }
   ],
   "source": [
    "print(len(Di[1]))\n",
    "x=Di.get(1)\n",
    "print(x)\n",
    "x=Di('1')\n",
    "print(x)\n"
   ]
  },
  {
   "cell_type": "code",
   "execution_count": 100,
   "metadata": {},
   "outputs": [
    {
     "name": "stdout",
     "output_type": "stream",
     "text": [
      "hi\n",
      "{1: 'hi', 2: 'hello'}\n"
     ]
    }
   ],
   "source": [
    "Di={1:\"hi\",2:\"hello\",3:\"Chetan\"}\n",
    "a=Di[1]\n",
    "print(a)\n",
    "# Di.pop()\n",
    "Di.popitem()\n",
    "print(Di)"
   ]
  },
  {
   "cell_type": "code",
   "execution_count": 127,
   "metadata": {},
   "outputs": [
    {
     "name": "stdout",
     "output_type": "stream",
     "text": [
      "array('i', [1, 2, 3])\n",
      "<class 'array.array'>\n",
      "array('i', [1, 4, 2, 3])\n",
      "[1 2 3]\n",
      "<class 'numpy.ndarray'>\n",
      "[1 4 2 3]\n"
     ]
    }
   ],
   "source": [
    "import array\n",
    "a=array.array('i',[1,2,3])\n",
    "print(a)\n",
    "print(type(a))\n",
    "a.insert(1,4)\n",
    "print(a)\n",
    "\n",
    "\n",
    "import numpy as np\n",
    "b=np.array([1,2,3])\n",
    "print(b)\n",
    "print(type(b))\n",
    "b=np.insert(b,1,4)\n",
    "print(h)"
   ]
  },
  {
   "cell_type": "code",
   "execution_count": null,
   "metadata": {},
   "outputs": [
    {
     "name": "stdout",
     "output_type": "stream",
     "text": [
      "<class 'array.array'>\n",
      "array('i', [1, 4, 2, 3])\n"
     ]
    }
   ],
   "source": [
    "import array as arr\n",
    "a=arr.array('i',[1,2,3])\n",
    "print(type(a))\n",
    "a.insert(1,4)\n",
    "print(a)\n"
   ]
  },
  {
   "cell_type": "code",
   "execution_count": null,
   "metadata": {},
   "outputs": [
    {
     "name": "stdout",
     "output_type": "stream",
     "text": [
      "[[1 2 3]\n",
      " [5 6 7]]\n",
      "<class 'numpy.ndarray'>\n",
      "[[1, 2, 3], [4, 5, 6]]\n",
      "[[1, 2, 3], 4, [4, 5, 6]]\n"
     ]
    }
   ],
   "source": [
    "# import array as arr\n",
    "# a=arr.array('i',[[1,2,3],[4,5,6]])\n",
    "# print(a)\n",
    "# print(type(a))\n",
    "\n",
    "import numpy as np\n",
    "b=np.array([[1,2,3],[5,6,7]])\n",
    "print(b)\n",
    "print(type(b))\n",
    "\n",
    "List=[[1,2,3],[4,5,6]]\n",
    "print(List)\n",
    "List.insert(1,4)\n",
    "print(List)"
   ]
  },
  {
   "cell_type": "code",
   "execution_count": 113,
   "metadata": {},
   "outputs": [
    {
     "name": "stderr",
     "output_type": "stream",
     "text": [
      "C:\\Users\\chilu\\AppData\\Local\\Temp\\ipykernel_19664\\4127521175.py:1: DeprecationWarning: The 'u' type code is deprecated and will be removed in Python 3.16\n",
      "  a1=arr.array('u',[\"hi\",\"hello\",\"who\",\"are\",\"you\"])\n"
     ]
    },
    {
     "ename": "TypeError",
     "evalue": "array item must be unicode character",
     "output_type": "error",
     "traceback": [
      "\u001b[1;31m---------------------------------------------------------------------------\u001b[0m",
      "\u001b[1;31mTypeError\u001b[0m                                 Traceback (most recent call last)",
      "Cell \u001b[1;32mIn[113], line 1\u001b[0m\n\u001b[1;32m----> 1\u001b[0m a1\u001b[38;5;241m=\u001b[39m\u001b[43marr\u001b[49m\u001b[38;5;241;43m.\u001b[39;49m\u001b[43marray\u001b[49m\u001b[43m(\u001b[49m\u001b[38;5;124;43m'\u001b[39;49m\u001b[38;5;124;43mu\u001b[39;49m\u001b[38;5;124;43m'\u001b[39;49m\u001b[43m,\u001b[49m\u001b[43m[\u001b[49m\u001b[38;5;124;43m\"\u001b[39;49m\u001b[38;5;124;43mhi\u001b[39;49m\u001b[38;5;124;43m\"\u001b[39;49m\u001b[43m,\u001b[49m\u001b[38;5;124;43m\"\u001b[39;49m\u001b[38;5;124;43mhello\u001b[39;49m\u001b[38;5;124;43m\"\u001b[39;49m\u001b[43m,\u001b[49m\u001b[38;5;124;43m\"\u001b[39;49m\u001b[38;5;124;43mwho\u001b[39;49m\u001b[38;5;124;43m\"\u001b[39;49m\u001b[43m,\u001b[49m\u001b[38;5;124;43m\"\u001b[39;49m\u001b[38;5;124;43mare\u001b[39;49m\u001b[38;5;124;43m\"\u001b[39;49m\u001b[43m,\u001b[49m\u001b[38;5;124;43m\"\u001b[39;49m\u001b[38;5;124;43myou\u001b[39;49m\u001b[38;5;124;43m\"\u001b[39;49m\u001b[43m]\u001b[49m\u001b[43m)\u001b[49m\n\u001b[0;32m      2\u001b[0m \u001b[38;5;28mprint\u001b[39m(a1)\n",
      "\u001b[1;31mTypeError\u001b[0m: array item must be unicode character"
     ]
    }
   ],
   "source": [
    "a1=arr.array('u',[\"hi\",\"hello\",\"who\",\"are\",\"you\"])\n",
    "print(a1)"
   ]
  },
  {
   "cell_type": "code",
   "execution_count": 116,
   "metadata": {},
   "outputs": [
    {
     "name": "stdout",
     "output_type": "stream",
     "text": [
      "['hi' 'hello' 'chethan']\n",
      "[['hi' 'hello' 'chethan']\n",
      " ['kumar' 'Sai' 'kiran']]\n"
     ]
    }
   ],
   "source": [
    "St=np.array([\"hi\",\"hello\",\"chethan\"])\n",
    "print(St)\n",
    "St=np.array([[\"hi\",\"hello\",\"chethan\"],[\"kumar\",\"Sai\",\"kiran\"]])\n",
    "print(St)"
   ]
  },
  {
   "cell_type": "code",
   "execution_count": 33,
   "metadata": {},
   "outputs": [
    {
     "name": "stdout",
     "output_type": "stream",
     "text": [
      "array('i', [1, 2, 3, 4, 5])\n",
      "1 2 3 4 5\n",
      "array('i', [1, 6, 2, 3, 4, 5])\n",
      "array('i', [1, 6, 2, 3, 4, 5, 7])\n",
      "Accrrssing element\n",
      "array('i', [1, 6, 2, 3, 4, 5, 7])\n",
      "1\n",
      "7\n",
      "6 2 3 4\n",
      "array('i', [1, 6, 2, 3, 4, 5, 7, 8, 9])\n",
      "array('i', [1, 6, 2, 4, 5, 7, 8, 9])\n",
      "array('i', [1, 2, 4, 5, 7, 8, 9])\n",
      "array('i', [1, 2, 4, 5, 7, 8])\n"
     ]
    }
   ],
   "source": [
    "import array as arr\n",
    "Ar=arr.array('i',[1,2,3,4,5])\n",
    "print(Ar)\n",
    "print(*Ar)\n",
    "\n",
    "Ar.insert(1,6)\n",
    "print(Ar)\n",
    "\n",
    "Ar.append(7)\n",
    "print(Ar)\n",
    "\n",
    "print(\"Accrrssing element\")\n",
    "print(Ar[:])\n",
    "print(Ar[0])\n",
    "print(Ar[-1])\n",
    "print(*Ar[1:5])\n",
    "\n",
    "\n",
    "Ar.extend([8,9])\n",
    "print(Ar)\n",
    "\n",
    "Ar.remove(3)\n",
    "print(Ar)\n",
    "\n",
    "Ar.pop(1)\n",
    "print(Ar)\n",
    "\n",
    "Ar.pop()\n",
    "print(Ar)"
   ]
  },
  {
   "cell_type": "code",
   "execution_count": 35,
   "metadata": {},
   "outputs": [
    {
     "name": "stdout",
     "output_type": "stream",
     "text": [
      "[1 2 3 4 5]\n",
      "1 2 3 4 5\n",
      "[1 6 2 3 4 5]\n",
      "[1 6 2 3 4 5 7]\n",
      "Accrrssing element\n",
      "[1 6 2 3 4 5 7]\n",
      "1\n",
      "7\n",
      "6 2 3 4\n",
      "[1 6 2 3 4 5 7 8 9]\n",
      "[1 2 3 4 5 7 8 9]\n"
     ]
    }
   ],
   "source": [
    "import numpy as np\n",
    "Ar1=np.array([1,2,3,4,5])\n",
    "print(Ar1)\n",
    "print(*Ar1)\n",
    "\n",
    "Ar1=np.insert(Ar1,1,6)\n",
    "print(Ar1)\n",
    "\n",
    "As1=np.append(Ar1,7)\n",
    "print(As1)\n",
    "\n",
    "print(\"Accrrssing element\")\n",
    "print(As1[:])\n",
    "print(As1[0])\n",
    "print(As1[-1])\n",
    "print(*As1[1:5])\n",
    "\n",
    "\n",
    "\n",
    "# As1=np.extand(As1,9)\n",
    "# print(As1) no extand in numpy\n",
    "\n",
    "As1=np.append(As1,[8,9])\n",
    "print(As1)\n",
    "\n",
    "# As1=As1.remove(As1,6)\n",
    "# print(As1) no remove in numpy\n",
    "\n",
    "# As1=np.pop(As1,1)\n",
    "# print(As1) no pop in numpy\n",
    "\n",
    "As1=np.delete(As1,1) # by using index\n",
    "print(As1)\n",
    "\n"
   ]
  },
  {
   "cell_type": "code",
   "execution_count": 4,
   "metadata": {},
   "outputs": [
    {
     "name": "stdout",
     "output_type": "stream",
     "text": [
      "[1 2 3]\n",
      "2\n",
      "[1 2 3]\n",
      "3\n"
     ]
    }
   ],
   "source": [
    "import numpy as np\n",
    "Arr=np.array([1,2,3])\n",
    "print(Arr)\n",
    "print(Arr[1])\n",
    "print(Arr[:])\n",
    "print(Arr[-1])"
   ]
  },
  {
   "cell_type": "code",
   "execution_count": 29,
   "metadata": {},
   "outputs": [
    {
     "name": "stdout",
     "output_type": "stream",
     "text": [
      "[[1 2 3]\n",
      " [4 5 6]\n",
      " [7 8 9]]\n",
      "[[1 2 3]\n",
      " [4 5 6]\n",
      " [7 8 9]]\n",
      "[[1 2 3]\n",
      " [4 5 6]\n",
      " [7 8 9]]\n",
      "[[1 2 3]\n",
      " [4 5 6]\n",
      " [7 8 9]]\n",
      "[[1 2 3]\n",
      " [4 5 6]\n",
      " [7 8 9]]\n",
      "----------------\n",
      "only one row\n",
      "[[1 2 3]]\n",
      "[[4 5 6]]\n",
      "[[7 8 9]]\n",
      "-----------------\n",
      "only columns\n",
      "[[1]\n",
      " [4]\n",
      " [7]]\n",
      "[[2]\n",
      " [5]\n",
      " [8]]\n",
      "[[3]\n",
      " [6]\n",
      " [9]]\n",
      "------------------\n",
      "two row\n",
      "[[1 2 3]\n",
      " [4 5 6]]\n",
      "[[4 5 6]\n",
      " [7 8 9]]\n",
      "----------------\n",
      "two column\n",
      "[[1 2]\n",
      " [4 5]\n",
      " [7 8]]\n",
      "[[2 3]\n",
      " [5 6]\n",
      " [8 9]]\n"
     ]
    }
   ],
   "source": [
    "Arr1=np.array([[1,2,3],[4,5,6],[7,8,9]])\n",
    "print(Arr1)\n",
    "print(Arr1[:])\n",
    "print(Arr1[::])\n",
    "print(Arr1[0:,0:])\n",
    "print(Arr1[0:3,0:3])\n",
    "print(\"----------------\")\n",
    "print(\"only one row\")\n",
    "print(Arr1[0:1,])\n",
    "print(Arr1[1:2])\n",
    "print(Arr1[2:3,])\n",
    "print(\"-----------------\")\n",
    "print(\"only columns\")\n",
    "print(Arr1[0:3,0:1])\n",
    "print(Arr1[0:3,1:2])\n",
    "print(Arr1[0:3,2:3])\n",
    "print(\"------------------\")\n",
    "print(\"two row\")\n",
    "print(Arr1[0:2,])\n",
    "print(Arr1[1:3,])\n",
    "print(\"----------------\")\n",
    "print(\"two column\")\n",
    "print(Arr1[:,0:2])\n",
    "print(Arr1[:,1:3])"
   ]
  },
  {
   "cell_type": "code",
   "execution_count": 58,
   "metadata": {},
   "outputs": [
    {
     "name": "stdout",
     "output_type": "stream",
     "text": [
      "[[1 2 3]\n",
      " [4 5 6]\n",
      " [7 8 9]]\n",
      "2,3,5,6\n",
      "[[2 3]\n",
      " [5 6]]\n",
      "4,5,7,8\n",
      "[[4 5]\n",
      " [7 8]]\n",
      "1,4\n",
      "[[1]\n",
      " [4]]\n",
      "5\n",
      "[[5]]\n",
      "1\n",
      "1 9\n",
      "[[1]] [[9]]\n",
      "1 9\n"
     ]
    }
   ],
   "source": [
    "print(Arr1)\n",
    "print(\"2,3,5,6\")\n",
    "print(Arr1[0:2,1:3])\n",
    "print(\"4,5,7,8\")\n",
    "print(Arr1[1:3,0:2])\n",
    "print(\"1,4\")\n",
    "print(Arr1[0:2,0:1])\n",
    "print(\"5\")\n",
    "print(Arr1[1:2,1:2])\n",
    "print(Arr1[0,0])\n",
    "print(1,9)\n",
    "print(Arr1[0:1,0:1],Arr1[2:3,2:3])\n",
    "print(Arr1[0,0],Arr1[2,2])\n"
   ]
  },
  {
   "cell_type": "code",
   "execution_count": null,
   "metadata": {},
   "outputs": [
    {
     "name": "stdout",
     "output_type": "stream",
     "text": [
      "[[[ 1  2  3]\n",
      "  [ 4  5  6]\n",
      "  [ 7  8  9]]\n",
      "\n",
      " [[10 11 12]\n",
      "  [13 14 15]\n",
      "  [16 17 18]]\n",
      "\n",
      " [[20 21 22]\n",
      "  [23 24 25]\n",
      "  [26 27 28]]]\n",
      "<class 'numpy.ndarray'>\n",
      "[[1 2 3]\n",
      " [4 5 6]\n",
      " [7 8 9]] [[10 11 12]\n",
      " [13 14 15]\n",
      " [16 17 18]] [[20 21 22]\n",
      " [23 24 25]\n",
      " [26 27 28]]\n",
      "---------------\n",
      "[[[ 1  2  3]\n",
      "  [ 4  5  6]\n",
      "  [ 7  8  9]]\n",
      "\n",
      " [[10 11 12]\n",
      "  [13 14 15]\n",
      "  [16 17 18]]\n",
      "\n",
      " [[20 21 22]\n",
      "  [23 24 25]\n",
      "  [26 27 28]]]\n",
      "---------------\n",
      "[[[ 1  2  3]\n",
      "  [ 4  5  6]\n",
      "  [ 7  8  9]]\n",
      "\n",
      " [[10 11 12]\n",
      "  [13 14 15]\n",
      "  [16 17 18]]\n",
      "\n",
      " [[20 21 22]\n",
      "  [23 24 25]\n",
      "  [26 27 28]]]\n",
      "---------------\n",
      "[[[ 1  2  3]\n",
      "  [ 4  5  6]\n",
      "  [ 7  8  9]]\n",
      "\n",
      " [[10 11 12]\n",
      "  [13 14 15]\n",
      "  [16 17 18]]\n",
      "\n",
      " [[20 21 22]\n",
      "  [23 24 25]\n",
      "  [26 27 28]]]\n",
      "---------------\n",
      "[[[ 1  2  3]\n",
      "  [ 4  5  6]\n",
      "  [ 7  8  9]]\n",
      "\n",
      " [[10 11 12]\n",
      "  [13 14 15]\n",
      "  [16 17 18]]\n",
      "\n",
      " [[20 21 22]\n",
      "  [23 24 25]\n",
      "  [26 27 28]]]\n",
      "---------------\n",
      "[[[ 1  2  3]\n",
      "  [ 4  5  6]\n",
      "  [ 7  8  9]]\n",
      "\n",
      " [[10 11 12]\n",
      "  [13 14 15]\n",
      "  [16 17 18]]\n",
      "\n",
      " [[20 21 22]\n",
      "  [23 24 25]\n",
      "  [26 27 28]]]\n"
     ]
    }
   ],
   "source": [
    "# print(_:_,_:_,_:_)\n",
    "#        |   |   |\n",
    "#      layer |   |\n",
    "#          row  column\n",
    "\n",
    " \n",
    "\n",
    "import numpy as np\n",
    "A=np.array([\n",
    "    [[1,2,3],[4,5,6],[7,8,9]],\n",
    "    [[10,11,12],[13,14,15],[16,17,18]],\n",
    "    [[20,21,22],[23,24,25],[26,27,28]]\n",
    "    ])\n",
    "print(A)\n",
    "print(type(A))\n",
    "print(*A)\n",
    "print(\"---------------\")\n",
    "print(A[:])\n",
    "print(\"---------------\")\n",
    "print(A[::])\n",
    "print(\"---------------\")\n",
    "print(A[:,:,:])\n",
    "print(\"---------------\")\n",
    "print(A[0:3,])\n",
    "print(\"---------------\")\n",
    "print(A[0:,0:,0:])\n"
   ]
  },
  {
   "cell_type": "code",
   "execution_count": 35,
   "metadata": {},
   "outputs": [
    {
     "name": "stdout",
     "output_type": "stream",
     "text": [
      "---------------\n",
      "[[[ 1  2  3]\n",
      "  [ 4  5  6]\n",
      "  [ 7  8  9]]\n",
      "\n",
      " [[10 11 12]\n",
      "  [13 14 15]\n",
      "  [16 17 18]]\n",
      "\n",
      " [[20 21 22]\n",
      "  [23 24 25]\n",
      "  [26 27 28]]]\n",
      "---------------\n",
      "[[[10 11 12]\n",
      "  [13 14 15]\n",
      "  [16 17 18]]\n",
      "\n",
      " [[20 21 22]\n",
      "  [23 24 25]\n",
      "  [26 27 28]]]\n",
      "---------------\n",
      "[[1 2 3]\n",
      " [4 5 6]\n",
      " [7 8 9]]\n",
      "---------------\n",
      "[[10 11 12]\n",
      " [13 14 15]\n",
      " [16 17 18]]\n",
      "---------------\n",
      "[[20 21 22]\n",
      " [23 24 25]\n",
      " [26 27 28]]\n"
     ]
    }
   ],
   "source": [
    "print(\"---------------\")\n",
    "print(A[0:,:,:])\n",
    "print(\"---------------\")\n",
    "print(A[1:,:,:])\n",
    "print(\"---------------\")\n",
    "print(A[0])\n",
    "print(\"---------------\")\n",
    "print(A[1])\n",
    "print(\"---------------\")\n",
    "print(A[2])"
   ]
  },
  {
   "cell_type": "code",
   "execution_count": 39,
   "metadata": {},
   "outputs": [
    {
     "name": "stdout",
     "output_type": "stream",
     "text": [
      "[[[ 1  2  3]\n",
      "  [ 4  5  6]\n",
      "  [ 7  8  9]]\n",
      "\n",
      " [[10 11 12]\n",
      "  [13 14 15]\n",
      "  [16 17 18]]\n",
      "\n",
      " [[20 21 22]\n",
      "  [23 24 25]\n",
      "  [26 27 28]]]\n",
      "-----------\n",
      "[[[ 4  5  6]\n",
      "  [ 7  8  9]]\n",
      "\n",
      " [[13 14 15]\n",
      "  [16 17 18]]\n",
      "\n",
      " [[23 24 25]\n",
      "  [26 27 28]]]\n",
      "-----------\n",
      "[[[ 7  8  9]]\n",
      "\n",
      " [[16 17 18]]\n",
      "\n",
      " [[26 27 28]]]\n",
      "-----------\n",
      "[]\n",
      "-----------\n"
     ]
    }
   ],
   "source": [
    "print(A[:,0:,:])\n",
    "print(\"-----------\")\n",
    "print(A[:,1:,:])\n",
    "print(\"-----------\")\n",
    "print(A[:,2:,:])\n",
    "print(\"-----------\")\n",
    "print(A[:,3:,:])\n",
    "print(\"-----------\")"
   ]
  },
  {
   "cell_type": "code",
   "execution_count": 46,
   "metadata": {},
   "outputs": [
    {
     "name": "stdout",
     "output_type": "stream",
     "text": [
      "[[[1 2 3]\n",
      "  [4 5 6]\n",
      "  [7 8 9]]]\n",
      "--------------\n",
      "[[[ 1  2  3]\n",
      "  [ 4  5  6]\n",
      "  [ 7  8  9]]\n",
      "\n",
      " [[10 11 12]\n",
      "  [13 14 15]\n",
      "  [16 17 18]]]\n",
      "--------------\n",
      "[[[ 1  2  3]\n",
      "  [ 4  5  6]\n",
      "  [ 7  8  9]]\n",
      "\n",
      " [[10 11 12]\n",
      "  [13 14 15]\n",
      "  [16 17 18]]\n",
      "\n",
      " [[20 21 22]\n",
      "  [23 24 25]\n",
      "  [26 27 28]]]\n"
     ]
    }
   ],
   "source": [
    "print(A[0:1,:,:])\n",
    "print(\"--------------\")\n",
    "print(A[0:2:,:])\n",
    "print(\"--------------\")\n",
    "print(A[0:3:,:])"
   ]
  },
  {
   "cell_type": "code",
   "execution_count": 50,
   "metadata": {},
   "outputs": [
    {
     "name": "stdout",
     "output_type": "stream",
     "text": [
      "[[[1 2 3]\n",
      "  [4 5 6]\n",
      "  [7 8 9]]]\n",
      "--------------\n",
      "[[[10 11 12]\n",
      "  [13 14 15]\n",
      "  [16 17 18]]]\n",
      "--------------\n",
      "[[[20 21 22]\n",
      "  [23 24 25]\n",
      "  [26 27 28]]]\n"
     ]
    }
   ],
   "source": [
    "print(A[0:1,:,:])\n",
    "print(\"--------------\")\n",
    "print(A[1:2:,:])\n",
    "print(\"--------------\")\n",
    "print(A[2:3:,:])"
   ]
  },
  {
   "cell_type": "code",
   "execution_count": 51,
   "metadata": {},
   "outputs": [
    {
     "name": "stdout",
     "output_type": "stream",
     "text": [
      "[[[ 1  2  3]\n",
      "  [ 4  5  6]\n",
      "  [ 7  8  9]]\n",
      "\n",
      " [[10 11 12]\n",
      "  [13 14 15]\n",
      "  [16 17 18]]\n",
      "\n",
      " [[20 21 22]\n",
      "  [23 24 25]\n",
      "  [26 27 28]]]\n"
     ]
    }
   ],
   "source": [
    "print(A)"
   ]
  },
  {
   "cell_type": "code",
   "execution_count": 67,
   "metadata": {},
   "outputs": [
    {
     "name": "stdout",
     "output_type": "stream",
     "text": [
      "[[[1 2 3]]]\n",
      "[[[4 5 6]]]\n",
      "[[[7 8 9]]]\n",
      "------------\n",
      "[[[1]]]\n",
      "[[[9]]]\n",
      "[[[5]]]\n",
      "------------\n",
      "[[[10]\n",
      "  [13]\n",
      "  [16]]]\n",
      "[[[11]\n",
      "  [14]\n",
      "  [17]]]\n",
      "[[[12]\n",
      "  [15]\n",
      "  [18]]]\n"
     ]
    }
   ],
   "source": [
    "print(A[0:1,0:1,:])\n",
    "print(A[0:1,1:2,:])\n",
    "print(A[0:1,2:3,:])\n",
    "print(\"------------\")\n",
    "print(A[0:1,0:1,0:1])\n",
    "print(A[0:1,2:3,2:3])\n",
    "print(A[0:1,1:2,1:2])\n",
    "print(\"------------\")\n",
    "print(A[1:2,0:3,0:1])\n",
    "print(A[1:2,0:3,1:2])\n",
    "print(A[1:2,0:3,2:3])"
   ]
  },
  {
   "cell_type": "code",
   "execution_count": 80,
   "metadata": {},
   "outputs": [
    {
     "name": "stdout",
     "output_type": "stream",
     "text": [
      "1\n",
      "2\n",
      "3\n",
      "4\n",
      "6\n",
      "9\n",
      "[[[ 1  2  3]\n",
      "  [ 4  5  6]\n",
      "  [ 7  8  9]]\n",
      "\n",
      " [[10 11 12]\n",
      "  [13 14 15]\n",
      "  [16 17 18]]\n",
      "\n",
      " [[20 21 22]\n",
      "  [23 24 25]\n",
      "  [26 27 28]]]\n",
      "20\n",
      "28\n"
     ]
    }
   ],
   "source": [
    "print(A[0,0,0])\n",
    "print(A[0,0,1])\n",
    "print(A[0,0,2])\n",
    "print(A[0,1,0])\n",
    "print(A[0,1,2])\n",
    "print(A[0,2,2])\n",
    "print(A)\n",
    "print(A[2,0,0])\n",
    "print(A[2,2,2])"
   ]
  },
  {
   "cell_type": "code",
   "execution_count": 87,
   "metadata": {},
   "outputs": [
    {
     "name": "stdout",
     "output_type": "stream",
     "text": [
      "[1 2 3 4]\n",
      "[1 2 2 2]\n",
      "[1 2 3 3]\n",
      "[1 2 2 2]\n"
     ]
    }
   ],
   "source": [
    "import numpy as np\n",
    "A1=np.array([1,2,3,4])\n",
    "print(A1)\n",
    "A1[2:]=2\n",
    "print(A1)\n",
    "A2=A1.copy()\n",
    "A2[2:]=3\n",
    "print(A2)\n",
    "print(A1)"
   ]
  },
  {
   "cell_type": "code",
   "execution_count": 105,
   "metadata": {},
   "outputs": [
    {
     "name": "stdout",
     "output_type": "stream",
     "text": [
      "[ 4  8 12 16 20]\n",
      "[ 2.  4.  6.  8. 10.]\n",
      "[1. 2. 3. 4. 5.]\n",
      "[ 2.  4.  6.  8. 10.]\n",
      "[ True  True False False False]\n",
      "[2. 4.]\n",
      "[0 1 2 3 4 5 6 7 8 9]\n"
     ]
    },
    {
     "ename": "TypeError",
     "evalue": "Cannot interpret '10' as a data type",
     "output_type": "error",
     "traceback": [
      "\u001b[1;31m---------------------------------------------------------------------------\u001b[0m",
      "\u001b[1;31mTypeError\u001b[0m                                 Traceback (most recent call last)",
      "Cell \u001b[1;32mIn[105], line 17\u001b[0m\n\u001b[0;32m     15\u001b[0m A1\u001b[38;5;241m=\u001b[39mnp\u001b[38;5;241m.\u001b[39marray([\u001b[38;5;241m0\u001b[39m,\u001b[38;5;241m1\u001b[39m,\u001b[38;5;241m2\u001b[39m,\u001b[38;5;241m3\u001b[39m,\u001b[38;5;241m4\u001b[39m,\u001b[38;5;241m5\u001b[39m,\u001b[38;5;241m6\u001b[39m,\u001b[38;5;241m7\u001b[39m,\u001b[38;5;241m8\u001b[39m,\u001b[38;5;241m9\u001b[39m])\n\u001b[0;32m     16\u001b[0m \u001b[38;5;28mprint\u001b[39m(A1)\n\u001b[1;32m---> 17\u001b[0m A1\u001b[38;5;241m=\u001b[39m\u001b[43mnp\u001b[49m\u001b[38;5;241;43m.\u001b[39;49m\u001b[43marray\u001b[49m\u001b[43m(\u001b[49m\u001b[38;5;241;43m0\u001b[39;49m\u001b[43m,\u001b[49m\u001b[38;5;241;43m10\u001b[39;49m\u001b[43m)\u001b[49m\u001b[38;5;241m.\u001b[39mreshape(\u001b[38;5;241m2\u001b[39m,\u001b[38;5;241m5\u001b[39m)\n\u001b[0;32m     18\u001b[0m \u001b[38;5;28mprint\u001b[39m(A1)\n",
      "\u001b[1;31mTypeError\u001b[0m: Cannot interpret '10' as a data type"
     ]
    }
   ],
   "source": [
    "A1=np.array([2,4,6,8,10])\n",
    "A1=A1*2\n",
    "print(A1)\n",
    "A1=A1/2\n",
    "print(A1)\n",
    "A1=A1//2\n",
    "print(A1)\n",
    "A1=A1*2\n",
    "print(A1)\n",
    "# A1=A1%2\n",
    "# print(A1)\n",
    "A2=5\n",
    "print(A1<A2)\n",
    "print(A1[A1<5])\n",
    "A1=np.array([0,1,2,3,4,5,6,7,8,9])\n",
    "print(A1)\n",
    "A1=np.array(0,10).reshape(2,5)\n",
    "print(A1)\n",
    "\n"
   ]
  },
  {
   "cell_type": "code",
   "execution_count": 2,
   "metadata": {},
   "outputs": [
    {
     "name": "stdout",
     "output_type": "stream",
     "text": [
      "\n",
      "* \n",
      "* * \n",
      "* * * \n",
      "* * * * \n",
      "* * * * * \n"
     ]
    }
   ],
   "source": [
    "# strat patten \n",
    "n=5\n",
    "for i in range(0,n+1):\n",
    "    for j in range(i):\n",
    "        print(\"*\",end=\" \")\n",
    "    print()"
   ]
  },
  {
   "cell_type": "code",
   "execution_count": 5,
   "metadata": {},
   "outputs": [
    {
     "name": "stdout",
     "output_type": "stream",
     "text": [
      "* * * * * \n",
      "* * * * \n",
      "* * * \n",
      "* * \n",
      "* \n",
      "\n"
     ]
    }
   ],
   "source": [
    "n=5\n",
    "for i in range(0,n+1):\n",
    "    for j in range(n-i):\n",
    "        print(\"*\",end=\" \")\n",
    "    print()"
   ]
  },
  {
   "cell_type": "code",
   "execution_count": 14,
   "metadata": {},
   "outputs": [
    {
     "name": "stdout",
     "output_type": "stream",
     "text": [
      "\n",
      "* \n",
      "* * \n",
      "* * * \n",
      "* * * * \n",
      "* * * * * \n"
     ]
    }
   ],
   "source": [
    "n=5\n",
    "for i in range(0,n+1):\n",
    "    for j in range(i-n):\n",
    "        print()\n",
    "    for j in range(i):\n",
    "        print(\"*\",end=\" \")\n",
    "    print()"
   ]
  },
  {
   "cell_type": "code",
   "execution_count": null,
   "metadata": {},
   "outputs": [],
   "source": [
    "# You have a list of tuples representing students and their scores: students = [('Alice', \n",
    "# 85), ('Bob', 75), ('Charlie', 90)]. Write a Python program to sort the list by scores in \n",
    "# descending order using a lambda function."
   ]
  },
  {
   "cell_type": "code",
   "execution_count": 20,
   "metadata": {},
   "outputs": [
    {
     "name": "stdout",
     "output_type": "stream",
     "text": [
      "[('Charlie', 90), ('Alice', 85), ('Bob', 75)]\n"
     ]
    }
   ],
   "source": [
    "students = [('Bob', 75), ('Charlie', 90),('Alice', 85)]\n",
    "print(sorted(students,key=lambda students:students[1],reverse=True))"
   ]
  },
  {
   "cell_type": "code",
   "execution_count": 25,
   "metadata": {},
   "outputs": [
    {
     "name": "stdout",
     "output_type": "stream",
     "text": [
      "30\n",
      "-10\n"
     ]
    }
   ],
   "source": [
    "a=10\n",
    "b=20\n",
    "add=lambda a,b:a+b\n",
    "print(add(a,b))\n",
    "sub=lambda a,b:a-b\n",
    "print(sub(a,b))"
   ]
  },
  {
   "cell_type": "code",
   "execution_count": 49,
   "metadata": {},
   "outputs": [
    {
     "name": "stdout",
     "output_type": "stream",
     "text": [
      "[('Alice', 85), ('Bob', 75), ('Charlie', 90)]\n",
      "[('Charlie', 90), ('Alice', 85), ('Bob', 75)]\n"
     ]
    }
   ],
   "source": [
    "students = [('Bob', 75), ('Charlie', 90),('Alice', 85)]\n",
    "sot=sorted(students)\n",
    "print(sot)\n",
    "Sot=sorted(students, key=lambda students:students[1],reverse=True)\n",
    "print(Sot)"
   ]
  },
  {
   "cell_type": "code",
   "execution_count": 40,
   "metadata": {},
   "outputs": [
    {
     "name": "stdout",
     "output_type": "stream",
     "text": [
      "[('chethan', 23), ('Sai', 25), ('uday', 31)]\n",
      "[('uday', 31), ('Sai', 25), ('chethan', 23)]\n"
     ]
    }
   ],
   "source": [
    "List=[(\"chethan\",23),(\"Sai\",25),(\"uday\",31)]\n",
    "print(List)\n",
    "Sort=sorted(List,key=lambda List:List[1],reverse=True)\n",
    "print(Sort)"
   ]
  },
  {
   "cell_type": "code",
   "execution_count": 43,
   "metadata": {},
   "outputs": [
    {
     "name": "stdout",
     "output_type": "stream",
     "text": [
      "[('chethan', 23), ('Sai', 25), ('Uday', 31)]\n",
      "[('Uday', 31), ('Sai', 25), ('chethan', 23)]\n"
     ]
    }
   ],
   "source": [
    "List1=[(\"chethan\",23),(\"Sai\",25),(\"Uday\",31)]\n",
    "print(List1)\n",
    "Sot=sorted(List1,key=lambda List1:List1[1],reverse=True)\n",
    "print(Sot)"
   ]
  },
  {
   "cell_type": "code",
   "execution_count": 45,
   "metadata": {},
   "outputs": [
    {
     "name": "stdout",
     "output_type": "stream",
     "text": [
      "30\n",
      "-10\n"
     ]
    }
   ],
   "source": [
    "A=10\n",
    "B=20\n",
    "Add=lambda A,B:A+B\n",
    "print(Add(A,B))\n",
    "Sub=lambda A,B:A-B\n",
    "print(Sub(A,B))"
   ]
  },
  {
   "cell_type": "code",
   "execution_count": 66,
   "metadata": {},
   "outputs": [
    {
     "name": "stdout",
     "output_type": "stream",
     "text": [
      "[('Uday', 31), ('Sai', 25), ('Chethan', 230)]\n",
      "[('Sai', 25), ('Uday', 31), ('Chethan', 230)]\n",
      "[('Chethan', 230), ('Uday', 31), ('Sai', 25)]\n"
     ]
    }
   ],
   "source": [
    "Newlist=[(\"Chethan\",230),(\"Uday\",31),(\"Sai\",25)]\n",
    "# print(Newlist)\n",
    "# print(sorted(Newlist))\n",
    "Bylambda=sorted(Newlist,key=lambda Newlist:Newlist[0],reverse=True)\n",
    "print(Bylambda)\n",
    "Bylambda=sorted(Newlist,key=lambda Newlist:Newlist[1])\n",
    "print(Bylambda)\n",
    "Bylambda=sorted(Newlist,key=lambda Newlist:Newlist[1],reverse=True)\n",
    "print(Bylambda)"
   ]
  },
  {
   "cell_type": "code",
   "execution_count": 52,
   "metadata": {},
   "outputs": [
    {
     "name": "stdout",
     "output_type": "stream",
     "text": [
      "[('Alice', 85), ('Bob', 75), ('Charlie', 90)]\n"
     ]
    }
   ],
   "source": [
    "students = [('Bob', 75), ('Charlie', 90),('Alice', 85)]\n",
    "sot=sorted(students)\n",
    "print(sot)"
   ]
  },
  {
   "cell_type": "code",
   "execution_count": null,
   "metadata": {},
   "outputs": [],
   "source": [
    "#### 2. Write a Python program that creates a 3x3 matrix \n",
    "# (a list of lists) and calculates the sum of all the elements\n",
    "#  in the matrix.\""
   ]
  },
  {
   "cell_type": "code",
   "execution_count": 75,
   "metadata": {},
   "outputs": [
    {
     "name": "stdout",
     "output_type": "stream",
     "text": [
      "[[ 2  4  6]\n",
      " [ 8 10 12]\n",
      " [14 16 18]]\n",
      "_________\n",
      "45\n",
      "45\n"
     ]
    }
   ],
   "source": [
    "import numpy as np\n",
    "Ar=np.array([[1,2,3],\n",
    "            [4,5,6],\n",
    "            [7,8,9]])\n",
    "Ar1=np.array([[1,2,3],\n",
    "            [4,5,6],\n",
    "            [7,8,9]])\n",
    "print(Ar+Ar1)\n",
    "print(\"_________\")\n",
    "print(sum(sum(Ar)))\n",
    "add=sum(sum(i) for i in Ar)\n",
    "print(add)"
   ]
  },
  {
   "cell_type": "code",
   "execution_count": 77,
   "metadata": {},
   "outputs": [],
   "source": [
    "#### 3. Write a Python program that prints the multiplication \n",
    "# table using nested loops.(Table to be printed 14)"
   ]
  },
  {
   "cell_type": "code",
   "execution_count": 85,
   "metadata": {},
   "outputs": [
    {
     "name": "stdout",
     "output_type": "stream",
     "text": [
      "14 * 0 = 0\n",
      "14 * 1 = 14\n",
      "14 * 2 = 28\n",
      "14 * 3 = 42\n",
      "14 * 4 = 56\n",
      "14 * 5 = 70\n",
      "14 * 6 = 84\n",
      "14 * 7 = 98\n",
      "14 * 8 = 112\n",
      "14 * 9 = 126\n",
      "14 * 10 = 140\n"
     ]
    }
   ],
   "source": [
    "num=14\n",
    "for i in range(0,1):\n",
    "    for j in range(0,11):\n",
    "        print(num,\"*\",j,\"=\",num*j)"
   ]
  },
  {
   "cell_type": "code",
   "execution_count": 86,
   "metadata": {},
   "outputs": [],
   "source": [
    "#### 4. If the Milky Way is estimated to contain between 100 \n",
    "# billion and 400 billion stars, how do we calculate the average \n",
    "# number of stars?"
   ]
  },
  {
   "cell_type": "code",
   "execution_count": 87,
   "metadata": {},
   "outputs": [
    {
     "name": "stdout",
     "output_type": "stream",
     "text": [
      "250\n"
     ]
    }
   ],
   "source": [
    "avr=(100+400)//2\n",
    "print(avr)"
   ]
  },
  {
   "cell_type": "code",
   "execution_count": 89,
   "metadata": {},
   "outputs": [],
   "source": [
    "#### 5. Write a Python function is_even(n) that checks if an \n",
    "# integer n is even or odd without using any operators \n",
    "# (e.g., +, -, *, /, %, &, |). The function should return True \n",
    "# if the number is even, and False if it is odd."
   ]
  },
  {
   "cell_type": "code",
   "execution_count": 106,
   "metadata": {},
   "outputs": [
    {
     "name": "stdout",
     "output_type": "stream",
     "text": [
      "False\n"
     ]
    }
   ],
   "source": [
    "num=7\n",
    "st=str(num)\n",
    "if st[-1] in '02468':\n",
    "    print(True)\n",
    "else:\n",
    "    print(False)"
   ]
  },
  {
   "cell_type": "code",
   "execution_count": 113,
   "metadata": {},
   "outputs": [
    {
     "data": {
      "text/plain": [
       "True"
      ]
     },
     "execution_count": 113,
     "metadata": {},
     "output_type": "execute_result"
    }
   ],
   "source": [
    "def even_ro_not(num):\n",
    "    st=str(num)\n",
    "    return st[-1]in '02468'\n",
    "Num=22\n",
    "even_ro_not(Num)"
   ]
  },
  {
   "cell_type": "code",
   "execution_count": 124,
   "metadata": {},
   "outputs": [
    {
     "name": "stdout",
     "output_type": "stream",
     "text": [
      "True\n",
      "False\n"
     ]
    }
   ],
   "source": [
    "def even(N):\n",
    "    String=str(N)\n",
    "    return String[-1] in '02468'\n",
    "Num=10\n",
    "print(even(Num))\n",
    "Num1=11\n",
    "print(even(Num1))"
   ]
  },
  {
   "cell_type": "code",
   "execution_count": 125,
   "metadata": {},
   "outputs": [
    {
     "data": {
      "text/plain": [
       "False"
      ]
     },
     "execution_count": 125,
     "metadata": {},
     "output_type": "execute_result"
    }
   ],
   "source": [
    "def Vol(txt):\n",
    "    return txt in \"aeiou\"\n",
    "T1=\"Chethan\"\n",
    "Vol(T1)"
   ]
  },
  {
   "cell_type": "code",
   "execution_count": 127,
   "metadata": {},
   "outputs": [
    {
     "name": "stdout",
     "output_type": "stream",
     "text": [
      "no\n"
     ]
    }
   ],
   "source": [
    "T1=\"Chethan\"\n",
    "if T1 in 'a' or T1 in 'e' or T1 in 'i' or T1 in 'o' or T1 in 'u':\n",
    "    print(\"yes\")\n",
    "else:\n",
    "    print(\"no\")\n"
   ]
  },
  {
   "cell_type": "code",
   "execution_count": 130,
   "metadata": {},
   "outputs": [
    {
     "name": "stdout",
     "output_type": "stream",
     "text": [
      "no Vowels\n"
     ]
    }
   ],
   "source": [
    "T1 = \"chethan\"\n",
    "Vol=\"aeiou\"\n",
    "if T1 in Vol:\n",
    "    print(\"Vowels\")\n",
    "else:\n",
    "    print(\"no Vowels\")\n",
    "    "
   ]
  },
  {
   "cell_type": "code",
   "execution_count": 136,
   "metadata": {},
   "outputs": [
    {
     "name": "stdout",
     "output_type": "stream",
     "text": [
      "No Vowels\n"
     ]
    }
   ],
   "source": [
    "T1=\"jd\"\n",
    "Vol=\"aeiou\"\n",
    "if any(char in Vol for char in T1):\n",
    "    print(\"Vowels\")\n",
    "else:\n",
    "    print(\"No Vowels\")"
   ]
  },
  {
   "cell_type": "code",
   "execution_count": 138,
   "metadata": {},
   "outputs": [
    {
     "name": "stdout",
     "output_type": "stream",
     "text": [
      "No Vowels\n"
     ]
    }
   ],
   "source": [
    "T=\"rr\"\n",
    "if any(char in \"aeiou\" for char in T):\n",
    "    print(\"Vowels\")\n",
    "else:\n",
    "    print(\"No Vowels\")"
   ]
  },
  {
   "cell_type": "code",
   "execution_count": 143,
   "metadata": {},
   "outputs": [
    {
     "name": "stdout",
     "output_type": "stream",
     "text": [
      "True\n",
      "False\n"
     ]
    }
   ],
   "source": [
    "def Vol(txt):\n",
    "    return any(char in \"aeiou\" for char in txt)\n",
    "print(Vol(\"chethan\"))\n",
    "print(Vol(\"ww\"))"
   ]
  },
  {
   "cell_type": "code",
   "execution_count": 147,
   "metadata": {},
   "outputs": [
    {
     "name": "stdout",
     "output_type": "stream",
     "text": [
      "2\n",
      "['e', 'a']\n"
     ]
    }
   ],
   "source": [
    "T=\"chethan\"\n",
    "Count=0\n",
    "Vol=[]\n",
    "for i in T:\n",
    "    if any(char in \"aeoiu\" for char in i):\n",
    "        Count+=1\n",
    "        Vol.append(i)\n",
    "print(Count)\n",
    "print(Vol)\n"
   ]
  },
  {
   "cell_type": "code",
   "execution_count": 151,
   "metadata": {},
   "outputs": [
    {
     "name": "stdout",
     "output_type": "stream",
     "text": [
      "['e', 'a']\n",
      "2\n"
     ]
    }
   ],
   "source": [
    "def Vowels(txt):\n",
    "    T=txt.lower()\n",
    "    Vol=[]\n",
    "    count=0\n",
    "    for i in T:\n",
    "        if any(char in \"aeiou\" for char in i):\n",
    "            count+=1\n",
    "            Vol.append(i)\n",
    "    print(Vol)\n",
    "    print(count)\n",
    "\n",
    "T=\"CHEthan\"\n",
    "Vowels(T)"
   ]
  },
  {
   "cell_type": "code",
   "execution_count": 1,
   "metadata": {},
   "outputs": [],
   "source": [
    "#### 1. Create a class called Shape that includes methods to \n",
    "# calculate the area and perimeter of a rectangle and a circle. \n",
    "# Implement a method to display the results for a given shape based\n",
    "#  on user input.\n"
   ]
  },
  {
   "cell_type": "code",
   "execution_count": 2,
   "metadata": {},
   "outputs": [
    {
     "name": "stdout",
     "output_type": "stream",
     "text": [
      "22\n"
     ]
    }
   ],
   "source": [
    "class Shape:\n",
    "    def __init__(self,l,b,r):\n",
    "        self.l=l\n",
    "        self.b=b\n",
    "        self.r=r  \n",
    "    def calculate(self):\n",
    "        self.per_rec=2*(self.l+self.b)\n",
    "        self.area_rec=self.l+self.b\n",
    "        self.per_cir=2*(3.14*self.r)\n",
    "        self.area_cir=3.14*(self.r**2)\n",
    "    def dis(self):\n",
    "        print(self.per_rec)  \n",
    "obj=Shape(4,7,5)\n",
    "obj.calculate()\n",
    "obj.dis()"
   ]
  },
  {
   "cell_type": "code",
   "execution_count": 7,
   "metadata": {},
   "outputs": [
    {
     "name": "stdout",
     "output_type": "stream",
     "text": [
      "<class 'int'>\n",
      "<class '__main__.computer'>\n",
      "i7 1tb 16gb ram\n"
     ]
    }
   ],
   "source": [
    "class computer:\n",
    "    def data(self):\n",
    "        print(\"i7\",\"1tb\",\"16gb ram\")\n",
    "\n",
    "A=10\n",
    "print(type(A))\n",
    "Com1=computer()\n",
    "print(type(Com1))\n",
    "computer.data(Com1)"
   ]
  },
  {
   "cell_type": "markdown",
   "metadata": {},
   "source": [
    "#### Class"
   ]
  },
  {
   "cell_type": "code",
   "execution_count": 10,
   "metadata": {},
   "outputs": [
    {
     "name": "stdout",
     "output_type": "stream",
     "text": [
      "<__main__.Employee object at 0x00000205186FFE00>\n",
      "<__main__.Employee object at 0x0000020518941940>\n",
      "chethankumar@compant.com\n",
      "saikiran@compant.com\n"
     ]
    }
   ],
   "source": [
    "class Employee:\n",
    "    passemp_1=Employee()\n",
    "emp_2=Employee()\n",
    "\n",
    "print(emp_1)\n",
    "print(emp_2)\n",
    "\n",
    "emp_1.first=\"Chethan\"\n",
    "emp_1.last=\"kumar\"\n",
    "emp_1.email=\"chethankumar@compant.com\"\n",
    "emp_1.pay=70000\n",
    "\n",
    "emp_2.first=\"Sai\"\n",
    "emp_2.last=\"kiran\"\n",
    "emp_2.email=\"saikiran@compant.com\"\n",
    "emp_2.pay=70000\n",
    "\n",
    "print(emp_1.email)\n",
    "print(emp_2.email)\n",
    "\n",
    "\n"
   ]
  },
  {
   "cell_type": "code",
   "execution_count": 19,
   "metadata": {},
   "outputs": [
    {
     "name": "stdout",
     "output_type": "stream",
     "text": [
      "Chethankumar@company.com\n",
      "Saikiran@company.com\n",
      "Chethan kumar\n"
     ]
    }
   ],
   "source": [
    "class employee:\n",
    "    def __init__(self,f,l,p):\n",
    "        self.f=f\n",
    "        self.l=l\n",
    "        self.e=f+l+\"@company.com\"\n",
    "        self.p=p\n",
    "emp1=employee(\"Chethan\",\"kumar\",70000)\n",
    "emp2=employee(\"Sai\",\"kiran\",90000)\n",
    "\n",
    "print(emp1.e)\n",
    "print(emp2.e)\n",
    "print(emp1.f,emp1.l)\n",
    "\n"
   ]
  },
  {
   "cell_type": "code",
   "execution_count": 22,
   "metadata": {},
   "outputs": [
    {
     "name": "stdout",
     "output_type": "stream",
     "text": [
      "Chethankumar@company.com\n",
      "Saikiran@company.com\n",
      "Chethankumar\n"
     ]
    }
   ],
   "source": [
    "class employee:\n",
    "    def __init__(self,f,l,p):\n",
    "        self.f=f\n",
    "        self.l=l\n",
    "        self.e=f+l+\"@company.com\"\n",
    "        self.p=p\n",
    "    def fullname(self):\n",
    "        return self.f+self.l\n",
    "emp1=employee(\"Chethan\",\"kumar\",70000)\n",
    "emp2=employee(\"Sai\",\"kiran\",90000)\n",
    "\n",
    "print(emp1.e)\n",
    "print(emp2.e)\n",
    "print(emp1.fullname())\n",
    "\n"
   ]
  },
  {
   "cell_type": "code",
   "execution_count": 23,
   "metadata": {},
   "outputs": [
    {
     "name": "stdout",
     "output_type": "stream",
     "text": [
      "Chethankumar@company.com\n",
      "Saikiran@company.com\n"
     ]
    }
   ],
   "source": [
    "class employee:\n",
    "    def __init__(self,f,l,p):\n",
    "        self.f=f\n",
    "        self.l=l\n",
    "        self.e=f+l+\"@company.com\"\n",
    "        self.p=p\n",
    "    def fullname():\n",
    "        return self.f+self.l\n",
    "emp1=employee(\"Chethan\",\"kumar\",70000)\n",
    "emp2=employee(\"Sai\",\"kiran\",90000)\n",
    "\n",
    "print(emp1.e)\n",
    "print(emp2.e)\n",
    "# print(emp1.fullname())\n",
    "\n"
   ]
  },
  {
   "cell_type": "code",
   "execution_count": null,
   "metadata": {},
   "outputs": [
    {
     "name": "stdout",
     "output_type": "stream",
     "text": [
      "Chethankumar@company.com\n",
      "Saikiran@company.com\n"
     ]
    },
    {
     "ename": "TypeError",
     "evalue": "employee.fullname() takes 0 positional arguments but 1 was given",
     "output_type": "error",
     "traceback": [
      "\u001b[1;31m---------------------------------------------------------------------------\u001b[0m",
      "\u001b[1;31mTypeError\u001b[0m                                 Traceback (most recent call last)",
      "Cell \u001b[1;32mIn[24], line 14\u001b[0m\n\u001b[0;32m     12\u001b[0m \u001b[38;5;28mprint\u001b[39m(emp1\u001b[38;5;241m.\u001b[39me)\n\u001b[0;32m     13\u001b[0m \u001b[38;5;28mprint\u001b[39m(emp2\u001b[38;5;241m.\u001b[39me)\n\u001b[1;32m---> 14\u001b[0m \u001b[38;5;28mprint\u001b[39m(\u001b[43memp1\u001b[49m\u001b[38;5;241;43m.\u001b[39;49m\u001b[43mfullname\u001b[49m\u001b[43m(\u001b[49m\u001b[43m)\u001b[49m)\n",
      "\u001b[1;31mTypeError\u001b[0m: employee.fullname() takes 0 positional arguments but 1 was given"
     ]
    }
   ],
   "source": [
    "class employee:\n",
    "    def __init__(self,f,l,p):\n",
    "        self.f=f\n",
    "        self.l=l\n",
    "        self.e=f+l+\"@company.com\"\n",
    "        self.p=p\n",
    "    def fullname():  # in this we did not passing any parameters to it, if use self the contructer will pass the values by its self \n",
    "        return self.f+self.l\n",
    "emp1=employee(\"Chethan\",\"kumar\",70000)\n",
    "emp2=employee(\"Sai\",\"kiran\",90000)\n",
    "\n",
    "print(emp1.e)\n",
    "print(emp2.e)\n",
    "print(emp1.fullname()) # we have't pass any values are argumments  \n",
    "\n"
   ]
  },
  {
   "cell_type": "code",
   "execution_count": null,
   "metadata": {},
   "outputs": [
    {
     "name": "stdout",
     "output_type": "stream",
     "text": [
      "Chethankumar@company.com\n",
      "Saikiran@company.com\n",
      "Chethankumar\n"
     ]
    }
   ],
   "source": [
    "class employee:\n",
    "    def __init__(cls,f,l,p):\n",
    "        cls.f=f\n",
    "        self.l=l\n",
    "        self.e=f+l+\"@company.com\"\n",
    "        self.p=p\n",
    "    def fullname(f,l):  \n",
    "        return f+l\n",
    "emp1=employee(\"Chethan\",\"kumar\",70000)\n",
    "emp2=employee(\"Sai\",\"kiran\",90000)\n",
    "\n",
    "print(emp1.e)\n",
    "print(emp2.e)\n",
    "print(employee.fullname(\"Chethan\",\"kumar\"))\n",
    "\n"
   ]
  },
  {
   "cell_type": "code",
   "execution_count": 41,
   "metadata": {},
   "outputs": [
    {
     "name": "stdout",
     "output_type": "stream",
     "text": [
      "Chethan kumar\n",
      "Sai kiran\n"
     ]
    }
   ],
   "source": [
    "class employee:\n",
    "    \n",
    "    def fullname(f, l):  \n",
    "        return f + \" \" + l\n",
    "\n",
    "# Calling the static method without an instance\n",
    "print(employee.fullname(\"Chethan\", \"kumar\"))\n",
    "print(employee.fullname(\"Sai\", \"kiran\"))\n"
   ]
  },
  {
   "cell_type": "code",
   "execution_count": 133,
   "metadata": {},
   "outputs": [
    {
     "name": "stdout",
     "output_type": "stream",
     "text": [
      "* \n",
      "* * \n",
      "* * * \n",
      "* * * * \n",
      "* * * * * \n"
     ]
    }
   ],
   "source": [
    "n=5\n",
    "for i in range(n):\n",
    "    for j in range(i+1):\n",
    "        print(\"*\",end=\" \")\n",
    "    print()"
   ]
  },
  {
   "cell_type": "code",
   "execution_count": 138,
   "metadata": {},
   "outputs": [
    {
     "name": "stdout",
     "output_type": "stream",
     "text": [
      "* * * * * \n",
      "* * * * \n",
      "* * * \n",
      "* * \n",
      "* \n"
     ]
    }
   ],
   "source": [
    "n=5\n",
    "for i in range(n):\n",
    "    for j in range(n-i):\n",
    "        print(\"*\",end=\" \")\n",
    "    print()"
   ]
  },
  {
   "cell_type": "code",
   "execution_count": 147,
   "metadata": {},
   "outputs": [
    {
     "name": "stdout",
     "output_type": "stream",
     "text": [
      "     * \n",
      "    * * \n",
      "   * * * \n",
      "  * * * * \n",
      " * * * * * \n"
     ]
    }
   ],
   "source": [
    "n=5\n",
    "for i in range(n):\n",
    "    for j in range(n-i):\n",
    "        print(\"\",end=\" \")\n",
    "    for j in range(i+1):\n",
    "        print(\"*\",end=\" \")\n",
    "    print(\"\")"
   ]
  },
  {
   "cell_type": "code",
   "execution_count": 151,
   "metadata": {},
   "outputs": [
    {
     "name": "stdout",
     "output_type": "stream",
     "text": [
      " * * * * * \n",
      "  * * * * \n",
      "   * * * \n",
      "    * * \n",
      "     * \n"
     ]
    }
   ],
   "source": [
    "n=5\n",
    "for i in range(n):\n",
    "    for j in range(i+1):\n",
    "        print(\"\",end=\" \")\n",
    "    for j in range(n-i):\n",
    "        print(\"*\",end=\" \")\n",
    "    print()"
   ]
  },
  {
   "cell_type": "code",
   "execution_count": 162,
   "metadata": {},
   "outputs": [
    {
     "name": "stdout",
     "output_type": "stream",
     "text": [
      "     * \n",
      "    * * \n",
      "   * * * \n",
      "  * * * * \n",
      " * * * * * \n",
      "  * * * * \n",
      "   * * * \n",
      "    * * \n",
      "     * \n"
     ]
    }
   ],
   "source": [
    "n=5\n",
    "for i in range(n-1):\n",
    "    for j in range(n-i):\n",
    "        print(\"\",end=\" \")\n",
    "    for j in range(i+1):\n",
    "        print(\"*\",end=\" \")\n",
    "    print(\"\")\n",
    "for i in range(n):\n",
    "    for j in range(i+1):\n",
    "        print(\"\",end=\" \")\n",
    "    for j in range(n-i):\n",
    "        print(\"*\",end=\" \")\n",
    "    print()"
   ]
  },
  {
   "cell_type": "code",
   "execution_count": 197,
   "metadata": {},
   "outputs": [
    {
     "name": "stdout",
     "output_type": "stream",
     "text": [
      "     * \n",
      " * * * * * \n",
      "    * * \n",
      "  * * * * \n",
      "   * * * \n",
      "   * * * \n",
      "  * * * * \n",
      "    * * \n",
      " * * * * * \n",
      "     * \n"
     ]
    }
   ],
   "source": [
    "n=5\n",
    "for i in range(n):\n",
    "    for j in range(n-i):\n",
    "        print(\"\",end=\" \")\n",
    "    for j in range(i+1):\n",
    "        print(\"*\",end=\" \")\n",
    "    print()\n",
    "    for j in range(i+1):\n",
    "        print(\"\",end=\" \")\n",
    "    for j in range(n-i):\n",
    "        print(\"*\",end=\" \")\n",
    "    print()"
   ]
  },
  {
   "cell_type": "code",
   "execution_count": 170,
   "metadata": {},
   "outputs": [
    {
     "name": "stdout",
     "output_type": "stream",
     "text": [
      "          *   \n",
      "        *   *   \n",
      "      *   *   *   \n",
      "    *   *   *   *   \n",
      "  *   *   *   *   *   \n"
     ]
    }
   ],
   "source": [
    "n=5\n",
    "for i in range(n):\n",
    "    for j in range(n-i):\n",
    "        print(\" \",end=\" \")\n",
    "    for j in range(i+1):\n",
    "        print(\"*  \",end=\" \")\n",
    "    print()"
   ]
  },
  {
   "cell_type": "code",
   "execution_count": 178,
   "metadata": {},
   "outputs": [
    {
     "name": "stdout",
     "output_type": "stream",
     "text": [
      "  *   *   *   *   *   \n",
      "    *   *   *   *   \n",
      "      *   *   *   \n",
      "        *   *   \n",
      "          *   \n"
     ]
    }
   ],
   "source": [
    "n=5\n",
    "for i in range(n):\n",
    "    for j in range(i+1):\n",
    "        print(\" \",end=\" \")\n",
    "    for j in range(n-i):\n",
    "        print(\"*  \",end=\" \")\n",
    "    print()"
   ]
  },
  {
   "cell_type": "code",
   "execution_count": 180,
   "metadata": {},
   "outputs": [
    {
     "name": "stdout",
     "output_type": "stream",
     "text": [
      "          *   \n",
      "        *   *   \n",
      "      *   *   *   \n",
      "    *   *   *   *   \n",
      "  *   *   *   *   *   \n",
      "    *   *   *   *   \n",
      "      *   *   *   \n",
      "        *   *   \n",
      "          *   \n"
     ]
    }
   ],
   "source": [
    "n=5\n",
    "for i in range(n-1):\n",
    "    for j in range(n-i):\n",
    "        print(\" \",end=\" \")\n",
    "    for j in range(i+1):\n",
    "        print(\"*  \",end=\" \")\n",
    "    print()\n",
    "for i in range(n):\n",
    "    for j in range(i+1):\n",
    "        print(\" \",end=\" \")\n",
    "    for j in range(n-i):\n",
    "        print(\"*  \",end=\" \")\n",
    "    print()"
   ]
  },
  {
   "cell_type": "code",
   "execution_count": null,
   "metadata": {},
   "outputs": [],
   "source": []
  },
  {
   "cell_type": "markdown",
   "metadata": {},
   "source": [
    "#### 1. Create a class called Shape that includes methods to calculate the area and perimeter of a rectangle and a circle. Implement a method to display the results for a given shape based on user input.\n"
   ]
  },
  {
   "cell_type": "code",
   "execution_count": 46,
   "metadata": {},
   "outputs": [
    {
     "ename": "TypeError",
     "evalue": "shape.cal() takes 3 positional arguments but 4 were given",
     "output_type": "error",
     "traceback": [
      "\u001b[1;31m---------------------------------------------------------------------------\u001b[0m",
      "\u001b[1;31mTypeError\u001b[0m                                 Traceback (most recent call last)",
      "Cell \u001b[1;32mIn[46], line 10\u001b[0m\n\u001b[0;32m      7\u001b[0m \u001b[38;5;66;03m# shape.cal()\u001b[39;00m\n\u001b[0;32m      9\u001b[0m obj\u001b[38;5;241m=\u001b[39mshape()\n\u001b[1;32m---> 10\u001b[0m \u001b[43mobj\u001b[49m\u001b[38;5;241;43m.\u001b[39;49m\u001b[43mcal\u001b[49m\u001b[43m(\u001b[49m\u001b[38;5;241;43m5\u001b[39;49m\u001b[43m,\u001b[49m\u001b[38;5;241;43m6\u001b[39;49m\u001b[43m,\u001b[49m\u001b[38;5;241;43m2\u001b[39;49m\u001b[43m)\u001b[49m\n",
      "\u001b[1;31mTypeError\u001b[0m: shape.cal() takes 3 positional arguments but 4 were given"
     ]
    }
   ],
   "source": [
    "class shape:\n",
    "    def cal(l,b,r):\n",
    "        print(f\"perimeter of rectangle: {2*(l+b)}\")\n",
    "        print(f\"are of rectangle : {(l+b)}\")\n",
    "        print(f\"perimeter of circle :{2+3.14*r}\")\n",
    "        print(f\"area of circle : {3.14*(r**2)}\")\n",
    "# shape.cal()\n",
    "\n",
    "obj=shape()\n",
    "obj.cal(5,6,2)"
   ]
  },
  {
   "cell_type": "code",
   "execution_count": 49,
   "metadata": {},
   "outputs": [
    {
     "data": {
      "text/plain": [
       "True"
      ]
     },
     "execution_count": 49,
     "metadata": {},
     "output_type": "execute_result"
    }
   ],
   "source": [
    "# even odd\n",
    "def Even_odd(n):\n",
    "    return n%2==0 \n",
    "Even_odd(8)"
   ]
  },
  {
   "cell_type": "code",
   "execution_count": null,
   "metadata": {},
   "outputs": [],
   "source": [
    "def ev_od(Num):\n",
    "    even=[]\n",
    "    odd=[]\n",
    "    for i in range(0,Num+1):\n",
    "        if i%2==0:\n",
    "            even.append(i)\n",
    "        else:\n",
    "            odd.append(i)\n",
    "    print(even)\n",
    "    print(odd)\n",
    "\n",
    "Num=int(input())\n",
    "ev_od(Num)\n",
    "\n"
   ]
  },
  {
   "cell_type": "code",
   "execution_count": 3,
   "metadata": {},
   "outputs": [
    {
     "name": "stdout",
     "output_type": "stream",
     "text": [
      "<class 'str'>\n",
      "Even numbers: [0, 2, 4, 6, 8]\n",
      "Odd numbers: [1, 3, 5, 7]\n"
     ]
    }
   ],
   "source": [
    "def ev_od(num):\n",
    "    even = []\n",
    "    odd = []\n",
    "    for i in range(len(num)):\n",
    "        if i % 2 == 0:\n",
    "            even.append(i)\n",
    "        else:\n",
    "            odd.append(i)\n",
    "    print(\"Even numbers:\", even)\n",
    "    print(\"Odd numbers:\", odd)\n",
    "\n",
    "num = input(\"Enter a number: \")\n",
    "print(type(num))\n",
    "ev_od(num)\n"
   ]
  },
  {
   "cell_type": "code",
   "execution_count": 34,
   "metadata": {},
   "outputs": [
    {
     "name": "stdout",
     "output_type": "stream",
     "text": [
      "0 1 1 2 3 5 8 13 21 34 55 89 "
     ]
    }
   ],
   "source": [
    "# first 20 odd numbers of fibonacci\n",
    "num=10\n",
    "i,j=0,1\n",
    "count=0\n",
    "print(0,1,end=\" \")\n",
    "for k in range(0,num):\n",
    "    count=i+j\n",
    "    print(count,end=\" \")\n",
    "    i=j\n",
    "    j=count\n"
   ]
  },
  {
   "cell_type": "code",
   "execution_count": 49,
   "metadata": {},
   "outputs": [
    {
     "name": "stdout",
     "output_type": "stream",
     "text": [
      "Fibonacci sequence:\n",
      "0 1 "
     ]
    }
   ],
   "source": [
    "# Fibonacci Sequence\n",
    "\n",
    "num = 2\n",
    "i = 0\n",
    "j = 1\n",
    "\n",
    "# Check if the number of terms is valid\n",
    "if num <= 0:\n",
    "    print(\"Please enter a positive integer\")\n",
    "elif num == 1:\n",
    "    print(\"Fibonacci sequence up to\", num, \":\")\n",
    "    print(i)\n",
    "else:\n",
    "    print(\"Fibonacci sequence:\")\n",
    "    for _ in range(num):\n",
    "        print(i, end=\" \")\n",
    "        count = i + j\n",
    "        i = j\n",
    "        j = count\n"
   ]
  },
  {
   "cell_type": "code",
   "execution_count": 47,
   "metadata": {},
   "outputs": [
    {
     "name": "stdout",
     "output_type": "stream",
     "text": [
      "0 1 1 2 "
     ]
    }
   ],
   "source": [
    "# fibonacci\n",
    "\n",
    "# 011235813\n",
    "\n",
    "num=4\n",
    "i=0\n",
    "j=1\n",
    "\n",
    "if num<=1:\n",
    "    print(0,1)\n",
    "if num>=2:\n",
    "    for k in range(num):\n",
    "            print(i,end=\" \")\n",
    "            count=i+j\n",
    "            i=j\n",
    "            j=count\n",
    "\n"
   ]
  },
  {
   "cell_type": "code",
   "execution_count": 51,
   "metadata": {},
   "outputs": [
    {
     "name": "stdout",
     "output_type": "stream",
     "text": [
      "0 1 1 2 3 5 8 13 21 34 "
     ]
    }
   ],
   "source": [
    "# fibonacci\n",
    "def fib(num):\n",
    "    i=0\n",
    "    j=1\n",
    "    if num<=0:\n",
    "        return \"enter ve + number\"\n",
    "    elif num==1:\n",
    "        return num\n",
    "    else:\n",
    "        for k in range(num):\n",
    "            print(i,end=\" \")\n",
    "            count=i+j\n",
    "            i=j\n",
    "            j=count\n",
    "fib(10)"
   ]
  },
  {
   "cell_type": "code",
   "execution_count": 60,
   "metadata": {},
   "outputs": [
    {
     "name": "stdout",
     "output_type": "stream",
     "text": [
      "m \n",
      "m u \n",
      "m u s \n",
      "m u s i \n",
      "m u s i g \n",
      "m u s i g m \n",
      "m u s i g m a \n"
     ]
    }
   ],
   "source": [
    "String=\"musigma\"\n",
    "for i in range(len(String)):\n",
    "    for j in range(i+1):\n",
    "        print(String[j],end=\" \")\n",
    "    print()\n",
    "\n"
   ]
  },
  {
   "cell_type": "code",
   "execution_count": 75,
   "metadata": {},
   "outputs": [
    {
     "name": "stdout",
     "output_type": "stream",
     "text": [
      "* * * * * \n",
      "* * * * * \n",
      "* * * * * \n",
      "* * * * * \n",
      "* * * * * \n"
     ]
    }
   ],
   "source": [
    "num=5\n",
    "for i in range(num):\n",
    "    for j in range(n):\n",
    "        print(\"*\",end=\" \")\n",
    "    print(\"\")"
   ]
  },
  {
   "cell_type": "code",
   "execution_count": 121,
   "metadata": {},
   "outputs": [
    {
     "name": "stdout",
     "output_type": "stream",
     "text": [
      "* \n",
      "* * \n",
      "* * * \n",
      "* * * * \n",
      "* * * * * \n"
     ]
    }
   ],
   "source": [
    "num=5\n",
    "for i in range(num):\n",
    "    for j in range(i+1):\n",
    "        print(\"*\",end=\" \")\n",
    "    print(\"\")"
   ]
  },
  {
   "cell_type": "code",
   "execution_count": 124,
   "metadata": {},
   "outputs": [
    {
     "name": "stdout",
     "output_type": "stream",
     "text": [
      "* * * * * \n",
      "* * * * \n",
      "* * * \n",
      "* * \n",
      "* \n"
     ]
    }
   ],
   "source": [
    "n=5\n",
    "for i in range(n):\n",
    "    for j in range(i,num):\n",
    "        print(\"*\",end=\" \")\n",
    "    print()"
   ]
  },
  {
   "cell_type": "code",
   "execution_count": 131,
   "metadata": {},
   "outputs": [
    {
     "name": "stdout",
     "output_type": "stream",
     "text": [
      "     * \n",
      "    * * \n",
      "   * * * \n",
      "  * * * * \n",
      " * * * * * \n"
     ]
    }
   ],
   "source": [
    "num=5\n",
    "for i in range(num):\n",
    "    for j in range(i,num):\n",
    "        print(\"\",end=\" \")\n",
    "    for j in range(i+1):\n",
    "        print(\"*\",end=\" \")\n",
    "    print(\"\")"
   ]
  },
  {
   "cell_type": "code",
   "execution_count": 129,
   "metadata": {},
   "outputs": [
    {
     "name": "stdout",
     "output_type": "stream",
     "text": [
      " * * * * * \n",
      "  * * * * \n",
      "   * * * \n",
      "    * * \n",
      "     * \n"
     ]
    }
   ],
   "source": [
    "n=5\n",
    "for i in range(n):\n",
    "    for j in range(i+1):\n",
    "        print(\"\",end=\" \")\n",
    "    for j in range(i,num):\n",
    "        print(\"*\",end=\" \")\n",
    "    print()"
   ]
  },
  {
   "cell_type": "code",
   "execution_count": 209,
   "metadata": {},
   "outputs": [
    {
     "name": "stdout",
     "output_type": "stream",
     "text": [
      "     * \n",
      " * * * * * \n",
      "    * * \n",
      "  * * * * \n",
      "   * * * \n",
      "   * * * \n",
      "  * * * * \n",
      "    * * \n",
      " * * * * * \n",
      "     * \n"
     ]
    }
   ],
   "source": [
    "num=5\n",
    "for i in range(num):\n",
    "    for j in range(i,num):\n",
    "        print(\"\",end=\" \")\n",
    "    for j in range(i+1):\n",
    "        print(\"*\",end=\" \")\n",
    "    print(\"\")\n",
    "    for j in range(i+1):\n",
    "        print(\"\",end=\" \")\n",
    "    for j in range(i,num):\n",
    "        print(\"*\",end=\" \")\n",
    "    print()\n"
   ]
  },
  {
   "cell_type": "code",
   "execution_count": 210,
   "metadata": {},
   "outputs": [
    {
     "name": "stdout",
     "output_type": "stream",
     "text": [
      "          *   \n",
      "        *   *   \n",
      "      *   *   *   \n",
      "    *   *   *   *   \n",
      "  *   *   *   *   *   \n"
     ]
    }
   ],
   "source": [
    "num=5\n",
    "for i in range(num):\n",
    "    for j in range(i,num):\n",
    "        print(\" \",end=\" \")\n",
    "    for j in range(i+1):\n",
    "        print(\"*  \",end=\" \")\n",
    "    print(\"\")"
   ]
  },
  {
   "cell_type": "code",
   "execution_count": 212,
   "metadata": {},
   "outputs": [
    {
     "name": "stdout",
     "output_type": "stream",
     "text": [
      "  *   *   *   *   *   \n",
      "    *   *   *   *   \n",
      "      *   *   *   \n",
      "        *   *   \n",
      "          *   \n"
     ]
    }
   ],
   "source": [
    "n=5\n",
    "for i in range(n):\n",
    "    for j in range(i+1):\n",
    "        print(\" \",end=\" \")\n",
    "    for j in range(i,num):\n",
    "        print(\"*  \",end=\" \")\n",
    "    print()"
   ]
  },
  {
   "cell_type": "code",
   "execution_count": 216,
   "metadata": {},
   "outputs": [
    {
     "name": "stdout",
     "output_type": "stream",
     "text": [
      "          *   \n",
      "        *   *   \n",
      "      *   *   *   \n",
      "    *   *   *   *   \n",
      "  *   *   *   *   *   \n",
      "    *   *   *   *   \n",
      "      *   *   *   \n",
      "        *   *   \n",
      "          *   \n"
     ]
    }
   ],
   "source": [
    "num=5\n",
    "for i in range(num-1):\n",
    "    for j in range(i,num):\n",
    "        print(\" \",end=\" \")\n",
    "    for j in range(i+1):\n",
    "        print(\"*  \",end=\" \")\n",
    "    print(\"\")\n",
    "for i in range(n):\n",
    "    for j in range(i+1):\n",
    "        print(\" \",end=\" \")\n",
    "    for j in range(i,num):\n",
    "        print(\"*  \",end=\" \")\n",
    "    print()"
   ]
  },
  {
   "cell_type": "code",
   "execution_count": 219,
   "metadata": {},
   "outputs": [
    {
     "name": "stdout",
     "output_type": "stream",
     "text": [
      "0 \n",
      "1 1 \n",
      "2 2 2 \n",
      "3 3 3 3 \n",
      "4 4 4 4 4 \n"
     ]
    }
   ],
   "source": [
    "n=5\n",
    "for i in range(n):\n",
    "    for j in range(i+1):\n",
    "        print(i,end=\" \")\n",
    "    print()"
   ]
  },
  {
   "cell_type": "code",
   "execution_count": 220,
   "metadata": {},
   "outputs": [
    {
     "name": "stdout",
     "output_type": "stream",
     "text": [
      "0 \n",
      "0 1 \n",
      "0 1 2 \n",
      "0 1 2 3 \n",
      "0 1 2 3 4 \n"
     ]
    }
   ],
   "source": [
    "n=5\n",
    "for i in range(n):\n",
    "    for j in range(i+1):\n",
    "        print(j,end=\" \")\n",
    "    print()"
   ]
  },
  {
   "cell_type": "code",
   "execution_count": 221,
   "metadata": {},
   "outputs": [
    {
     "name": "stdout",
     "output_type": "stream",
     "text": [
      "0 0 0 0 0 \n",
      "1 1 1 1 \n",
      "2 2 2 \n",
      "3 3 \n",
      "4 \n"
     ]
    }
   ],
   "source": [
    "n=5\n",
    "for i in range(n):\n",
    "    for j in range(n-i):\n",
    "        print(i,end=\" \")\n",
    "    print()"
   ]
  },
  {
   "cell_type": "code",
   "execution_count": 222,
   "metadata": {},
   "outputs": [
    {
     "name": "stdout",
     "output_type": "stream",
     "text": [
      "0 1 2 3 4 \n",
      "0 1 2 3 \n",
      "0 1 2 \n",
      "0 1 \n",
      "0 \n"
     ]
    }
   ],
   "source": [
    "n=5\n",
    "for i in range(n):\n",
    "    for j in range(n-i):\n",
    "        print(j,end=\" \")\n",
    "    print()"
   ]
  },
  {
   "cell_type": "code",
   "execution_count": null,
   "metadata": {},
   "outputs": [
    {
     "name": "stdout",
     "output_type": "stream",
     "text": [
      "     0 \n",
      "    1 1 \n",
      "   2 2 2 \n",
      "  3 3 3 3 \n",
      " 4 4 4 4 4 \n"
     ]
    }
   ],
   "source": [
    "n=5\n",
    "for i in range(n):\n",
    "    for j in range(n-i):\n",
    "        print(\"\",end=\" \")\n",
    "    for j in range(i+1):\n",
    "        print(i,end=\" \")\n",
    "    print()"
   ]
  },
  {
   "cell_type": "code",
   "execution_count": 237,
   "metadata": {},
   "outputs": [
    {
     "name": "stdout",
     "output_type": "stream",
     "text": [
      "     0 \n",
      "    0 1 \n",
      "   0 1 2 \n",
      "  0 1 2 3 \n",
      " 0 1 2 3 4 \n"
     ]
    }
   ],
   "source": [
    "n=5\n",
    "for i in range(n):\n",
    "    for j in range(n-i):\n",
    "        print(\"\",end=\" \")\n",
    "    for j in range(i+1):\n",
    "        print(j,end=\" \")\n",
    "    print()"
   ]
  },
  {
   "cell_type": "code",
   "execution_count": null,
   "metadata": {},
   "outputs": [
    {
     "name": "stdout",
     "output_type": "stream",
     "text": [
      " 0 0 0 0 0 \n",
      "  1 1 1 1 \n",
      "   2 2 2 \n",
      "    3 3 \n",
      "     4 \n"
     ]
    }
   ],
   "source": [
    "n=5\n",
    "for i in range(n):\n",
    "    for j in range(i+1):\n",
    "        print(\"\",end=\" \")\n",
    "    for j in range(n-i):\n",
    "        print(i,end=\" \")  \n",
    "    print()"
   ]
  },
  {
   "cell_type": "code",
   "execution_count": 241,
   "metadata": {},
   "outputs": [
    {
     "name": "stdout",
     "output_type": "stream",
     "text": [
      " 0 1 2 3 4 \n",
      "  0 1 2 3 \n",
      "   0 1 2 \n",
      "    0 1 \n",
      "     0 \n"
     ]
    }
   ],
   "source": [
    "n=5\n",
    "for i in range(n):\n",
    "    for j in range(i+1):\n",
    "        print(\"\",end=\" \")\n",
    "    for j in range(n-i):\n",
    "        print(j,end=\" \")  \n",
    "    print()"
   ]
  },
  {
   "cell_type": "code",
   "execution_count": 333,
   "metadata": {},
   "outputs": [
    {
     "name": "stdout",
     "output_type": "stream",
     "text": [
      "     0 \n",
      "    1 1 \n",
      "   2 2 2 \n",
      "  3 3 3 3 \n",
      " 4 4 4 4 4 \n",
      "5 5 5 5 5 5 \n",
      " 5 5 5 5 5 \n",
      "  6 6 6 6 \n",
      "   7 7 7 \n",
      "    8 8 \n",
      "     9 \n"
     ]
    }
   ],
   "source": [
    "n=5\n",
    "for i in range(n+1):\n",
    "    for j in range(n-i):\n",
    "        print(\"\",end=\" \")\n",
    "    for j in range(i+1):\n",
    "        print(i,end=\" \")\n",
    "    print()\n",
    "n=5\n",
    "for i in range(n):\n",
    "    for j in range(i+1):\n",
    "        print(\"\",end=\" \")\n",
    "    for j in range(n-i):\n",
    "        print(i+n,end=\" \")  \n",
    "    print()"
   ]
  },
  {
   "cell_type": "code",
   "execution_count": 337,
   "metadata": {},
   "outputs": [
    {
     "name": "stdout",
     "output_type": "stream",
     "text": [
      "{'chethan': 1, 'kumar': 2, 'sai': 3, 'kiran': 4}\n"
     ]
    }
   ],
   "source": [
    "name=[\"chethan\",\"kumar\",\"sai\",\"kiran\"]\n",
    "Id=[1,2,3,4]\n",
    "Myemp=dict(zip(name,Id))\n",
    "print(Myemp)"
   ]
  },
  {
   "cell_type": "code",
   "execution_count": 338,
   "metadata": {},
   "outputs": [
    {
     "name": "stdout",
     "output_type": "stream",
     "text": [
      "{'A': 1, 'B': 2, 'C': 3, 'D': 4}\n"
     ]
    }
   ],
   "source": [
    "name=[\"A\",\"B\",\"C\",\"D\"]\n",
    "Id=[1,2,3,4]\n",
    "Myemp=dict(zip(name,Id))\n",
    "print(Myemp)\n"
   ]
  },
  {
   "cell_type": "markdown",
   "metadata": {},
   "source": [
    "#### 5 . Create a function that reverses a given string and replaces the characters at odd positions with the character '*’."
   ]
  },
  {
   "cell_type": "code",
   "execution_count": 345,
   "metadata": {},
   "outputs": [
    {
     "name": "stdout",
     "output_type": "stream",
     "text": [
      "r*m*k*n*t*h*\n"
     ]
    }
   ],
   "source": [
    "def fun(String):\n",
    "    Str=list(String[::-1])\n",
    "    for i in range(len(Str)):\n",
    "        if i %2!=0:\n",
    "            Str[i]=\"*\"\n",
    "    res=\"\".join(Str)   \n",
    "    print(res)\n",
    "Name=\"Chetan kumar\"\n",
    "fun(Name)"
   ]
  },
  {
   "cell_type": "code",
   "execution_count": 349,
   "metadata": {},
   "outputs": [
    {
     "name": "stdout",
     "output_type": "stream",
     "text": [
      "n*h*y* *l*e*\n"
     ]
    }
   ],
   "source": [
    "\n",
    "def fun(Txt):\n",
    "    List=list(txt[::-1])\n",
    "    for i in range(len(List)):\n",
    "        if i%2!=0:\n",
    "            List[i]=\"*\"\n",
    "        result=\"\".join(List)\n",
    "    print(result)\n",
    "txt=\" ello python\"\n",
    "fun(txt)\n"
   ]
  },
  {
   "cell_type": "code",
   "execution_count": 354,
   "metadata": {},
   "outputs": [
    {
     "name": "stdout",
     "output_type": "stream",
     "text": [
      "himynameischethankumariamformgadwal\n",
      "iyaeshtakmrafrgda\n"
     ]
    }
   ],
   "source": [
    "txt=\"hi my name is chethankumar i am form gadwal\"\n",
    "repl=txt.replace(\" \",\"\")\n",
    "print(repl)\n",
    "str=\"\"\n",
    "for i in range(len(repl)):\n",
    "    if i%2!=0:\n",
    "        str+=repl[i]\n",
    "print(str)"
   ]
  },
  {
   "cell_type": "markdown",
   "metadata": {},
   "source": [
    "#### 6.  Print squares of the first 10 multiples of 5 using lambda function. "
   ]
  },
  {
   "cell_type": "code",
   "execution_count": 355,
   "metadata": {},
   "outputs": [
    {
     "ename": "SyntaxError",
     "evalue": "invalid syntax (3821039040.py, line 3)",
     "output_type": "error",
     "traceback": [
      "\u001b[1;36m  Cell \u001b[1;32mIn[355], line 3\u001b[1;36m\u001b[0m\n\u001b[1;33m    mul=int(for i in range(n) n*i )\u001b[0m\n\u001b[1;37m            ^\u001b[0m\n\u001b[1;31mSyntaxError\u001b[0m\u001b[1;31m:\u001b[0m invalid syntax\n"
     ]
    }
   ],
   "source": [
    "n=5\n",
    "\n",
    "mul=int(for i in range(n) n*i )\n",
    "print(mul)"
   ]
  },
  {
   "cell_type": "code",
   "execution_count": 371,
   "metadata": {},
   "outputs": [
    {
     "name": "stdout",
     "output_type": "stream",
     "text": [
      "25\n",
      "100\n",
      "225\n",
      "400\n",
      "625\n",
      "900\n",
      "1225\n",
      "1600\n",
      "2025\n",
      "2500\n"
     ]
    }
   ],
   "source": [
    "\n",
    "def fun(n):\n",
    "    for i in range(1,l+1):\n",
    "        re=lambda a,i:(a*i)**2\n",
    "        print(re(a,i))\n",
    "a=5\n",
    "l=10\n",
    "fun(a)"
   ]
  },
  {
   "cell_type": "code",
   "execution_count": 363,
   "metadata": {},
   "outputs": [
    {
     "name": "stdout",
     "output_type": "stream",
     "text": [
      "25\n",
      "100\n",
      "225\n",
      "400\n",
      "625\n",
      "900\n",
      "1225\n",
      "1600\n",
      "2025\n",
      "2500\n"
     ]
    }
   ],
   "source": [
    "def fun():\n",
    "    multiples_of_5 = list(map(lambda x: (x * 5) ** 2, range(1, 11)))\n",
    "    for value in multiples_of_5:\n",
    "        print(value)\n",
    "\n",
    "fun()\n"
   ]
  },
  {
   "cell_type": "code",
   "execution_count": 373,
   "metadata": {},
   "outputs": [
    {
     "name": "stdout",
     "output_type": "stream",
     "text": [
      "[5, 10, 15, 20, 25, 30, 35, 40, 45, 50]\n",
      "[25, 100, 225, 400, 625, 900, 1225, 1600, 2025, 2500]\n"
     ]
    }
   ],
   "source": [
    "mul=[5*i for i in range(1,11)]\n",
    "print(mul)\n",
    "sq=list(map(lambda x:x**2,mul))\n",
    "print(sq)"
   ]
  },
  {
   "cell_type": "markdown",
   "metadata": {},
   "source": [
    "#### 7 . Given a list of elements list_1 = [‘bob’,’alice’,’john’,’jack’,’alice’,’jack’,’bob’,’john’]. Among the elements present in the list if any of the elements contains vowels. Remove the vowels and have the elements in another list named list_2.(Embed it in a function), And also Removing duplicates from the list, and there by having only a unique values.\n"
   ]
  },
  {
   "cell_type": "code",
   "execution_count": 378,
   "metadata": {},
   "outputs": [
    {
     "name": "stdout",
     "output_type": "stream",
     "text": [
      "['bb', 'lc', 'jhn', 'jck', 'lc', 'jck', 'bb', 'jhn']\n",
      "{'bb', 'jck', 'jhn', 'lc'}\n"
     ]
    }
   ],
   "source": [
    "list1=['bob','alice','john','jack','alice','jack','bob','john']\n",
    "Vo=\"aeiove\"\n",
    "list2=[]\n",
    "for i in list1:\n",
    "    on_vo=\"\".join([char for char in i if char not in Vo])\n",
    "    list2.append(on_vo)\n",
    "print(list2)\n",
    "print(set(list2))"
   ]
  },
  {
   "cell_type": "code",
   "execution_count": 380,
   "metadata": {},
   "outputs": [
    {
     "name": "stdout",
     "output_type": "stream",
     "text": [
      "{'bb', 'jck', 'jhn', 'lc'}\n"
     ]
    }
   ],
   "source": [
    "list1=['bob','alice','john','jack','alice','jack','bob','john']\n",
    "vo=\"aeiou\"\n",
    "list2=[]\n",
    "for i in list1:\n",
    "    no_vo=\"\".join([char for char in i if char not in vo])\n",
    "    list2.append(no_vo)\n",
    "print(set(list2))"
   ]
  },
  {
   "cell_type": "code",
   "execution_count": 458,
   "metadata": {},
   "outputs": [
    {
     "name": "stdout",
     "output_type": "stream",
     "text": [
      "['bob', 'alice', 'john', 'jack', 'alice', 'jack', 'bob', 'john']\n",
      "{'bb', 'jck', 'jhn', 'lc'}\n"
     ]
    }
   ],
   "source": [
    "list1=['BOb','aLice','John','jack','alice','jack','bob','john']\n",
    "Newlist=[]\n",
    "for i in list1:\n",
    "    small=i.lower()\n",
    "    Newlist.append(small)\n",
    "print(Newlist)\n",
    "\n",
    "vo=\"aeiou\"\n",
    "list2=[]\n",
    "\n",
    "for i in Newlist:\n",
    "    no_vo=\"\".join([char for char in i if char not in vo])\n",
    "    list2.append(no_vo)\n",
    "print(set(list2))"
   ]
  },
  {
   "cell_type": "markdown",
   "metadata": {},
   "source": [
    "#### 8 . Create a function that prints the number ending with ‘1’ for prime numbers from 1 to 100. Print the answer in a list.\n"
   ]
  },
  {
   "cell_type": "code",
   "execution_count": null,
   "metadata": {},
   "outputs": [
    {
     "name": "stdout",
     "output_type": "stream",
     "text": [
      "prime\n"
     ]
    }
   ],
   "source": [
    "num=97\n",
    "if num<2:\n",
    "    print(\"not prime\")\n",
    "for i in range(2,num):\n",
    "    if num%i==0:\n",
    "        print(\"not prime\")\n",
    "        break\n",
    "else:\n",
    "    print(\"prime\")\n"
   ]
  },
  {
   "cell_type": "code",
   "execution_count": 430,
   "metadata": {},
   "outputs": [
    {
     "name": "stdout",
     "output_type": "stream",
     "text": [
      "not prime\n"
     ]
    }
   ],
   "source": [
    "num=98\n",
    "if num<2:\n",
    "    print(\"not prime\")\n",
    "else:\n",
    "    for i in range(2,num):\n",
    "        if num%i==0:\n",
    "            print(\"not prime\")\n",
    "            break\n",
    "    else:\n",
    "        print(\"prime\")"
   ]
  },
  {
   "cell_type": "code",
   "execution_count": 450,
   "metadata": {},
   "outputs": [
    {
     "name": "stdout",
     "output_type": "stream",
     "text": [
      "[2, 3, 5, 7, 11, 13, 17, 19, 23, 29, 31, 37, 41, 43, 47, 53, 59, 61, 67, 71, 73, 79, 83, 89, 97]\n"
     ]
    },
    {
     "ename": "TypeError",
     "evalue": "'str' object is not callable",
     "output_type": "error",
     "traceback": [
      "\u001b[1;31m---------------------------------------------------------------------------\u001b[0m",
      "\u001b[1;31mTypeError\u001b[0m                                 Traceback (most recent call last)",
      "Cell \u001b[1;32mIn[450], line 16\u001b[0m\n\u001b[0;32m     14\u001b[0m newlist1\u001b[38;5;241m=\u001b[39m[]\n\u001b[0;32m     15\u001b[0m \u001b[38;5;28;01mfor\u001b[39;00m i \u001b[38;5;129;01min\u001b[39;00m \u001b[38;5;28mrange\u001b[39m(\u001b[38;5;28mlen\u001b[39m(List)):\n\u001b[1;32m---> 16\u001b[0m     \u001b[38;5;28;01mif\u001b[39;00m \u001b[38;5;28;43mstr\u001b[39;49m\u001b[43m(\u001b[49m\u001b[43mList\u001b[49m\u001b[43m[\u001b[49m\u001b[43mi\u001b[49m\u001b[43m]\u001b[49m\u001b[43m)\u001b[49m\u001b[38;5;241m.\u001b[39mendswith(\u001b[38;5;124m'\u001b[39m\u001b[38;5;124m1\u001b[39m\u001b[38;5;124m'\u001b[39m):\n\u001b[0;32m     17\u001b[0m         newlist1\u001b[38;5;241m.\u001b[39mappend(List[i])\n\u001b[0;32m     18\u001b[0m \u001b[38;5;28mprint\u001b[39m(newlist1)\n",
      "\u001b[1;31mTypeError\u001b[0m: 'str' object is not callable"
     ]
    }
   ],
   "source": [
    "num=100\n",
    "List=[]\n",
    "for i in range(1,num+1):\n",
    "    if i <2:\n",
    "        continue\n",
    "    else:\n",
    "        for j in range(2,i):\n",
    "            if i%j==0:\n",
    "                break\n",
    "        else:\n",
    "            List.append(i)\n",
    "print(List)\n",
    "\n",
    "newlist1=[]\n",
    "for i in range(len(List)):\n",
    "    if str(List[i]).endswith('1'):\n",
    "        newlist1.append(List[i])\n",
    "print(newlist1)\n",
    "    "
   ]
  },
  {
   "cell_type": "code",
   "execution_count": 462,
   "metadata": {},
   "outputs": [
    {
     "data": {
      "image/png": "[encoded data removed]",
      "text/plain": [
       "<Figure size 640x480 with 1 Axes>"
      ]
     },
     "metadata": {},
     "output_type": "display_data"
    }
   ],
   "source": [
    "import matplotlib.pyplot as plt\n",
    "\n",
    "# Sample data\n",
    "x = [1, 2, 3, 4, 5]\n",
    "y = [2, 4, 6, 8, 10]\n",
    "\n",
    "# Create a line graph\n",
    "plt.plot(x, y, marker='o', linestyle='-', color='b', label='Line 1')\n",
    "\n",
    "# Add title and labels\n",
    "plt.title('Basic Line Graph')\n",
    "plt.xlabel('X-axis Label')\n",
    "plt.ylabel('Y-axis Label')\n",
    "\n",
    "# Add a legend\n",
    "plt.legend()\n",
    "\n",
    "# Show the graph\n",
    "plt.show()\n"
   ]
  },
  {
   "cell_type": "code",
   "execution_count": 463,
   "metadata": {},
   "outputs": [
    {
     "data": {
      "image/png": "[encoded data removed]",
      "text/plain": [
       "<Figure size 640x480 with 1 Axes>"
      ]
     },
     "metadata": {},
     "output_type": "display_data"
    }
   ],
   "source": [
    "import matplotlib.pyplot as plt\n",
    "\n",
    "# Sample data\n",
    "categories = ['A', 'B', 'C', 'D', 'E']\n",
    "values = [5, 7, 3, 8, 6]\n",
    "\n",
    "# Create a bar graph\n",
    "plt.bar(categories, values, color='green')\n",
    "\n",
    "# Add title and labels\n",
    "plt.title('Basic Bar Graph')\n",
    "plt.xlabel('Categories')\n",
    "plt.ylabel('Values')\n",
    "\n",
    "# Show the graph\n",
    "plt.show()\n"
   ]
  },
  {
   "cell_type": "code",
   "execution_count": 464,
   "metadata": {},
   "outputs": [
    {
     "data": {
      "image/png": "[encoded data removed]",
      "text/plain": [
       "<Figure size 640x480 with 1 Axes>"
      ]
     },
     "metadata": {},
     "output_type": "display_data"
    }
   ],
   "source": [
    "import matplotlib.pyplot as plt\n",
    "\n",
    "# Sample data\n",
    "x = [1, 2, 3, 4, 5, 6, 7, 8, 9, 10]\n",
    "y = [2, 3, 5, 7, 11, 13, 17, 19, 23, 29]\n",
    "\n",
    "# Create a scatter plot\n",
    "plt.scatter(x, y, color='red', label='Data Points')\n",
    "\n",
    "# Add title and labels\n",
    "plt.title('Basic Scatter Plot')\n",
    "plt.xlabel('X-axis Label')\n",
    "plt.ylabel('Y-axis Label')\n",
    "\n",
    "# Add a legend\n",
    "plt.legend()\n",
    "\n",
    "# Show the graph\n",
    "plt.show()\n"
   ]
  },
  {
   "cell_type": "code",
   "execution_count": 465,
   "metadata": {},
   "outputs": [
    {
     "data": {
      "image/png": "[encoded data removed]",
      "text/plain": [
       "<Figure size 640x480 with 1 Axes>"
      ]
     },
     "metadata": {},
     "output_type": "display_data"
    }
   ],
   "source": [
    "import matplotlib.pyplot as plt\n",
    "import numpy as np\n",
    "\n",
    "# Sample data\n",
    "data = np.random.normal(0, 1, 1000)\n",
    "\n",
    "# Create a histogram\n",
    "plt.hist(data, bins=30, color='purple', edgecolor='black')\n",
    "\n",
    "# Add title and labels\n",
    "plt.title('Basic Histogram')\n",
    "plt.xlabel('Value')\n",
    "plt.ylabel('Frequency')\n",
    "\n",
    "# Show the graph\n",
    "plt.show()\n"
   ]
  },
  {
   "cell_type": "code",
   "execution_count": 467,
   "metadata": {},
   "outputs": [
    {
     "name": "stdout",
     "output_type": "stream",
     "text": [
      "Collecting seaborn\n",
      "  Downloading seaborn-0.13.2-py3-none-any.whl.metadata (5.4 kB)\n",
      "Requirement already satisfied: matplotlib in c:\\users\\chilu\\appdata\\local\\programs\\python\\python313\\lib\\site-packages (3.10.1)\n",
      "Requirement already satisfied: pandas in c:\\users\\chilu\\appdata\\local\\programs\\python\\python313\\lib\\site-packages (2.2.3)\n",
      "Requirement already satisfied: numpy!=1.24.0,>=1.20 in c:\\users\\chilu\\appdata\\local\\programs\\python\\python313\\lib\\site-packages (from seaborn) (2.2.1)\n",
      "Requirement already satisfied: contourpy>=1.0.1 in c:\\users\\chilu\\appdata\\local\\programs\\python\\python313\\lib\\site-packages (from matplotlib) (1.3.1)\n",
      "Requirement already satisfied: cycler>=0.10 in c:\\users\\chilu\\appdata\\local\\programs\\python\\python313\\lib\\site-packages (from matplotlib) (0.12.1)\n",
      "Requirement already satisfied: fonttools>=4.22.0 in c:\\users\\chilu\\appdata\\local\\programs\\python\\python313\\lib\\site-packages (from matplotlib) (4.56.0)\n",
      "Requirement already satisfied: kiwisolver>=1.3.1 in c:\\users\\chilu\\appdata\\local\\programs\\python\\python313\\lib\\site-packages (from matplotlib) (1.4.8)\n",
      "Requirement already satisfied: packaging>=20.0 in c:\\users\\chilu\\appdata\\local\\programs\\python\\python313\\lib\\site-packages (from matplotlib) (24.2)\n",
      "Requirement already satisfied: pillow>=8 in c:\\users\\chilu\\appdata\\local\\programs\\python\\python313\\lib\\site-packages (from matplotlib) (11.1.0)\n",
      "Requirement already satisfied: pyparsing>=2.3.1 in c:\\users\\chilu\\appdata\\local\\programs\\python\\python313\\lib\\site-packages (from matplotlib) (3.2.1)\n",
      "Requirement already satisfied: python-dateutil>=2.7 in c:\\users\\chilu\\appdata\\local\\programs\\python\\python313\\lib\\site-packages (from matplotlib) (2.9.0.post0)\n",
      "Requirement already satisfied: pytz>=2020.1 in c:\\users\\chilu\\appdata\\local\\programs\\python\\python313\\lib\\site-packages (from pandas) (2024.2)\n",
      "Requirement already satisfied: tzdata>=2022.7 in c:\\users\\chilu\\appdata\\local\\programs\\python\\python313\\lib\\site-packages (from pandas) (2024.2)\n",
      "Requirement already satisfied: six>=1.5 in c:\\users\\chilu\\appdata\\local\\programs\\python\\python313\\lib\\site-packages (from python-dateutil>=2.7->matplotlib) (1.16.0)\n",
      "Downloading seaborn-0.13.2-py3-none-any.whl (294 kB)\n",
      "Installing collected packages: seaborn\n",
      "Successfully installed seaborn-0.13.2\n",
      "Note: you may need to restart the kernel to use updated packages.\n"
     ]
    },
    {
     "name": "stderr",
     "output_type": "stream",
     "text": [
      "\n",
      "[notice] A new release of pip is available: 24.2 -> 25.0.1\n",
      "[notice] To update, run: python.exe -m pip install --upgrade pip\n"
     ]
    }
   ],
   "source": [
    "pip install seaborn matplotlib pandas\n"
   ]
  },
  {
   "cell_type": "code",
   "execution_count": 466,
   "metadata": {},
   "outputs": [
    {
     "ename": "ModuleNotFoundError",
     "evalue": "No module named 'seaborn'",
     "output_type": "error",
     "traceback": [
      "\u001b[1;31m---------------------------------------------------------------------------\u001b[0m",
      "\u001b[1;31mModuleNotFoundError\u001b[0m                       Traceback (most recent call last)",
      "Cell \u001b[1;32mIn[466], line 1\u001b[0m\n\u001b[1;32m----> 1\u001b[0m \u001b[38;5;28;01mimport\u001b[39;00m \u001b[38;5;21;01mseaborn\u001b[39;00m \u001b[38;5;28;01mas\u001b[39;00m \u001b[38;5;21;01msns\u001b[39;00m\n\u001b[0;32m      2\u001b[0m \u001b[38;5;28;01mimport\u001b[39;00m \u001b[38;5;21;01mmatplotlib\u001b[39;00m\u001b[38;5;21;01m.\u001b[39;00m\u001b[38;5;21;01mpyplot\u001b[39;00m \u001b[38;5;28;01mas\u001b[39;00m \u001b[38;5;21;01mplt\u001b[39;00m\n\u001b[0;32m      3\u001b[0m \u001b[38;5;28;01mimport\u001b[39;00m \u001b[38;5;21;01mpandas\u001b[39;00m \u001b[38;5;28;01mas\u001b[39;00m \u001b[38;5;21;01mpd\u001b[39;00m\n",
      "\u001b[1;31mModuleNotFoundError\u001b[0m: No module named 'seaborn'"
     ]
    }
   ],
   "source": [
    "import seaborn as sns\n",
    "import matplotlib.pyplot as plt\n",
    "import pandas as pd\n",
    "import numpy as np\n",
    "\n",
    "# Sample data\n",
    "data = {\n",
    "    'A': np.random.rand(100),\n",
    "    'B': np.random.rand(100),\n",
    "    'C': np.random.rand(100),\n",
    "    'D': np.random.rand(100)\n",
    "}\n",
    "\n",
    "# Create a DataFrame\n",
    "df = pd.DataFrame(data)\n",
    "\n",
    "# Calculate the correlation matrix\n",
    "correlation_matrix = df.corr()\n",
    "\n",
    "# Create a heatmap\n",
    "sns.heatmap(correlation_matrix, annot=True, cmap='coolwarm', linewidths=0.5)\n",
    "\n",
    "# Add title and labels\n",
    "plt.title('Correlation Matrix Heatmap')\n",
    "plt.xlabel('Features')\n",
    "plt.ylabel('Features')\n",
    "\n",
    "# Show the graph\n",
    "plt.show()\n"
   ]
  },
  {
   "cell_type": "code",
   "execution_count": 476,
   "metadata": {},
   "outputs": [
    {
     "name": "stdout",
     "output_type": "stream",
     "text": [
      "88\n",
      "2\n"
     ]
    }
   ],
   "source": [
    "li=[2,43,6,88,6,43,7]\n",
    "print(max(li))\n",
    "print(min(li))"
   ]
  },
  {
   "cell_type": "code",
   "execution_count": 487,
   "metadata": {},
   "outputs": [
    {
     "name": "stdout",
     "output_type": "stream",
     "text": [
      "9\n"
     ]
    }
   ],
   "source": [
    "List=[1,2,3,4,5,6,7,8,9]\n",
    "newli=List[0]\n",
    "for i in List:\n",
    "    if newli<i:\n",
    "        newli=i \n",
    "print(newli)"
   ]
  },
  {
   "cell_type": "code",
   "execution_count": 499,
   "metadata": {},
   "outputs": [
    {
     "name": "stdout",
     "output_type": "stream",
     "text": [
      "PYHTON\n",
      "<class 'str'>\n"
     ]
    },
    {
     "ename": "TypeError",
     "evalue": "'list' object is not callable",
     "output_type": "error",
     "traceback": [
      "\u001b[1;31m---------------------------------------------------------------------------\u001b[0m",
      "\u001b[1;31mTypeError\u001b[0m                                 Traceback (most recent call last)",
      "Cell \u001b[1;32mIn[499], line 6\u001b[0m\n\u001b[0;32m      3\u001b[0m \u001b[38;5;28mprint\u001b[39m(String)\n\u001b[0;32m      4\u001b[0m \u001b[38;5;28mprint\u001b[39m(\u001b[38;5;28mtype\u001b[39m(String))\n\u001b[1;32m----> 6\u001b[0m List1\u001b[38;5;241m=\u001b[39m\u001b[38;5;28;43mlist\u001b[39;49m\u001b[43m(\u001b[49m\u001b[43mString\u001b[49m\u001b[43m)\u001b[49m\n\u001b[0;32m      7\u001b[0m \u001b[38;5;28mprint\u001b[39m(List1)\n",
      "\u001b[1;31mTypeError\u001b[0m: 'list' object is not callable"
     ]
    }
   ],
   "source": [
    "Newlist=[\"P\",\"Y\",\"H\",\"T\",\"O\",\"N\"]\n",
    "String=\"\".join(Newlist)\n",
    "print(String)\n",
    "print(type(String))\n",
    "\n",
    "List1=list(String)\n",
    "print(List1)"
   ]
  },
  {
   "cell_type": "code",
   "execution_count": 501,
   "metadata": {},
   "outputs": [
    {
     "name": "stdout",
     "output_type": "stream",
     "text": [
      "PYHTON\n",
      "<class 'str'>\n"
     ]
    },
    {
     "ename": "TypeError",
     "evalue": "'list' object is not callable",
     "output_type": "error",
     "traceback": [
      "\u001b[1;31m---------------------------------------------------------------------------\u001b[0m",
      "\u001b[1;31mTypeError\u001b[0m                                 Traceback (most recent call last)",
      "Cell \u001b[1;32mIn[501], line 6\u001b[0m\n\u001b[0;32m      3\u001b[0m \u001b[38;5;28mprint\u001b[39m(String)  \u001b[38;5;66;03m# Print the string\u001b[39;00m\n\u001b[0;32m      4\u001b[0m \u001b[38;5;28mprint\u001b[39m(\u001b[38;5;28mtype\u001b[39m(String))  \u001b[38;5;66;03m# Print the type of the string\u001b[39;00m\n\u001b[1;32m----> 6\u001b[0m List1 \u001b[38;5;241m=\u001b[39m \u001b[38;5;28;43mlist\u001b[39;49m\u001b[43m(\u001b[49m\u001b[43mString\u001b[49m\u001b[43m)\u001b[49m  \u001b[38;5;66;03m# Convert the string into a list of characters\u001b[39;00m\n\u001b[0;32m      7\u001b[0m \u001b[38;5;28mprint\u001b[39m(List1)  \u001b[38;5;66;03m# Print the list of characters\u001b[39;00m\n",
      "\u001b[1;31mTypeError\u001b[0m: 'list' object is not callable"
     ]
    }
   ],
   "source": [
    "Newlist = [\"P\", \"Y\", \"H\", \"T\", \"O\", \"N\"]\n",
    "String = \"\".join(Newlist)  # Join the list elements into a string\n",
    "print(String)  # Print the string\n",
    "print(type(String))  # Print the type of the string\n",
    "\n",
    "List1 = list(String)  # Convert the string into a list of characters\n",
    "print(List1)  # Print the list of characters\n"
   ]
  },
  {
   "cell_type": "code",
   "execution_count": 502,
   "metadata": {},
   "outputs": [
    {
     "name": "stdout",
     "output_type": "stream",
     "text": [
      "PYHTON\n",
      "<class 'str'>\n"
     ]
    },
    {
     "ename": "TypeError",
     "evalue": "'list' object is not callable",
     "output_type": "error",
     "traceback": [
      "\u001b[1;31m---------------------------------------------------------------------------\u001b[0m",
      "\u001b[1;31mTypeError\u001b[0m                                 Traceback (most recent call last)",
      "Cell \u001b[1;32mIn[502], line 7\u001b[0m\n\u001b[0;32m      4\u001b[0m \u001b[38;5;28mprint\u001b[39m(\u001b[38;5;28mtype\u001b[39m(String))  \u001b[38;5;66;03m# Print the type of the string\u001b[39;00m\n\u001b[0;32m      6\u001b[0m \u001b[38;5;66;03m# Ensure you're not overwriting the list function, so use a different variable name\u001b[39;00m\n\u001b[1;32m----> 7\u001b[0m List1 \u001b[38;5;241m=\u001b[39m \u001b[38;5;28;43mlist\u001b[39;49m\u001b[43m(\u001b[49m\u001b[43mString\u001b[49m\u001b[43m)\u001b[49m  \u001b[38;5;66;03m# Convert the string into a list of characters\u001b[39;00m\n\u001b[0;32m      8\u001b[0m \u001b[38;5;28mprint\u001b[39m(List1)  \u001b[38;5;66;03m# Print the list of characters\u001b[39;00m\n",
      "\u001b[1;31mTypeError\u001b[0m: 'list' object is not callable"
     ]
    }
   ],
   "source": [
    "Newlist = [\"P\", \"Y\", \"H\", \"T\", \"O\", \"N\"]\n",
    "String = \"\".join(Newlist)  # Join the list elements into a string\n",
    "print(String)  # Print the string\n",
    "print(type(String))  # Print the type of the string\n",
    "\n",
    "# Ensure you're not overwriting the list function, so use a different variable name\n",
    "List1 = list(String)  # Convert the string into a list of characters\n",
    "print(List1)  # Print the list of characters\n"
   ]
  },
  {
   "cell_type": "code",
   "execution_count": 504,
   "metadata": {},
   "outputs": [
    {
     "name": "stdout",
     "output_type": "stream",
     "text": [
      "True\n"
     ]
    }
   ],
   "source": [
    "# anagrams\n",
    "s1=\"Listen\" \n",
    "s2=\"Silent\" \n",
    "Str1=s1.replace(\" \",\"\").upper()\n",
    "Str2=s2.replace(\" \",\"\").upper()\n",
    "if sorted(Str1)==sorted(Str2):\n",
    "    print(True)\n",
    "else:\n",
    "    print(False)"
   ]
  },
  {
   "cell_type": "code",
   "execution_count": 506,
   "metadata": {},
   "outputs": [
    {
     "name": "stdout",
     "output_type": "stream",
     "text": [
      "5\n",
      "20\n",
      "6\n"
     ]
    },
    {
     "name": "stderr",
     "output_type": "stream",
     "text": [
      "<>:5: SyntaxWarning: invalid escape sequence '\\s'\n",
      "<>:5: SyntaxWarning: invalid escape sequence '\\s'\n",
      "C:\\Users\\chilu\\AppData\\Local\\Temp\\ipykernel_36268\\3765166181.py:5: SyntaxWarning: invalid escape sequence '\\s'\n",
      "  spaceCount=re.findall(\"[ \\s]\",name)\n"
     ]
    }
   ],
   "source": [
    "import re\n",
    "name=\"Chethan kumar @ gamil . com 34345\"\n",
    "digitCount=re.sub(\"[^0-9]\",\"\",name)\n",
    "letterCount=re.sub(\"[^a-zA-Z]\",\"\",name)\n",
    "spaceCount=re.findall(\"[ \\s]\",name)\n",
    "\n",
    "print(len(digitCount))\n",
    "print(len(letterCount))\n",
    "print(len(spaceCount))"
   ]
  },
  {
   "cell_type": "code",
   "execution_count": 507,
   "metadata": {},
   "outputs": [
    {
     "name": "stdout",
     "output_type": "stream",
     "text": [
      "33\n",
      "20\n",
      "6\n"
     ]
    },
    {
     "name": "stderr",
     "output_type": "stream",
     "text": [
      "<>:5: SyntaxWarning: invalid escape sequence '\\s'\n",
      "<>:5: SyntaxWarning: invalid escape sequence '\\s'\n",
      "C:\\Users\\chilu\\AppData\\Local\\Temp\\ipykernel_36268\\449208771.py:5: SyntaxWarning: invalid escape sequence '\\s'\n",
      "  s=re.findall(\"[ \\s]\",name)\n"
     ]
    }
   ],
   "source": [
    "import re\n",
    "name=\"Chethan kumar @ gamil . com 34345\"\n",
    "d=re.sub(\"^[0-9]\",\"\",name)\n",
    "l=re.sub(\"[^a-zA-Z]\",\"\",name)\n",
    "s=re.findall(\"[ \\s]\",name)\n",
    "\n",
    "print(len(d))\n",
    "print(len(l))\n",
    "print(len(s))"
   ]
  },
  {
   "cell_type": "code",
   "execution_count": null,
   "metadata": {},
   "outputs": [],
   "source": []
  }
 ],
 "metadata": {
  "kernelspec": {
   "display_name": "Python 3",
   "language": "python",
   "name": "python3"
  },
  "language_info": {
   "codemirror_mode": {
    "name": "ipython",
    "version": 3
   },
   "file_extension": ".py",
   "mimetype": "text/x-python",
   "name": "python",
   "nbconvert_exporter": "python",
   "pygments_lexer": "ipython3",
   "version": "3.13.0"
  }
 },
 "nbformat": 4,
 "nbformat_minor": 2
}
